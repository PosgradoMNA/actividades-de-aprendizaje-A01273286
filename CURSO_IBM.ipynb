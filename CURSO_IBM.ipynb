{
  "nbformat": 4,
  "nbformat_minor": 0,
  "metadata": {
    "colab": {
      "provenance": [],
      "collapsed_sections": [],
      "authorship_tag": "ABX9TyNlJP02UPS7lBtorNW6Tclb",
      "include_colab_link": true
    },
    "kernelspec": {
      "name": "python3",
      "display_name": "Python 3"
    },
    "language_info": {
      "name": "python"
    }
  },
  "cells": [
    {
      "cell_type": "markdown",
      "metadata": {
        "id": "view-in-github",
        "colab_type": "text"
      },
      "source": [
        "<a href=\"https://colab.research.google.com/github/PosgradoMNA/actividades-de-aprendizaje-A01273286/blob/main/CURSO_IBM.ipynb\" target=\"_parent\"><img src=\"https://colab.research.google.com/assets/colab-badge.svg\" alt=\"Open In Colab\"/></a>"
      ]
    },
    {
      "cell_type": "markdown",
      "source": [
        "#Modulo 1\n"
      ],
      "metadata": {
        "id": "EXZrw1kQROfF"
      }
    },
    {
      "cell_type": "markdown",
      "source": [
        "Luis Alfonso Sabanero Esquivel \n",
        "A01273286\n",
        "MNA 2022"
      ],
      "metadata": {
        "id": "KebsWYdav24G"
      }
    },
    {
      "cell_type": "code",
      "source": [
        "print(\"Hello World!\")\n",
        "\n",
        "print(\"Hello, world!\")#Print the traditional hello world"
      ],
      "metadata": {
        "colab": {
          "base_uri": "https://localhost:8080/"
        },
        "id": "kTz7dJxrRWVU",
        "outputId": "278a2255-55ac-4a5d-bdb3-c23fd312842a"
      },
      "execution_count": null,
      "outputs": [
        {
          "output_type": "stream",
          "name": "stdout",
          "text": [
            "Hello World!\n",
            "Hello, world!\n"
          ]
        }
      ]
    },
    {
      "cell_type": "code",
      "source": [
        "import sys\n",
        "print(sys.version)"
      ],
      "metadata": {
        "colab": {
          "base_uri": "https://localhost:8080/"
        },
        "id": "Wwdpm4W3dbCc",
        "outputId": "3d3342ec-ec90-4636-e020-6ebe79654fba"
      },
      "execution_count": null,
      "outputs": [
        {
          "output_type": "stream",
          "name": "stdout",
          "text": [
            "3.7.13 (default, Apr 24 2022, 01:04:09) \n",
            "[GCC 7.5.0]\n"
          ]
        }
      ]
    },
    {
      "cell_type": "code",
      "source": [
        "# Practice on writing comments\n",
        "\n",
        "print('Hello, Python!') # This line prints a string\n",
        "# print('Hi')"
      ],
      "metadata": {
        "colab": {
          "base_uri": "https://localhost:8080/"
        },
        "id": "kUJWwWlYfeAo",
        "outputId": "44a93563-67f9-40ca-ae09-d29b72cbcc37"
      },
      "execution_count": null,
      "outputs": [
        {
          "output_type": "stream",
          "name": "stdout",
          "text": [
            "Hello, Python!\n"
          ]
        }
      ]
    },
    {
      "cell_type": "code",
      "source": [
        "# Print string as error message\n",
        "\n",
        "frint(\"Hello, Python!\")"
      ],
      "metadata": {
        "colab": {
          "base_uri": "https://localhost:8080/",
          "height": 214
        },
        "id": "up457MCbgjhO",
        "outputId": "994b042f-d332-4f32-e9f6-a550e7c5fba9"
      },
      "execution_count": null,
      "outputs": [
        {
          "output_type": "error",
          "ename": "NameError",
          "evalue": "ignored",
          "traceback": [
            "\u001b[0;31m---------------------------------------------------------------------------\u001b[0m",
            "\u001b[0;31mNameError\u001b[0m                                 Traceback (most recent call last)",
            "\u001b[0;32m<ipython-input-13-313a1769a8a5>\u001b[0m in \u001b[0;36m<module>\u001b[0;34m\u001b[0m\n\u001b[1;32m      1\u001b[0m \u001b[0;31m# Print string as error message\u001b[0m\u001b[0;34m\u001b[0m\u001b[0;34m\u001b[0m\u001b[0;34m\u001b[0m\u001b[0m\n\u001b[1;32m      2\u001b[0m \u001b[0;34m\u001b[0m\u001b[0m\n\u001b[0;32m----> 3\u001b[0;31m \u001b[0mfrint\u001b[0m\u001b[0;34m(\u001b[0m\u001b[0;34m\"Hello, Python!\"\u001b[0m\u001b[0;34m)\u001b[0m\u001b[0;34m\u001b[0m\u001b[0;34m\u001b[0m\u001b[0m\n\u001b[0m",
            "\u001b[0;31mNameError\u001b[0m: name 'frint' is not defined"
          ]
        }
      ]
    },
    {
      "cell_type": "code",
      "source": [
        "# Try to see built-in error message\n",
        "\n",
        "print(\"Hello, Python!)"
      ],
      "metadata": {
        "colab": {
          "base_uri": "https://localhost:8080/",
          "height": 148
        },
        "id": "O2czhUlCgvtZ",
        "outputId": "6f72076c-0e37-431d-9e09-dcffa0429754"
      },
      "execution_count": null,
      "outputs": [
        {
          "output_type": "error",
          "ename": "SyntaxError",
          "evalue": "ignored",
          "traceback": [
            "\u001b[0;36m  File \u001b[0;32m\"<ipython-input-14-f0b5a635e1a2>\"\u001b[0;36m, line \u001b[0;32m3\u001b[0m\n\u001b[0;31m    print(\"Hello, Python!)\u001b[0m\n\u001b[0m                          ^\u001b[0m\n\u001b[0;31mSyntaxError\u001b[0m\u001b[0;31m:\u001b[0m EOL while scanning string literal\n"
          ]
        }
      ]
    },
    {
      "cell_type": "code",
      "source": [
        "type(int(1.0))\n",
        "type(12.0)\n",
        "type(0.56)"
      ],
      "metadata": {
        "colab": {
          "base_uri": "https://localhost:8080/"
        },
        "id": "0yHCYFPgSQZo",
        "outputId": "2c33071c-d091-4d3a-ac74-6c63b9d7f873"
      },
      "execution_count": null,
      "outputs": [
        {
          "output_type": "execute_result",
          "data": {
            "text/plain": [
              "float"
            ]
          },
          "metadata": {},
          "execution_count": 19
        }
      ]
    },
    {
      "cell_type": "code",
      "source": [
        "type(1.0) # Notice that 1 is an int, and 1.0 is a float\n",
        "sys.float_info"
      ],
      "metadata": {
        "colab": {
          "base_uri": "https://localhost:8080/"
        },
        "id": "Y4QZ8q9ev7L7",
        "outputId": "c6b7de7d-6272-4f00-a71b-fd30898107e2"
      },
      "execution_count": null,
      "outputs": [
        {
          "output_type": "execute_result",
          "data": {
            "text/plain": [
              "sys.float_info(max=1.7976931348623157e+308, max_exp=1024, max_10_exp=308, min=2.2250738585072014e-308, min_exp=-1021, min_10_exp=-307, dig=15, mant_dig=53, epsilon=2.220446049250313e-16, radix=2, rounds=1)"
            ]
          },
          "metadata": {},
          "execution_count": 18
        }
      ]
    },
    {
      "cell_type": "code",
      "source": [
        "type(float(2))"
      ],
      "metadata": {
        "colab": {
          "base_uri": "https://localhost:8080/"
        },
        "id": "m0-VHJkMxDCf",
        "outputId": "957e274e-cda0-41b3-d0de-ef9618956243"
      },
      "execution_count": null,
      "outputs": [
        {
          "output_type": "execute_result",
          "data": {
            "text/plain": [
              "float"
            ]
          },
          "metadata": {},
          "execution_count": 20
        }
      ]
    },
    {
      "cell_type": "code",
      "source": [
        "#Enter the code to convert the number 1 to a Boolean.\n",
        "bool(1)"
      ],
      "metadata": {
        "colab": {
          "base_uri": "https://localhost:8080/"
        },
        "id": "jT7w_4pLSd9o",
        "outputId": "c37a85f4-eec9-4787-b7bb-03ce6c3674e1"
      },
      "execution_count": null,
      "outputs": [
        {
          "output_type": "execute_result",
          "data": {
            "text/plain": [
              "True"
            ]
          },
          "metadata": {},
          "execution_count": 4
        }
      ]
    },
    {
      "cell_type": "code",
      "source": [
        "Numbers = \"0123456\"\n",
        "Numbers[::3]\n",
        "\n",
        "\"0123456\".find('1')"
      ],
      "metadata": {
        "colab": {
          "base_uri": "https://localhost:8080/"
        },
        "id": "Hmn-ncqwbEIi",
        "outputId": "672b53d5-5775-4760-8e36-d38e34ab9af3"
      },
      "execution_count": null,
      "outputs": [
        {
          "output_type": "execute_result",
          "data": {
            "text/plain": [
              "1"
            ]
          },
          "metadata": {},
          "execution_count": 10
        }
      ]
    },
    {
      "cell_type": "code",
      "source": [
        "\"uppercase\"\n",
        "\"uppercase\".upper()"
      ],
      "metadata": {
        "colab": {
          "base_uri": "https://localhost:8080/",
          "height": 58
        },
        "id": "OOmBMRcdXCCS",
        "outputId": "21fcea9f-7ff2-4c27-d31d-9280a521f231"
      },
      "execution_count": null,
      "outputs": [
        {
          "output_type": "execute_result",
          "data": {
            "text/plain": [
              "'UPPERCASE'"
            ],
            "application/vnd.google.colaboratory.intrinsic+json": {
              "type": "string"
            }
          },
          "metadata": {},
          "execution_count": 7
        }
      ]
    },
    {
      "cell_type": "code",
      "source": [
        "Good=\"GsoAo+d\"\n",
        "Good[::2]"
      ],
      "metadata": {
        "colab": {
          "base_uri": "https://localhost:8080/",
          "height": 58
        },
        "id": "8rqeveQtWys7",
        "outputId": "979c3594-21fd-4aaa-8e06-021a5adc458c"
      },
      "execution_count": null,
      "outputs": [
        {
          "output_type": "execute_result",
          "data": {
            "text/plain": [
              "'Good'"
            ],
            "application/vnd.google.colaboratory.intrinsic+json": {
              "type": "string"
            }
          },
          "metadata": {},
          "execution_count": 5
        }
      ]
    },
    {
      "cell_type": "code",
      "source": [
        "Letters=\"ABCDEFGHIJK\"\n",
        "Letters[0:4]"
      ],
      "metadata": {
        "colab": {
          "base_uri": "https://localhost:8080/",
          "height": 58
        },
        "id": "d05-gVyOW800",
        "outputId": "f954dd0c-a59c-49d8-a3aa-aa29f6b751d0"
      },
      "execution_count": null,
      "outputs": [
        {
          "output_type": "execute_result",
          "data": {
            "text/plain": [
              "'ABCD'"
            ],
            "application/vnd.google.colaboratory.intrinsic+json": {
              "type": "string"
            }
          },
          "metadata": {},
          "execution_count": 6
        }
      ]
    },
    {
      "cell_type": "code",
      "source": [
        "type(6/2)"
      ],
      "metadata": {
        "colab": {
          "base_uri": "https://localhost:8080/"
        },
        "id": "uVuak4aMyCOP",
        "outputId": "89c1d01f-6db2-49cc-c3a0-d6e5cfc0c736"
      },
      "execution_count": null,
      "outputs": [
        {
          "output_type": "execute_result",
          "data": {
            "text/plain": [
              "float"
            ]
          },
          "metadata": {},
          "execution_count": 21
        }
      ]
    },
    {
      "cell_type": "code",
      "source": [
        "type(6//2)"
      ],
      "metadata": {
        "colab": {
          "base_uri": "https://localhost:8080/"
        },
        "id": "Ydi7Ww8OyKww",
        "outputId": "ff6248a0-e1ba-4310-8d13-191da23df13c"
      },
      "execution_count": null,
      "outputs": [
        {
          "output_type": "execute_result",
          "data": {
            "text/plain": [
              "int"
            ]
          },
          "metadata": {},
          "execution_count": 22
        }
      ]
    },
    {
      "cell_type": "code",
      "source": [
        "160/60"
      ],
      "metadata": {
        "colab": {
          "base_uri": "https://localhost:8080/"
        },
        "id": "4iFyHAwYzk8P",
        "outputId": "74b47aa2-583a-461c-8832-9236499d4bdf"
      },
      "execution_count": null,
      "outputs": [
        {
          "output_type": "execute_result",
          "data": {
            "text/plain": [
              "2.6666666666666665"
            ]
          },
          "metadata": {},
          "execution_count": 23
        }
      ]
    },
    {
      "cell_type": "markdown",
      "source": [
        "#MODULO 2"
      ],
      "metadata": {
        "id": "r2RfY_WR3icn"
      }
    },
    {
      "cell_type": "code",
      "source": [
        "A=(0,1,2,3)\n",
        "print(A)"
      ],
      "metadata": {
        "colab": {
          "base_uri": "https://localhost:8080/"
        },
        "id": "LfjsCcIO3lEk",
        "outputId": "a1013aa0-1870-4c39-c084-420dd12bd047"
      },
      "execution_count": null,
      "outputs": [
        {
          "output_type": "stream",
          "name": "stdout",
          "text": [
            "(0, 1, 2, 3)\n"
          ]
        }
      ]
    },
    {
      "cell_type": "code",
      "source": [
        "A[:2]"
      ],
      "metadata": {
        "colab": {
          "base_uri": "https://localhost:8080/"
        },
        "id": "tGLZgcRQ4_U1",
        "outputId": "2d380c5b-f93e-4c17-a799-6098bb0a9794"
      },
      "execution_count": null,
      "outputs": [
        {
          "output_type": "execute_result",
          "data": {
            "text/plain": [
              "(0, 1)"
            ]
          },
          "metadata": {},
          "execution_count": 26
        }
      ]
    },
    {
      "cell_type": "code",
      "source": [
        "B=[\"a\",\"b\",\"c\"]\n",
        "B[:2]"
      ],
      "metadata": {
        "colab": {
          "base_uri": "https://localhost:8080/"
        },
        "id": "7bbn_7YL5TtO",
        "outputId": "4e706121-39b4-4b15-c13c-a9c57d178686"
      },
      "execution_count": null,
      "outputs": [
        {
          "output_type": "execute_result",
          "data": {
            "text/plain": [
              "['a', 'b']"
            ]
          },
          "metadata": {},
          "execution_count": 27
        }
      ]
    },
    {
      "cell_type": "code",
      "source": [
        "B[0]=B[0].upper()\n",
        "print(B)"
      ],
      "metadata": {
        "id": "j4o6E9c354YZ"
      },
      "execution_count": null,
      "outputs": []
    },
    {
      "cell_type": "code",
      "source": [
        "S={'A','B','C'}\n",
        "S.add('D')\n",
        "print(S)"
      ],
      "metadata": {
        "id": "vRd5sB3z6ftT"
      },
      "execution_count": null,
      "outputs": []
    },
    {
      "cell_type": "code",
      "source": [
        "a_list=[1,\"hello\",[1,2,3],True]\n",
        "a_list\n",
        "\n",
        "a_list[1]\n",
        "a_list[1:4]\n",
        "\n",
        "A=[1,'a']\n",
        "B=[2,1,'d']\n",
        "A.append(B)\n",
        "A"
      ],
      "metadata": {
        "colab": {
          "base_uri": "https://localhost:8080/",
          "height": 58
        },
        "id": "xwOyt3WaFwQr",
        "outputId": "937a827e-f3a6-415c-ec95-185cdaa5e997"
      },
      "execution_count": null,
      "outputs": [
        {
          "output_type": "execute_result",
          "data": {
            "text/plain": [
              "'hello'"
            ],
            "application/vnd.google.colaboratory.intrinsic+json": {
              "type": "string"
            }
          },
          "metadata": {},
          "execution_count": 28
        }
      ]
    },
    {
      "cell_type": "code",
      "source": [
        "genres_tuple = (\"pop\", \"rock\", \"soul\", \"hard rock\", \"soft rock\", \\\n",
        "                \"R&B\", \"progressive rock\", \"disco\") \n",
        "genres_tuple\n",
        "\n",
        "len(genres_tuple)\n",
        "genres_tuple[3]\n",
        "genres_tuple[3:6]\n",
        "genres_tuple[:2]\n",
        "genres_tuple.index(\"disco\")\n",
        "C_tuple=(-5, 1, -3)\n",
        "sorted(C_tuple)"
      ],
      "metadata": {
        "id": "z0LmVOACImID"
      },
      "execution_count": null,
      "outputs": []
    },
    {
      "cell_type": "code",
      "source": [
        "D={'a':0,'b':1,'c':2}\n",
        "D['a']\n",
        "D.keys()"
      ],
      "metadata": {
        "colab": {
          "base_uri": "https://localhost:8080/"
        },
        "id": "KstA-bdwLu3I",
        "outputId": "794db270-65ea-44ac-e652-0dcf70df7ed6"
      },
      "execution_count": null,
      "outputs": [
        {
          "output_type": "execute_result",
          "data": {
            "text/plain": [
              "0"
            ]
          },
          "metadata": {},
          "execution_count": 29
        }
      ]
    },
    {
      "cell_type": "code",
      "source": [
        "\n",
        "soundtrack_dic = {\"The Bodyguard\":\"1992\", \"Saturday Night Fever\":\"1977\"}\n",
        "soundtrack_dic \n",
        "soundtrack_dic.keys()\n",
        "soundtrack_dic.values()\n",
        "\n",
        "album_sales_dict={\"Back in Black\":50, \"The Bodyguard\":50 , \"Thriller\":65}\n",
        "album_sales_dict[\"Thriller\"]\n",
        "\n",
        "album_sales_dict.keys()\n",
        "album_sales_dict.values()"
      ],
      "metadata": {
        "id": "tJwFbAZlNxnX"
      },
      "execution_count": null,
      "outputs": []
    },
    {
      "cell_type": "markdown",
      "source": [
        "#MODULO 3"
      ],
      "metadata": {
        "id": "SUsG7CPDKE-N"
      }
    },
    {
      "cell_type": "code",
      "source": [
        "i=1\n",
        "i!=0\n",
        "\n",
        "x = 'a'\n",
        "if(x=='a'):\n",
        "    print(\"this is a\")\n",
        "else:\n",
        "    print(\"this is  not a\")\n",
        "\n",
        "y=1\n",
        "x=1\n",
        "x>0 and y<10"
      ],
      "metadata": {
        "colab": {
          "base_uri": "https://localhost:8080/"
        },
        "id": "p6eTg0_aGd0u",
        "outputId": "e1fab572-63ae-43b3-d552-689ba31f6a99"
      },
      "execution_count": null,
      "outputs": [
        {
          "output_type": "stream",
          "name": "stdout",
          "text": [
            "this is a\n"
          ]
        },
        {
          "output_type": "execute_result",
          "data": {
            "text/plain": [
              "True"
            ]
          },
          "metadata": {},
          "execution_count": 1
        }
      ]
    },
    {
      "cell_type": "code",
      "source": [
        "A=[3,4,5]\n",
        "for i in A:\n",
        "    print(i)\n",
        "\n",
        "x=11\n",
        "y=1\n",
        "while(y != x):\n",
        "    print(y)\n",
        "    y=y+1"
      ],
      "metadata": {
        "id": "XQs303rsMz4H"
      },
      "execution_count": null,
      "outputs": []
    },
    {
      "cell_type": "code",
      "source": [
        "for i in range (-4,5):\n",
        "    print(i)\n",
        "\n",
        "Genres=[ 'rock', 'R&B', 'Soundtrack', 'R&B', 'soul', 'pop']\n",
        "\n",
        "for i in Genres:\n",
        "    print(i)\n",
        "\n",
        "squares=['red', 'yellow', 'green', 'purple', 'blue']\n",
        "\n",
        "for i in squares:\n",
        "    print(i)"
      ],
      "metadata": {
        "colab": {
          "base_uri": "https://localhost:8080/"
        },
        "id": "_WwAFAoCRvNt",
        "outputId": "9981b68c-430d-4399-b6f4-2e31072d83c0"
      },
      "execution_count": null,
      "outputs": [
        {
          "output_type": "stream",
          "name": "stdout",
          "text": [
            "-4\n",
            "-3\n",
            "-2\n",
            "-1\n",
            "0\n",
            "1\n",
            "2\n",
            "3\n",
            "4\n",
            "rock\n",
            "R&B\n",
            "Soundtrack\n",
            "R&B\n",
            "soul\n",
            "pop\n",
            "red\n",
            "yellow\n",
            "green\n",
            "purple\n",
            "blue\n"
          ]
        }
      ]
    },
    {
      "cell_type": "code",
      "source": [
        "PlayListRatings = [10, 9.5, 10, 8, 7.5, 5, 10, 10]\n",
        "i=0\n",
        "while i<len(PlayListRatings)-1:\n",
        "    \n",
        "    if PlayListRatings[i]< 6:\n",
        "        break\n",
        "    else:\n",
        "        print(PlayListRatings[i])\n",
        "    i=i+1\n",
        "\n",
        "    "
      ],
      "metadata": {
        "colab": {
          "base_uri": "https://localhost:8080/"
        },
        "id": "NgEj84PqSjFe",
        "outputId": "63aeaa59-694b-4344-8b3e-3cbe63dfb608"
      },
      "execution_count": null,
      "outputs": [
        {
          "output_type": "stream",
          "name": "stdout",
          "text": [
            "10\n",
            "9.5\n",
            "10\n",
            "8\n",
            "7.5\n"
          ]
        }
      ]
    },
    {
      "cell_type": "code",
      "source": [
        "from IPython.core.interactiveshell import no_op\n",
        "squares = ['orange', 'orange', 'purple', 'blue ', 'orange']\n",
        "new_squares = []\n",
        "i=0\n",
        "while i<len(PlayListRatings)-1 and squares[i]==\"orange\":\n",
        "    new_squares.append(squares[i])\n",
        "    i+=1\n",
        "new_squares\n"
      ],
      "metadata": {
        "colab": {
          "base_uri": "https://localhost:8080/"
        },
        "id": "U9F2gNtrTcpS",
        "outputId": "ca491835-dc43-4e00-aa26-c3cace86745d"
      },
      "execution_count": null,
      "outputs": [
        {
          "output_type": "execute_result",
          "data": {
            "text/plain": [
              "['orange', 'orange']"
            ]
          },
          "metadata": {},
          "execution_count": 18
        }
      ]
    },
    {
      "cell_type": "code",
      "source": [
        "def f(a,b):\n",
        "    \n",
        "    return a*b\n",
        "a=4\n",
        "b=2\n",
        "\n",
        "if a*b==f(a,b):   \n",
        "    print(\"Correct.\")   \n",
        "else:    \n",
        "    print(\"Incorrect.\")"
      ],
      "metadata": {
        "id": "ro1s_6iaYOVk"
      },
      "execution_count": null,
      "outputs": []
    },
    {
      "cell_type": "code",
      "source": [
        "def g(c):\n",
        "\n",
        "    return sum(c)\n",
        "\n",
        "c=[1,2,3,4,5]\n",
        "\n",
        "if sum(c)==g(c):   \n",
        "    print(\"Correct.\")   \n",
        "else:    \n",
        "    print(\"Incorrect.\")"
      ],
      "metadata": {
        "id": "bH4TOoWBYT3h"
      },
      "execution_count": null,
      "outputs": []
    },
    {
      "cell_type": "code",
      "source": [
        "class Car(object):\n",
        "    def __init__(self,make,model,color):\n",
        "        self.make=make;\n",
        "        self.model=model;\n",
        "        self.color=color;\n",
        "        self.owner_number=0 \n",
        "    def car_info(self):\n",
        "        print(\"make: \",self.make)\n",
        "        print(\"model:\", self.model)\n",
        "        print(\"color:\",self.color)\n",
        "        print(\"number of owners:\",self.owner_number)\n",
        "    def sell(self):\n",
        "        self.owner_number=self.owner_number+1\n",
        "\n",
        "make=\"BMW\"\n",
        "model=\"M3\"\n",
        "color=\"red\"\n",
        "my_Car=Car(make,model,color)\n",
        "my_Car.car_info()\n",
        "\n",
        "for i in range(5):\n",
        "    my_Car.sell()\n",
        "\n",
        "my_Car.car_info()"
      ],
      "metadata": {
        "colab": {
          "base_uri": "https://localhost:8080/"
        },
        "id": "gR4GmivCbcfj",
        "outputId": "646e5d4b-1a11-44d1-d794-096a7dbc1980"
      },
      "execution_count": null,
      "outputs": [
        {
          "output_type": "stream",
          "name": "stdout",
          "text": [
            "make:  BMW\n",
            "model: M3\n",
            "color: red\n",
            "number of owners: 0\n",
            "make:  BMW\n",
            "model: M3\n",
            "color: red\n",
            "number of owners: 5\n"
          ]
        }
      ]
    },
    {
      "cell_type": "code",
      "source": [
        "from itertools import count\n",
        "class analysedText(object):\n",
        "    \n",
        "    def __init__ (self, text):\n",
        "        puntuacion=[\".\",\"!\",\",\",\"?\"]\n",
        "        for i in puntuacion:\n",
        "            text=text.replace(i,\"\")\n",
        "\n",
        "        self.fmtText=text.lower()\n",
        "        # TODO: Remove the punctuation from <text> and make it lower case.\n",
        "\n",
        "        # TODO: Assign the formatted text to a new attribute called \"fmtText\"\n",
        "        \n",
        "        pass \n",
        "    \n",
        "    def freqAll(self):    \n",
        "        lista=self.fmtText.split()\n",
        "        diccionario={}\n",
        "        for i in lista:\n",
        "            if not(i in diccionario):\n",
        "                diccionario[i]=lista.count(i)\n",
        "        # TODO: Split the text into a list of words  \n",
        "\n",
        "        # TODO: Create a dictionary with the unique words in the text as keys\n",
        "        # and the number of times they occur in the text as values\n",
        "      \n",
        "        return diccionario # return the created dictionary\n",
        "    \n",
        "    def freqOf(self, word):\n",
        "        palabras=self.freqAll()\n",
        "        # TODO: return the number of occurrences of <word> in <fmtText>\n",
        "        #print(palabras[word])\n",
        "        return palabras[word]"
      ],
      "metadata": {
        "id": "0leALOaPeJrH"
      },
      "execution_count": null,
      "outputs": []
    },
    {
      "cell_type": "code",
      "source": [
        "import sys\n",
        "\n",
        "sampleMap = {'eirmod': 1,'sed': 1, 'amet': 2, 'diam': 5, 'consetetur': 1, 'labore': 1, 'tempor': 1, 'dolor': 1, 'magna': 2, 'et': 3, 'nonumy': 1, 'ipsum': 1, 'lorem': 2}\n",
        "\n",
        "def testMsg(passed):\n",
        "    if passed:\n",
        "       return 'Test Passed'\n",
        "    else :\n",
        "       return 'Test Failed'\n",
        "\n",
        "print(\"Constructor: \")\n",
        "try:\n",
        "    samplePassage = analysedText(\"Lorem ipsum dolor! diam amet, consetetur Lorem magna. sed diam nonumy eirmod tempor. diam et labore? et diam magna. et diam amet.\")\n",
        "    print(testMsg(samplePassage.fmtText == \"lorem ipsum dolor diam amet consetetur lorem magna sed diam nonumy eirmod tempor diam et labore et diam magna et diam amet\"))\n",
        "except:\n",
        "    print(\"Error detected. Recheck your function \" )\n",
        "print(\"freqAll: \")\n",
        "try:\n",
        "    wordMap = samplePassage.freqAll()\n",
        "    print(testMsg(wordMap==sampleMap))\n",
        "except:\n",
        "    print(\"Error detected. Recheck your function \" )\n",
        "print(\"freqOf: \")\n",
        "try:\n",
        "    passed = True\n",
        "    for word in sampleMap:\n",
        "        if samplePassage.freqOf(word) != sampleMap[word]:\n",
        "            passed = False\n",
        "            break\n",
        "    print(testMsg(passed))\n",
        "    \n",
        "except:\n",
        "    print(\"Error detected freqof. Recheck your function  \" )\n"
      ],
      "metadata": {
        "colab": {
          "base_uri": "https://localhost:8080/"
        },
        "id": "fP1h7kwujsFJ",
        "outputId": "61e3fae1-c3f6-43fe-abdf-fdc7e77dcf99"
      },
      "execution_count": null,
      "outputs": [
        {
          "output_type": "stream",
          "name": "stdout",
          "text": [
            "Constructor: \n",
            "Test Passed\n",
            "freqAll: \n",
            "Test Passed\n",
            "freqOf: \n",
            "Test Passed\n"
          ]
        }
      ]
    },
    {
      "cell_type": "code",
      "source": [
        "a = 1\n",
        "\n",
        "try:\n",
        "    b = int(input(\"Please enter a number to divide a\"))\n",
        "    a = a/b\n",
        "except ZeroDivisionError:\n",
        "    print(\"The number you provided cant divide 1 because it is 0\")\n",
        "except ValueError:\n",
        "    print(\"You did not provide a number\")\n",
        "except:\n",
        "    print(\"Something went wrong\")\n",
        "else:\n",
        "    print(\"success a=\",a)\n",
        "\n",
        "a = 1\n",
        "\n",
        "try:\n",
        "    b = int(input(\"Please enter a number to divide a\"))\n",
        "    a = a/b\n",
        "except ZeroDivisionError:\n",
        "    print(\"The number you provided cant divide 1 because it is 0\")\n",
        "except ValueError:\n",
        "    print(\"You did not provide a number\")\n",
        "except:\n",
        "    print(\"Something went wrong\")\n",
        "else:\n",
        "    print(\"success a=\",a)\n",
        "finally:\n",
        "    print(\"Processing Complete\")"
      ],
      "metadata": {
        "id": "zf6pPI48n7PH"
      },
      "execution_count": null,
      "outputs": []
    },
    {
      "cell_type": "markdown",
      "source": [
        "MODULO 4"
      ],
      "metadata": {
        "id": "_gEdELGny10Z"
      }
    },
    {
      "cell_type": "code",
      "source": [
        "#%pip install pyfetch\n",
        "import pyfetch\n",
        "#NOTA NO PODEMOS ECHAR A ANDAR LA LIBRERIA OPTO POR EL MANUAL"
      ],
      "metadata": {
        "colab": {
          "base_uri": "https://localhost:8080/",
          "height": 322
        },
        "id": "jqL2-jz2P3Ok",
        "outputId": "6afb1808-c769-4f34-feee-b664c787cf35"
      },
      "execution_count": null,
      "outputs": [
        {
          "output_type": "error",
          "ename": "ModuleNotFoundError",
          "evalue": "ignored",
          "traceback": [
            "\u001b[0;31m---------------------------------------------------------------------------\u001b[0m",
            "\u001b[0;31mModuleNotFoundError\u001b[0m                       Traceback (most recent call last)",
            "\u001b[0;32m<ipython-input-9-4ef147df1896>\u001b[0m in \u001b[0;36m<module>\u001b[0;34m\u001b[0m\n\u001b[1;32m      1\u001b[0m \u001b[0;31m#%pip install pyfetch\u001b[0m\u001b[0;34m\u001b[0m\u001b[0;34m\u001b[0m\u001b[0;34m\u001b[0m\u001b[0m\n\u001b[0;32m----> 2\u001b[0;31m \u001b[0;32mimport\u001b[0m \u001b[0mpyfetch\u001b[0m\u001b[0;34m\u001b[0m\u001b[0;34m\u001b[0m\u001b[0m\n\u001b[0m",
            "\u001b[0;31mModuleNotFoundError\u001b[0m: No module named 'pyfetch'",
            "",
            "\u001b[0;31m---------------------------------------------------------------------------\u001b[0;32m\nNOTE: If your import is failing due to a missing package, you can\nmanually install dependencies using either !pip or !apt.\n\nTo view examples of installing some common dependencies, click the\n\"Open Examples\" button below.\n\u001b[0;31m---------------------------------------------------------------------------\u001b[0m\n"
          ],
          "errorDetails": {
            "actions": [
              {
                "action": "open_url",
                "actionText": "Open Examples",
                "url": "/notebooks/snippets/importing_libraries.ipynb"
              }
            ]
          }
        }
      ]
    },
    {
      "cell_type": "markdown",
      "source": [
        "LAB1"
      ],
      "metadata": {
        "id": "jKPCZmMWh8Mz"
      }
    },
    {
      "cell_type": "code",
      "source": [
        "#Se opta por la opcion manual del lab\n",
        "from pyodide.http import pyfetch\n",
        "import pandas as pd\n",
        "\n",
        "filename = \"https://cf-courses-data.s3.us.cloud-object-storage.appdomain.cloud/IBMDeveloperSkillsNetwork-PY0101EN-SkillsNetwork/labs/Module%204/data/example1.txt\"\n",
        "\n",
        "async def download(url, filename):\n",
        "    response = await pyfetch(url)\n",
        "    if response.status == 200:\n",
        "        with open(filename, \"wb\") as f:\n",
        "            f.write(await response.bytes())\n",
        "\n",
        "\n",
        "await download(filename, \"Example1.txt\")"
      ],
      "metadata": {
        "colab": {
          "base_uri": "https://localhost:8080/",
          "height": 374
        },
        "id": "Bj-NxhEoPmvB",
        "outputId": "e21fc084-8730-46e9-963e-d29ff78ec409"
      },
      "execution_count": null,
      "outputs": [
        {
          "output_type": "error",
          "ename": "ModuleNotFoundError",
          "evalue": "ignored",
          "traceback": [
            "\u001b[0;31m---------------------------------------------------------------------------\u001b[0m",
            "\u001b[0;31mModuleNotFoundError\u001b[0m                       Traceback (most recent call last)",
            "\u001b[0;32m<ipython-input-5-0d651653290f>\u001b[0m in \u001b[0;36masync-def-wrapper\u001b[0;34m()\u001b[0m\n\u001b[1;32m      2\u001b[0m \u001b[0;32mimport\u001b[0m \u001b[0mpandas\u001b[0m \u001b[0;32mas\u001b[0m \u001b[0mpd\u001b[0m\u001b[0;34m\u001b[0m\u001b[0;34m\u001b[0m\u001b[0m\n\u001b[1;32m      3\u001b[0m \u001b[0;34m\u001b[0m\u001b[0m\n\u001b[0;32m----> 4\u001b[0;31m \u001b[0mfilename\u001b[0m \u001b[0;34m=\u001b[0m \u001b[0;34m\"https://cf-courses-data.s3.us.cloud-object-storage.appdomain.cloud/IBMDeveloperSkillsNetwork-PY0101EN-SkillsNetwork/labs/Module%204/data/example1.txt\"\u001b[0m\u001b[0;34m\u001b[0m\u001b[0;34m\u001b[0m\u001b[0m\n\u001b[0m\u001b[1;32m      5\u001b[0m \u001b[0;34m\u001b[0m\u001b[0m\n\u001b[1;32m      6\u001b[0m \u001b[0;32masync\u001b[0m \u001b[0;32mdef\u001b[0m \u001b[0mdownload\u001b[0m\u001b[0;34m(\u001b[0m\u001b[0murl\u001b[0m\u001b[0;34m,\u001b[0m \u001b[0mfilename\u001b[0m\u001b[0;34m)\u001b[0m\u001b[0;34m:\u001b[0m\u001b[0;34m\u001b[0m\u001b[0;34m\u001b[0m\u001b[0m\n",
            "\u001b[0;31mModuleNotFoundError\u001b[0m: No module named 'pyodide'",
            "",
            "\u001b[0;31m---------------------------------------------------------------------------\u001b[0;32m\nNOTE: If your import is failing due to a missing package, you can\nmanually install dependencies using either !pip or !apt.\n\nTo view examples of installing some common dependencies, click the\n\"Open Examples\" button below.\n\u001b[0;31m---------------------------------------------------------------------------\u001b[0m\n"
          ],
          "errorDetails": {
            "actions": [
              {
                "action": "open_url",
                "actionText": "Open Examples",
                "url": "/notebooks/snippets/importing_libraries.ipynb"
              }
            ]
          }
        }
      ]
    },
    {
      "cell_type": "code",
      "source": [
        "#OPCION MANUAL\n",
        "## Uncomment these if working locally, else let the following code cell run.\n",
        "import urllib.request\n",
        "url = 'https://cf-courses-data.s3.us.cloud-object-storage.appdomain.cloud/IBMDeveloperSkillsNetwork-PY0101EN-SkillsNetwork/labs/Module%204/data/example1.txt'\n",
        "filename = 'Example1.txt'\n",
        "urllib.request.urlretrieve(url, filename)\n",
        "\n",
        "## Download Example file\n",
        "#!wget -O /resources/data/Example1.txt https://cf-courses-data.s3.us.cloud-object-storage.appdomain.cloud/IBMDeveloperSkillsNetwork-PY0101EN-SkillsNetwork/labs/Module%204/data/example1.txt"
      ],
      "metadata": {
        "colab": {
          "base_uri": "https://localhost:8080/"
        },
        "id": "pzS3KWr3bJun",
        "outputId": "e816edcc-62ce-4855-be73-501541cb27e8"
      },
      "execution_count": null,
      "outputs": [
        {
          "output_type": "execute_result",
          "data": {
            "text/plain": [
              "('Example1.txt', <http.client.HTTPMessage at 0x7f289d57e4d0>)"
            ]
          },
          "metadata": {},
          "execution_count": 12
        }
      ]
    },
    {
      "cell_type": "code",
      "source": [
        "example1 = \"Example1.txt\"\n",
        "file1 = open(example1, \"r\")\n",
        "\n",
        "#PARA VER EL NOMBRE\n",
        "file1.name\n",
        "#VER PERMIROS R,WR\n",
        "file1.mode\n",
        "\n",
        "FileContent = file1.read()\n",
        "FileContent\n",
        "#/n para dar salto de linea\n",
        "print(FileContent)\n",
        "\n",
        "#siempre hay que cerrar con close la lectura de archivp\n",
        "file1.close()"
      ],
      "metadata": {
        "colab": {
          "base_uri": "https://localhost:8080/"
        },
        "id": "816r8lbab2mB",
        "outputId": "31e1aeb4-8e3c-40c3-e9a4-57ee5cd68d15"
      },
      "execution_count": null,
      "outputs": [
        {
          "output_type": "stream",
          "name": "stdout",
          "text": [
            "This is line 1 \n",
            "This is line 2\n",
            "This is line 3\n"
          ]
        }
      ]
    },
    {
      "cell_type": "code",
      "source": [
        "with open(example1, \"r\") as file1:\n",
        "    FileContent = file1.read()\n",
        "    print(FileContent)\n",
        "\n",
        "#Mejor hacer eso, with siempre cierra al finalizar la ejecucion no hace falta usarlo"
      ],
      "metadata": {
        "colab": {
          "base_uri": "https://localhost:8080/"
        },
        "id": "OBXRg10Pdzhe",
        "outputId": "3de60c20-9de1-4d18-fcce-bc7293c7cebe"
      },
      "execution_count": null,
      "outputs": [
        {
          "output_type": "stream",
          "name": "stdout",
          "text": [
            "This is line 1 \n",
            "This is line 2\n",
            "This is line 3\n"
          ]
        }
      ]
    },
    {
      "cell_type": "code",
      "source": [
        "with open(example1, \"r\") as file1:\n",
        "    print(file1.read(4))\n",
        "\n",
        "\n",
        "with open(example1, \"r\") as file1:\n",
        "    print(\"first line: \" + file1.readline())\n",
        "\n",
        "\n",
        "with open(example1,\"r\") as file1:\n",
        "    i = 0;\n",
        "    for line in file1:\n",
        "        print(\"Iteration\", str(i), \": \", line)\n",
        "        i = i + 1"
      ],
      "metadata": {
        "colab": {
          "base_uri": "https://localhost:8080/"
        },
        "id": "vGIIPuw_d_cy",
        "outputId": "cd92f922-978d-47e2-8ffc-46bad67e69d5"
      },
      "execution_count": null,
      "outputs": [
        {
          "output_type": "stream",
          "name": "stdout",
          "text": [
            "This\n",
            "first line: This is line 1 \n",
            "\n",
            "Iteration 0 :  This is line 1 \n",
            "\n",
            "Iteration 1 :  This is line 2\n",
            "\n",
            "Iteration 2 :  This is line 3\n"
          ]
        }
      ]
    },
    {
      "cell_type": "code",
      "source": [
        "#para escribir datos\n",
        "exmp2 = 'Example2.txt'\n",
        "with open(exmp2, 'w') as writefile:\n",
        "    writefile.write(\"This is line A\")\n",
        "\n",
        "with open(exmp2, \"r\") as file1:\n",
        "    FileContent = file1.read()\n",
        "    print(FileContent)\n",
        "\n",
        "with open(exmp2, 'w') as writefile:\n",
        "    writefile.write(\"This is line A\\n\")\n",
        "    writefile.write(\"This is line B\\n\")\n",
        "\n",
        "with open(exmp2, \"r\") as file1:\n",
        "    FileContent = file1.read()\n",
        "    print(FileContent)"
      ],
      "metadata": {
        "colab": {
          "base_uri": "https://localhost:8080/"
        },
        "id": "2um4AylWhA04",
        "outputId": "f84aa6e3-13d4-4ee6-cb18-f83270ec4970"
      },
      "execution_count": null,
      "outputs": [
        {
          "output_type": "stream",
          "name": "stdout",
          "text": [
            "This is line A\n",
            "This is line A\n",
            "This is line B\n",
            "\n"
          ]
        }
      ]
    },
    {
      "cell_type": "code",
      "source": [
        "with open('Example2.txt', 'w') as writefile:\n",
        "    writefile.write(\"Overwrite\\n\")\n",
        "with open('Example2.txt', 'r') as testwritefile:\n",
        "    print(testwritefile.read())\n",
        "\n",
        "    "
      ],
      "metadata": {
        "colab": {
          "base_uri": "https://localhost:8080/"
        },
        "id": "XNgsthxVsm4a",
        "outputId": "20c398cb-3217-4f73-abda-0eb3ad519870"
      },
      "execution_count": null,
      "outputs": [
        {
          "output_type": "stream",
          "name": "stdout",
          "text": [
            "Overwrite\n",
            "\n"
          ]
        }
      ]
    },
    {
      "cell_type": "markdown",
      "source": [
        "LAB2"
      ],
      "metadata": {
        "id": "t2T333PWiZeG"
      }
    },
    {
      "cell_type": "code",
      "source": [
        "#Run this prior to starting the exercise\n",
        "from random import randint as rnd\n",
        "\n",
        "memReg = 'members.txt'\n",
        "exReg = 'inactive.txt'\n",
        "fee =('yes','no')\n",
        "\n",
        "def genFiles(current,old):\n",
        "    with open(current,'w+') as writefile: \n",
        "        writefile.write('Membership No  Date Joined  Active  \\n')\n",
        "        data = \"{:^13}  {:<11}  {:<6}\\n\"\n",
        "\n",
        "        for rowno in range(20):\n",
        "            date = str(rnd(2015,2020))+ '-' + str(rnd(1,12))+'-'+str(rnd(1,25))\n",
        "            writefile.write(data.format(rnd(10000,99999),date,fee[rnd(0,1)]))\n",
        "\n",
        "\n",
        "    with open(old,'w+') as writefile: \n",
        "        writefile.write('Membership No  Date Joined  Active  \\n')\n",
        "        data = \"{:^13}  {:<11}  {:<6}\\n\"\n",
        "        for rowno in range(3):\n",
        "            date = str(rnd(2015,2020))+ '-' + str(rnd(1,12))+'-'+str(rnd(1,25))\n",
        "            writefile.write(data.format(rnd(10000,99999),date,fee[1]))\n",
        "\n",
        "\n",
        "genFiles(memReg,exReg)\n"
      ],
      "metadata": {
        "id": "ATr_tY4-idr7"
      },
      "execution_count": 1,
      "outputs": []
    },
    {
      "cell_type": "code",
      "source": [
        " \n",
        "'''\n",
        "The two arguments for this function are the files:\n",
        "    - currentMem: File containing list of current members\n",
        "    - exMem: File containing list of old members\n",
        "    \n",
        "    This function should remove all rows from currentMem containing 'no' \n",
        "    in the 'Active' column and appends them to exMem.\n",
        "    '''\n",
        "def cleanFiles(currentMem, exMem):\n",
        "   def cleanFiles(currentMem, exMem):\n",
        "        #TODO: Open the currentMem file as in r+ mode\n",
        "        with open(currentMem,\"r+\") as lector:\n",
        "            #TODO: Open the exMem file in a+ mode\n",
        "            with open(exMem,\"a+\") as exlector:\n",
        "                lista=lector.readlines()\n",
        "                titulo=lista[0]\n",
        "                lista.pop(0)\n",
        "                desactivados=[]\n",
        "                activados=[]\n",
        "                \n",
        "\n",
        "                #TODO: Read each member in the currentMem (1 member per row) file into a list.\n",
        "                for i in lista:\n",
        "                    if \"no\" in i:\n",
        "                        desactivados.append(i)\n",
        "                        #print(\"reglon no {}\".format(i))\n",
        "                    else:\n",
        "                        activados.append(i)\n",
        "                        #print(\"reglon yes {}\".format(i))\n",
        "                \n",
        "                lector.seek(0) \n",
        "                lector.write(titulo)\n",
        "                for k in activados:\n",
        "                    lector.write(k)\n",
        "                print(lector)\n",
        "                for j in desactivados:\n",
        "                    exlector.write(j)\n",
        "                lector.truncate()\n",
        "\n",
        "\n",
        "# The code below is to help you view the files.\n",
        "# Do not modify this code for this exercise.\n",
        "memReg = 'members.txt'\n",
        "exReg = 'inactive.txt'\n",
        "cleanFiles(memReg,exReg)\n",
        "\n",
        "\n",
        "headers = \"Membership No  Date Joined  Active  \\n\"\n",
        "with open(memReg,'r') as readFile:\n",
        "    print(\"Active Members: \\n\\n\")\n",
        "    print(readFile.read())\n",
        "    \n",
        "with open(exReg,'r') as readFile:\n",
        "    print(\"Inactive Members: \\n\\n\")\n",
        "    print(readFile.read())"
      ],
      "metadata": {
        "id": "elzApTRXiyHL"
      },
      "execution_count": null,
      "outputs": []
    },
    {
      "cell_type": "code",
      "source": [
        "def testMsg(passed):\n",
        "    if passed:\n",
        "       return 'Test Passed'\n",
        "    else :\n",
        "       return 'Test Failed'\n",
        "\n",
        "testWrite = \"testWrite.txt\"\n",
        "testAppend = \"testAppend.txt\" \n",
        "passed = True\n",
        "\n",
        "genFiles(testWrite,testAppend)\n",
        "\n",
        "with open(testWrite,'r') as file:\n",
        "    ogWrite = file.readlines()\n",
        "\n",
        "with open(testAppend,'r') as file:\n",
        "    ogAppend = file.readlines()\n",
        "\n",
        "try:\n",
        "    cleanFiles(testWrite,testAppend)\n",
        "except:\n",
        "    print('Error')\n",
        "\n",
        "with open(testWrite,'r') as file:\n",
        "    clWrite = file.readlines()\n",
        "\n",
        "with open(testAppend,'r') as file:\n",
        "    clAppend = file.readlines()\n",
        "        \n",
        "# checking if total no of rows is same, including headers\n",
        "\n",
        "if (len(ogWrite) + len(ogAppend) != len(clWrite) + len(clAppend)):\n",
        "    print(\"The number of rows do not add up. Make sure your final files have the same header and format.\")\n",
        "    passed = False\n",
        "    \n",
        "for line in clWrite:\n",
        "    if  'no' in line:\n",
        "        passed = False\n",
        "        print(\"Inactive members in file\")\n",
        "        break\n",
        "    else:\n",
        "        if line not in ogWrite:\n",
        "            print(\"Data in file does not match original file\")\n",
        "            passed = False\n",
        "print (\"{}\".format(testMsg(passed)))\n",
        "    \n"
      ],
      "metadata": {
        "id": "4csqN-n2izXW"
      },
      "execution_count": null,
      "outputs": []
    },
    {
      "cell_type": "code",
      "source": [
        "with open('Example2.txt', 'a') as testwritefile:\n",
        "    testwritefile.write(\"This is line C\\n\")\n",
        "    testwritefile.write(\"This is line D\\n\")\n",
        "    testwritefile.write(\"This is line E\\n\")\n",
        "\n",
        "#A es de append \n",
        "#w writee y overwrite\n",
        "#R read\n",
        "\n",
        "#r+ : Reading and writing. Cannot truncate the file.\n",
        "#w+ : Writing and reading. Truncates the file.\n",
        "#a+ : Appending and Reading. Creates a new file, if none exists.\n"
      ],
      "metadata": {
        "id": "3QR4srz8tGeH"
      },
      "execution_count": null,
      "outputs": []
    },
    {
      "cell_type": "code",
      "source": [
        "with open('Example2.txt', 'a+') as testwritefile:\n",
        "    testwritefile.write(\"This is line E\\n\")\n",
        "    print(testwritefile.read())"
      ],
      "metadata": {
        "id": "qsy89d7ruanS"
      },
      "execution_count": null,
      "outputs": []
    },
    {
      "cell_type": "code",
      "source": [
        "with open('Example2.txt', 'a+') as testwritefile:\n",
        "    print(\"Initial Location: {}\".format(testwritefile.tell()))\n",
        "    \n",
        "    data = testwritefile.read()\n",
        "    if (not data):  #empty strings return false in python\n",
        "            print('Read nothing') \n",
        "    else: \n",
        "            print(testwritefile.read())\n",
        "            \n",
        "    testwritefile.seek(0,0) # move 0 bytes from beginning.\n",
        "    \n",
        "    print(\"\\nNew Location : {}\".format(testwritefile.tell()))\n",
        "    data = testwritefile.read()\n",
        "    if (not data): \n",
        "            print('Read nothing') \n",
        "    else: \n",
        "            print(data)\n",
        "    \n",
        "    print(\"Location after read: {}\".format(testwritefile.tell()) )"
      ],
      "metadata": {
        "colab": {
          "base_uri": "https://localhost:8080/"
        },
        "id": "0rxztKNJt4Jq",
        "outputId": "966235d7-09ff-4965-8c2d-5274011f5897"
      },
      "execution_count": null,
      "outputs": [
        {
          "output_type": "stream",
          "name": "stdout",
          "text": [
            "Initial Location: 10\n",
            "Read nothing\n",
            "\n",
            "New Location : 0\n",
            "Overwrite\n",
            "\n",
            "Location after read: 10\n"
          ]
        }
      ]
    },
    {
      "cell_type": "code",
      "source": [
        "\n",
        "\n",
        "import pandas as banana\n",
        "\n",
        "df=banana.DataFrame({'a':[11,21,31],'b':[21,22,23]})\n",
        "\n",
        "df.head()\n",
        "import pandas as pd\n",
        "df=pd.DataFrame({'a':[1,2,1],'b':[1,1,1]}) \n",
        "df['a']==1 "
      ],
      "metadata": {
        "colab": {
          "base_uri": "https://localhost:8080/"
        },
        "id": "D3YxQK4qDAeq",
        "outputId": "d925f0a7-cdfb-481b-b5d5-8606dff250f7"
      },
      "execution_count": null,
      "outputs": [
        {
          "output_type": "execute_result",
          "data": {
            "text/plain": [
              "0     True\n",
              "1    False\n",
              "2     True\n",
              "Name: a, dtype: bool"
            ]
          },
          "metadata": {},
          "execution_count": 33
        }
      ]
    },
    {
      "cell_type": "markdown",
      "source": [
        "Lab 3"
      ],
      "metadata": {
        "id": "mtP_sDPd3ifw"
      }
    },
    {
      "cell_type": "code",
      "source": [
        "import pandas as pd\n",
        "\n",
        "\n",
        "filename = \"https://cf-courses-data.s3.us.cloud-object-storage.appdomain.cloud/IBMDeveloperSkillsNetwork-PY0101EN-SkillsNetwork/labs/Module%204/data/TopSellingAlbums.csv\"\n",
        "\n",
        "df = pd.read_csv(\"https://cf-courses-data.s3.us.cloud-object-storage.appdomain.cloud/IBMDeveloperSkillsNetwork-PY0101EN-SkillsNetwork/labs/Module%204/data/TopSellingAlbums.csv\")\n",
        "df.head()\n",
        "\n",
        "q = df[['Rating']]\n",
        "print(q)\n",
        "M = df[['Released', 'Artist']]\n",
        "print(M)\n",
        "print(df.iloc[1, 2])\n",
        "\n",
        "new_index=['a','b','c','d','e','f','g','h']\n",
        "\n",
        "df_new=df\n",
        "df_new.index=new_index\n",
        "df_new.loc['a', 'Artist']\n",
        "df_new.loc['a':'d', 'Artist']\n",
        "#No funciona el pyfech \n",
        "#Sin embargo se estima el comportamiento de read_csv para leer el doc y la forma de with para leer el doc"
      ],
      "metadata": {
        "id": "lyQTG93uOT0Q",
        "colab": {
          "base_uri": "https://localhost:8080/"
        },
        "outputId": "0e92f65d-b740-4f89-c12c-a7238fa000c4"
      },
      "execution_count": 4,
      "outputs": [
        {
          "output_type": "stream",
          "name": "stdout",
          "text": [
            "   Rating\n",
            "0    10.0\n",
            "1     9.5\n",
            "2     9.0\n",
            "3     8.5\n",
            "4     8.0\n",
            "5     7.5\n",
            "6     7.0\n",
            "7     6.5\n",
            "   Released           Artist\n",
            "0      1982  Michael Jackson\n",
            "1      1980            AC/DC\n",
            "2      1973       Pink Floyd\n",
            "3      1992  Whitney Houston\n",
            "4      1977        Meat Loaf\n",
            "5      1976           Eagles\n",
            "6      1977         Bee Gees\n",
            "7      1977    Fleetwood Mac\n",
            "1980\n"
          ]
        },
        {
          "output_type": "execute_result",
          "data": {
            "text/plain": [
              "a    Michael Jackson\n",
              "b              AC/DC\n",
              "c         Pink Floyd\n",
              "d    Whitney Houston\n",
              "Name: Artist, dtype: object"
            ]
          },
          "metadata": {},
          "execution_count": 4
        }
      ]
    },
    {
      "cell_type": "markdown",
      "source": [
        "iloc= es para usar por posicion del dataframe \n",
        "empiezan desde 0\n",
        "\n",
        "loc= recibe nombre de las columnas"
      ],
      "metadata": {
        "id": "aObq-4T3Rbwg"
      }
    }
  ]
}