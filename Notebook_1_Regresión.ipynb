{
  "cells": [
    {
      "cell_type": "markdown",
      "metadata": {
        "id": "view-in-github",
        "colab_type": "text"
      },
      "source": [
        "<a href=\"https://colab.research.google.com/github/PosgradoMNA/actividades-de-aprendizaje-A01273286/blob/main/Notebook_1_Regresi%C3%B3n.ipynb\" target=\"_parent\"><img src=\"https://colab.research.google.com/assets/colab-badge.svg\" alt=\"Open In Colab\"/></a>"
      ]
    },
    {
      "cell_type": "markdown",
      "source": [
        "# **Tecnológico de Monterrey**\n",
        "\n",
        "# Maestría en Inteligencia Artificial Aplicada\n",
        "\n",
        "\n",
        "> Dra. María de la Paz Rico Fernández\n",
        "\n",
        "\n",
        "> Curso: Ciencia y Analítica de Datos\n",
        "\n",
        "> Entregable : Actividad Semanal -- 7 Regresiones y K means NOTEBOOK 1\n",
        "\n",
        "> Alumno:\n",
        "\n",
        "*   LUIS ALFONSO SABANERO ESQUIVEL - A01273286\n",
        "\n",
        ">09/11/2022\n",
        "\n",
        "> https://github.com/PosgradoMNA/actividades-de-aprendizaje-A01273286"
      ],
      "metadata": {
        "id": "9anSEOY3n8OG"
      }
    },
    {
      "cell_type": "code",
      "execution_count": null,
      "metadata": {
        "id": "pk-Ifks9n7b_"
      },
      "outputs": [],
      "source": [
        "#Importamos librerias para el ejercicio\n",
        "import numpy as np\n",
        "import matplotlib\n",
        "import matplotlib.pyplot as plt\n",
        "import pandas as pd\n",
        "import seaborn as sns\n",
        "from sklearn.linear_model import LinearRegression, Ridge, Lasso\n",
        "from sklearn.preprocessing import PolynomialFeatures\n",
        "from sklearn.model_selection import train_test_split,cross_validate,RepeatedKFold\n",
        "from sklearn.metrics import r2_score,mean_absolute_error,mean_squared_error\n",
        "from sklearn.preprocessing import StandardScaler\n",
        "from sklearn.pipeline import Pipeline\n"
      ]
    },
    {
      "cell_type": "markdown",
      "metadata": {
        "id": "nNBctr4zn7cB"
      },
      "source": [
        "# Ejercicio 1 Regresiones"
      ]
    },
    {
      "cell_type": "code",
      "execution_count": null,
      "metadata": {
        "id": "-voSNA3Ln7cD",
        "outputId": "66fe1798-51ec-4dc3-f300-82c1dca99e57"
      },
      "outputs": [
        {
          "data": {
            "text/html": [
              "<div>\n",
              "<style scoped>\n",
              "    .dataframe tbody tr th:only-of-type {\n",
              "        vertical-align: middle;\n",
              "    }\n",
              "\n",
              "    .dataframe tbody tr th {\n",
              "        vertical-align: top;\n",
              "    }\n",
              "\n",
              "    .dataframe thead th {\n",
              "        text-align: right;\n",
              "    }\n",
              "</style>\n",
              "<table border=\"1\" class=\"dataframe\">\n",
              "  <thead>\n",
              "    <tr style=\"text-align: right;\">\n",
              "      <th></th>\n",
              "      <th>Number of Units</th>\n",
              "      <th>Manufacturing Cost</th>\n",
              "    </tr>\n",
              "  </thead>\n",
              "  <tbody>\n",
              "    <tr>\n",
              "      <th>65</th>\n",
              "      <td>2.502705</td>\n",
              "      <td>44.442539</td>\n",
              "    </tr>\n",
              "    <tr>\n",
              "      <th>128</th>\n",
              "      <td>2.998296</td>\n",
              "      <td>42.393697</td>\n",
              "    </tr>\n",
              "    <tr>\n",
              "      <th>672</th>\n",
              "      <td>5.055963</td>\n",
              "      <td>38.520193</td>\n",
              "    </tr>\n",
              "    <tr>\n",
              "      <th>580</th>\n",
              "      <td>4.704648</td>\n",
              "      <td>37.976470</td>\n",
              "    </tr>\n",
              "    <tr>\n",
              "      <th>812</th>\n",
              "      <td>5.581813</td>\n",
              "      <td>29.693099</td>\n",
              "    </tr>\n",
              "    <tr>\n",
              "      <th>480</th>\n",
              "      <td>4.354280</td>\n",
              "      <td>39.933862</td>\n",
              "    </tr>\n",
              "    <tr>\n",
              "      <th>522</th>\n",
              "      <td>4.522099</td>\n",
              "      <td>35.184621</td>\n",
              "    </tr>\n",
              "    <tr>\n",
              "      <th>171</th>\n",
              "      <td>3.187171</td>\n",
              "      <td>39.442397</td>\n",
              "    </tr>\n",
              "    <tr>\n",
              "      <th>854</th>\n",
              "      <td>5.803924</td>\n",
              "      <td>35.285484</td>\n",
              "    </tr>\n",
              "    <tr>\n",
              "      <th>108</th>\n",
              "      <td>2.861985</td>\n",
              "      <td>63.468384</td>\n",
              "    </tr>\n",
              "  </tbody>\n",
              "</table>\n",
              "</div>"
            ],
            "text/plain": [
              "     Number of Units  Manufacturing Cost\n",
              "65          2.502705           44.442539\n",
              "128         2.998296           42.393697\n",
              "672         5.055963           38.520193\n",
              "580         4.704648           37.976470\n",
              "812         5.581813           29.693099\n",
              "480         4.354280           39.933862\n",
              "522         4.522099           35.184621\n",
              "171         3.187171           39.442397\n",
              "854         5.803924           35.285484\n",
              "108         2.861985           63.468384"
            ]
          },
          "execution_count": 137,
          "metadata": {},
          "output_type": "execute_result"
        }
      ],
      "source": [
        "#Leemos dataset al ser pequeño ponemos ruta fija\n",
        "df = pd.read_csv('https://raw.githubusercontent.com/marypazrf/bdd/main/EconomiesOfScale.csv')\n",
        "df.sample(10)"
      ]
    },
    {
      "cell_type": "code",
      "execution_count": null,
      "metadata": {
        "id": "1I1GzHUKn7cD"
      },
      "outputs": [],
      "source": [
        "#La entrada es el numero de unidades, salida costo de manufactura\n",
        "X = df[['Number of Units']]\n",
        "y = df['Manufacturing Cost']\n",
        "X_train, X_test, y_train, y_test= train_test_split(X, y, train_size=0.90, random_state=42) #Entrenamiento 90% Test 10%\n",
        "metricas={\"R2\":\"r2\", \"MAE\":'neg_mean_absolute_error'} #Metricas de desempeño\n",
        "resultados = list() #Para la graficas"
      ]
    },
    {
      "cell_type": "markdown",
      "metadata": {
        "id": "0GCaYw6wn7cD"
      },
      "source": [
        "## Regresión Lineal"
      ]
    },
    {
      "cell_type": "code",
      "execution_count": null,
      "metadata": {
        "id": "cEekxlkmn7cD",
        "outputId": "1ed12c87-1428-4108-a0d1-0dfbdde30634"
      },
      "outputs": [
        {
          "data": {
            "text/html": [
              "<style>#sk-container-id-9 {color: black;background-color: white;}#sk-container-id-9 pre{padding: 0;}#sk-container-id-9 div.sk-toggleable {background-color: white;}#sk-container-id-9 label.sk-toggleable__label {cursor: pointer;display: block;width: 100%;margin-bottom: 0;padding: 0.3em;box-sizing: border-box;text-align: center;}#sk-container-id-9 label.sk-toggleable__label-arrow:before {content: \"▸\";float: left;margin-right: 0.25em;color: #696969;}#sk-container-id-9 label.sk-toggleable__label-arrow:hover:before {color: black;}#sk-container-id-9 div.sk-estimator:hover label.sk-toggleable__label-arrow:before {color: black;}#sk-container-id-9 div.sk-toggleable__content {max-height: 0;max-width: 0;overflow: hidden;text-align: left;background-color: #f0f8ff;}#sk-container-id-9 div.sk-toggleable__content pre {margin: 0.2em;color: black;border-radius: 0.25em;background-color: #f0f8ff;}#sk-container-id-9 input.sk-toggleable__control:checked~div.sk-toggleable__content {max-height: 200px;max-width: 100%;overflow: auto;}#sk-container-id-9 input.sk-toggleable__control:checked~label.sk-toggleable__label-arrow:before {content: \"▾\";}#sk-container-id-9 div.sk-estimator input.sk-toggleable__control:checked~label.sk-toggleable__label {background-color: #d4ebff;}#sk-container-id-9 div.sk-label input.sk-toggleable__control:checked~label.sk-toggleable__label {background-color: #d4ebff;}#sk-container-id-9 input.sk-hidden--visually {border: 0;clip: rect(1px 1px 1px 1px);clip: rect(1px, 1px, 1px, 1px);height: 1px;margin: -1px;overflow: hidden;padding: 0;position: absolute;width: 1px;}#sk-container-id-9 div.sk-estimator {font-family: monospace;background-color: #f0f8ff;border: 1px dotted black;border-radius: 0.25em;box-sizing: border-box;margin-bottom: 0.5em;}#sk-container-id-9 div.sk-estimator:hover {background-color: #d4ebff;}#sk-container-id-9 div.sk-parallel-item::after {content: \"\";width: 100%;border-bottom: 1px solid gray;flex-grow: 1;}#sk-container-id-9 div.sk-label:hover label.sk-toggleable__label {background-color: #d4ebff;}#sk-container-id-9 div.sk-serial::before {content: \"\";position: absolute;border-left: 1px solid gray;box-sizing: border-box;top: 0;bottom: 0;left: 50%;z-index: 0;}#sk-container-id-9 div.sk-serial {display: flex;flex-direction: column;align-items: center;background-color: white;padding-right: 0.2em;padding-left: 0.2em;position: relative;}#sk-container-id-9 div.sk-item {position: relative;z-index: 1;}#sk-container-id-9 div.sk-parallel {display: flex;align-items: stretch;justify-content: center;background-color: white;position: relative;}#sk-container-id-9 div.sk-item::before, #sk-container-id-9 div.sk-parallel-item::before {content: \"\";position: absolute;border-left: 1px solid gray;box-sizing: border-box;top: 0;bottom: 0;left: 50%;z-index: -1;}#sk-container-id-9 div.sk-parallel-item {display: flex;flex-direction: column;z-index: 1;position: relative;background-color: white;}#sk-container-id-9 div.sk-parallel-item:first-child::after {align-self: flex-end;width: 50%;}#sk-container-id-9 div.sk-parallel-item:last-child::after {align-self: flex-start;width: 50%;}#sk-container-id-9 div.sk-parallel-item:only-child::after {width: 0;}#sk-container-id-9 div.sk-dashed-wrapped {border: 1px dashed gray;margin: 0 0.4em 0.5em 0.4em;box-sizing: border-box;padding-bottom: 0.4em;background-color: white;}#sk-container-id-9 div.sk-label label {font-family: monospace;font-weight: bold;display: inline-block;line-height: 1.2em;}#sk-container-id-9 div.sk-label-container {text-align: center;}#sk-container-id-9 div.sk-container {/* jupyter's `normalize.less` sets `[hidden] { display: none; }` but bootstrap.min.css set `[hidden] { display: none !important; }` so we also need the `!important` here to be able to override the default hidden behavior on the sphinx rendered scikit-learn.org. See: https://github.com/scikit-learn/scikit-learn/issues/21755 */display: inline-block !important;position: relative;}#sk-container-id-9 div.sk-text-repr-fallback {display: none;}</style><div id=\"sk-container-id-9\" class=\"sk-top-container\"><div class=\"sk-text-repr-fallback\"><pre>LinearRegression()</pre><b>In a Jupyter environment, please rerun this cell to show the HTML representation or trust the notebook. <br />On GitHub, the HTML representation is unable to render, please try loading this page with nbviewer.org.</b></div><div class=\"sk-container\" hidden><div class=\"sk-item\"><div class=\"sk-estimator sk-toggleable\"><input class=\"sk-toggleable__control sk-hidden--visually\" id=\"sk-estimator-id-9\" type=\"checkbox\" checked><label for=\"sk-estimator-id-9\" class=\"sk-toggleable__label sk-toggleable__label-arrow\">LinearRegression</label><div class=\"sk-toggleable__content\"><pre>LinearRegression()</pre></div></div></div></div></div>"
            ],
            "text/plain": [
              "LinearRegression()"
            ]
          },
          "execution_count": 72,
          "metadata": {},
          "output_type": "execute_result"
        }
      ],
      "source": [
        "#Generamos el objeto de regresion lineal\n",
        "LR=LinearRegression(fit_intercept=True)\n",
        "#Kflod y cross validate para evaluar el modelo con las metricas r2 y mae\n",
        "kfold = RepeatedKFold(n_splits=5, n_repeats=5)\n",
        "scores = cross_validate(LR, X_train, y_train,scoring=metricas, cv=kfold)\n",
        "resultados.append(scores) #Los acumulo en una lista\n",
        "LR.fit(X_train,y_train) #Ajustamos el modelo con set de entrenamiento"
      ]
    },
    {
      "cell_type": "code",
      "execution_count": null,
      "metadata": {
        "id": "kq5MLSfxn7cE",
        "outputId": "dda876be-badf-403f-fcfd-870eecf93fb3"
      },
      "outputs": [
        {
          "data": {
            "text/plain": [
              "<matplotlib.legend.Legend at 0x7fe8d8ca1d30>"
            ]
          },
          "execution_count": 31,
          "metadata": {},
          "output_type": "execute_result"
        },
        {
          "data": {
            "image/png": "[encoded data removed]",
            "text/plain": [
              "<Figure size 576x288 with 1 Axes>"
            ]
          },
          "metadata": {},
          "output_type": "display_data"
        }
      ],
      "source": [
        "# construct best fit line\n",
        "\n",
        "y_fit = LR.predict(X_test) #Predecimos con el set de prueba\n",
        "\n",
        "#Codigo para graficar la curva generada\n",
        "plt.scatter(X, y)\n",
        "\n",
        "\n",
        "plt.plot(X_test, y_fit, \"r-\", linewidth=2, label=\"Predictions\")\n",
        "\n",
        "plt.xlabel(\"$X$\", fontsize=18)\n",
        "plt.ylabel(\"$y$\", rotation=0, fontsize=18)\n",
        "plt.legend(loc=\"upper left\", fontsize=14)"
      ]
    },
    {
      "cell_type": "code",
      "execution_count": null,
      "metadata": {
        "id": "Z5_SMGvZn7cE",
        "outputId": "672f054f-506b-4ca3-cb3b-12feec78714e"
      },
      "outputs": [
        {
          "data": {
            "text/plain": [
              "(array([-6.03357276]), 67.03883293539208)"
            ]
          },
          "execution_count": 32,
          "metadata": {},
          "output_type": "execute_result"
        }
      ],
      "source": [
        "#Imprimimos los coeficientes\n",
        "LR.coef_, LR.intercept_"
      ]
    },
    {
      "cell_type": "markdown",
      "metadata": {
        "id": "jGc0z1Sdn7cE"
      },
      "source": [
        "Ecuación del modelo:\n",
        "\n",
        "$\\hat{y} =  -6.03X + 67.03$"
      ]
    },
    {
      "cell_type": "code",
      "execution_count": null,
      "metadata": {
        "id": "gNnFD10Mn7cE",
        "outputId": "eec4f0f0-df44-4fb4-db0e-a749b9b3cc45"
      },
      "outputs": [
        {
          "name": "stdout",
          "output_type": "stream",
          "text": [
            "Error medio Absoluto (MAE): 4.581575620531286\n",
            "Root Mean Squared Error: 5.820691087508853\n",
            "r2_score 0.6544705154382864\n"
          ]
        }
      ],
      "source": [
        "#Calculamos los errores de la actividad con el set de prueba y los valores predichos\n",
        "print('Error medio Absoluto (MAE):', mean_absolute_error(y_test, y_fit))\n",
        "print('Root Mean Squared Error:', np.sqrt(mean_squared_error(y_test, y_fit)))\n",
        "print('r2_score',r2_score(y_test, y_fit))"
      ]
    },
    {
      "cell_type": "markdown",
      "metadata": {
        "id": "Wz1uT_tYn7cF"
      },
      "source": [
        "## Regresión Polynomial"
      ]
    },
    {
      "cell_type": "code",
      "execution_count": null,
      "metadata": {
        "id": "9njBmySXn7cF",
        "outputId": "911bd355-0a54-48a9-e014-ac98b84d0487"
      },
      "outputs": [
        {
          "data": {
            "text/html": [
              "<style>#sk-container-id-14 {color: black;background-color: white;}#sk-container-id-14 pre{padding: 0;}#sk-container-id-14 div.sk-toggleable {background-color: white;}#sk-container-id-14 label.sk-toggleable__label {cursor: pointer;display: block;width: 100%;margin-bottom: 0;padding: 0.3em;box-sizing: border-box;text-align: center;}#sk-container-id-14 label.sk-toggleable__label-arrow:before {content: \"▸\";float: left;margin-right: 0.25em;color: #696969;}#sk-container-id-14 label.sk-toggleable__label-arrow:hover:before {color: black;}#sk-container-id-14 div.sk-estimator:hover label.sk-toggleable__label-arrow:before {color: black;}#sk-container-id-14 div.sk-toggleable__content {max-height: 0;max-width: 0;overflow: hidden;text-align: left;background-color: #f0f8ff;}#sk-container-id-14 div.sk-toggleable__content pre {margin: 0.2em;color: black;border-radius: 0.25em;background-color: #f0f8ff;}#sk-container-id-14 input.sk-toggleable__control:checked~div.sk-toggleable__content {max-height: 200px;max-width: 100%;overflow: auto;}#sk-container-id-14 input.sk-toggleable__control:checked~label.sk-toggleable__label-arrow:before {content: \"▾\";}#sk-container-id-14 div.sk-estimator input.sk-toggleable__control:checked~label.sk-toggleable__label {background-color: #d4ebff;}#sk-container-id-14 div.sk-label input.sk-toggleable__control:checked~label.sk-toggleable__label {background-color: #d4ebff;}#sk-container-id-14 input.sk-hidden--visually {border: 0;clip: rect(1px 1px 1px 1px);clip: rect(1px, 1px, 1px, 1px);height: 1px;margin: -1px;overflow: hidden;padding: 0;position: absolute;width: 1px;}#sk-container-id-14 div.sk-estimator {font-family: monospace;background-color: #f0f8ff;border: 1px dotted black;border-radius: 0.25em;box-sizing: border-box;margin-bottom: 0.5em;}#sk-container-id-14 div.sk-estimator:hover {background-color: #d4ebff;}#sk-container-id-14 div.sk-parallel-item::after {content: \"\";width: 100%;border-bottom: 1px solid gray;flex-grow: 1;}#sk-container-id-14 div.sk-label:hover label.sk-toggleable__label {background-color: #d4ebff;}#sk-container-id-14 div.sk-serial::before {content: \"\";position: absolute;border-left: 1px solid gray;box-sizing: border-box;top: 0;bottom: 0;left: 50%;z-index: 0;}#sk-container-id-14 div.sk-serial {display: flex;flex-direction: column;align-items: center;background-color: white;padding-right: 0.2em;padding-left: 0.2em;position: relative;}#sk-container-id-14 div.sk-item {position: relative;z-index: 1;}#sk-container-id-14 div.sk-parallel {display: flex;align-items: stretch;justify-content: center;background-color: white;position: relative;}#sk-container-id-14 div.sk-item::before, #sk-container-id-14 div.sk-parallel-item::before {content: \"\";position: absolute;border-left: 1px solid gray;box-sizing: border-box;top: 0;bottom: 0;left: 50%;z-index: -1;}#sk-container-id-14 div.sk-parallel-item {display: flex;flex-direction: column;z-index: 1;position: relative;background-color: white;}#sk-container-id-14 div.sk-parallel-item:first-child::after {align-self: flex-end;width: 50%;}#sk-container-id-14 div.sk-parallel-item:last-child::after {align-self: flex-start;width: 50%;}#sk-container-id-14 div.sk-parallel-item:only-child::after {width: 0;}#sk-container-id-14 div.sk-dashed-wrapped {border: 1px dashed gray;margin: 0 0.4em 0.5em 0.4em;box-sizing: border-box;padding-bottom: 0.4em;background-color: white;}#sk-container-id-14 div.sk-label label {font-family: monospace;font-weight: bold;display: inline-block;line-height: 1.2em;}#sk-container-id-14 div.sk-label-container {text-align: center;}#sk-container-id-14 div.sk-container {/* jupyter's `normalize.less` sets `[hidden] { display: none; }` but bootstrap.min.css set `[hidden] { display: none !important; }` so we also need the `!important` here to be able to override the default hidden behavior on the sphinx rendered scikit-learn.org. See: https://github.com/scikit-learn/scikit-learn/issues/21755 */display: inline-block !important;position: relative;}#sk-container-id-14 div.sk-text-repr-fallback {display: none;}</style><div id=\"sk-container-id-14\" class=\"sk-top-container\"><div class=\"sk-text-repr-fallback\"><pre>LinearRegression()</pre><b>In a Jupyter environment, please rerun this cell to show the HTML representation or trust the notebook. <br />On GitHub, the HTML representation is unable to render, please try loading this page with nbviewer.org.</b></div><div class=\"sk-container\" hidden><div class=\"sk-item\"><div class=\"sk-estimator sk-toggleable\"><input class=\"sk-toggleable__control sk-hidden--visually\" id=\"sk-estimator-id-14\" type=\"checkbox\" checked><label for=\"sk-estimator-id-14\" class=\"sk-toggleable__label sk-toggleable__label-arrow\">LinearRegression</label><div class=\"sk-toggleable__content\"><pre>LinearRegression()</pre></div></div></div></div></div>"
            ],
            "text/plain": [
              "LinearRegression()"
            ]
          },
          "execution_count": 140,
          "metadata": {},
          "output_type": "execute_result"
        }
      ],
      "source": [
        "#Para la polinomial se usa polynomial features con el grado en degree\n",
        "poly_features = PolynomialFeatures(degree=3, include_bias=False)\n",
        "#Transformamos la informacion\n",
        "X_poly = poly_features.fit_transform(X_train)\n",
        "#Se usa la regresion lineal como base para la polinomial\n",
        "poly_lr = LinearRegression(fit_intercept=True)\n",
        "#Para recopilar los datos de la grafica\n",
        "kfold = RepeatedKFold(n_splits=5, n_repeats=5)\n",
        "scores = modelo_LR = cross_validate(poly_lr, X_train, y_train,scoring=metricas, cv=kfold)\n",
        "resultados.append(scores)\n",
        "poly_lr.fit(X_poly, y_train) #Entrenamos con train"
      ]
    },
    {
      "cell_type": "code",
      "execution_count": null,
      "metadata": {
        "id": "L7sl26snn7cF",
        "outputId": "9cd4cf9c-2a3e-46e3-bcbc-7db1f9a3daf7"
      },
      "outputs": [
        {
          "data": {
            "text/plain": [
              "(array([-33.51781176,   4.92820286,  -0.25781031]), 111.93124540906577)"
            ]
          },
          "execution_count": 141,
          "metadata": {},
          "output_type": "execute_result"
        }
      ],
      "source": [
        "#Coeficientes de la curva\n",
        "poly_lr.coef_, poly_lr.intercept_"
      ]
    },
    {
      "cell_type": "markdown",
      "metadata": {
        "id": "T5a9PgECn7cF"
      },
      "source": [
        "Ecuación del modelo:\n",
        "\n",
        "$\\hat{y} =  -33.51X +4.92X^2 -0.25 X^3+ 111.93$"
      ]
    },
    {
      "cell_type": "code",
      "execution_count": null,
      "metadata": {
        "id": "UwDVPP1Tn7cG",
        "outputId": "36997aac-2d0e-4581-d920-7a0a27080820"
      },
      "outputs": [
        {
          "data": {
            "text/plain": [
              "<matplotlib.legend.Legend at 0x7fe89a6c19d0>"
            ]
          },
          "execution_count": 142,
          "metadata": {},
          "output_type": "execute_result"
        },
        {
          "data": {
            "image/png": "[encoded data removed]",
            "text/plain": [
              "<Figure size 576x288 with 1 Axes>"
            ]
          },
          "metadata": {},
          "output_type": "display_data"
        }
      ],
      "source": [
        "X_new_poly = poly_features.transform(X_test)\n",
        "y_fit_poly = poly_lr.predict(X_new_poly) #Predecimos con test\n",
        "\n",
        "#Codigo para graficar la curva \n",
        "plt.scatter(X, y)\n",
        "\n",
        "#Como vienen en desorden arreglamos ese problema con ORDER\n",
        "order = np.argsort(X_test.values.ravel())\n",
        "sortedX = X_test.values.ravel()[order]\n",
        "sortedY = y_test.values[order]\n",
        "sorted_pred = y_fit_poly[order]\n",
        "plt.plot(sortedX, sorted_pred, \"r-\", linewidth=2, label=\"Predictions\")\n",
        "\n",
        "plt.xlabel(\"$X$\", fontsize=18)\n",
        "plt.ylabel(\"$y$\", rotation=0, fontsize=18)\n",
        "plt.legend(loc=\"upper left\", fontsize=14)"
      ]
    },
    {
      "cell_type": "code",
      "execution_count": null,
      "metadata": {
        "id": "RMuoONCmn7cG",
        "outputId": "4f7bb1b9-0cb0-4858-8fde-d95ec0b0ae91"
      },
      "outputs": [
        {
          "name": "stdout",
          "output_type": "stream",
          "text": [
            "Error medio Absoluto (MAE): 4.0214749634696725\n",
            "Root Mean Squared Error: 5.008191565483052\n",
            "r2_score 0.7442015699279128\n"
          ]
        }
      ],
      "source": [
        "#Mostramos los resultados de las metricas\n",
        "print('Error medio Absoluto (MAE):', mean_absolute_error(y_test, y_fit_poly))\n",
        "print('Root Mean Squared Error:', np.sqrt(mean_squared_error(y_test, y_fit_poly)))\n",
        "print('r2_score',r2_score(y_test, y_fit_poly))"
      ]
    },
    {
      "cell_type": "markdown",
      "metadata": {
        "id": "Z9Vv5r-In7cG"
      },
      "source": [
        "## RIDGE"
      ]
    },
    {
      "cell_type": "code",
      "execution_count": null,
      "metadata": {
        "id": "F3aPcIHqn7cG",
        "outputId": "2aefeaa9-54aa-44bf-ffb3-e062c9627c1e"
      },
      "outputs": [
        {
          "data": {
            "text/plain": [
              "<matplotlib.legend.Legend at 0x7fe8a8660820>"
            ]
          },
          "execution_count": 167,
          "metadata": {},
          "output_type": "execute_result"
        },
        {
          "data": {
            "image/png": "[encoded data removed]",
            "text/plain": [
              "<Figure size 576x288 with 1 Axes>"
            ]
          },
          "metadata": {},
          "output_type": "display_data"
        }
      ],
      "source": [
        "#ridge_lr = Ridge(alpha=0.01)\n",
        "#ridge_lr.fit(X, y)\n",
        "#y_fit = ridge_lr.predict(X_test)\n",
        "\n",
        "#Nos ahorramos codigo usando la funcion pipeline \n",
        "#Usaremos polinomial con el ridge para predecir la curva\n",
        "model_ridge = Pipeline([(\"poly_features\", PolynomialFeatures(degree=4, include_bias=False)),\n",
        "                  (\"scaler\", StandardScaler()),\n",
        "                  (\"ridge\", Ridge(alpha = 20, solver = 'cholesky', random_state = 42))])\n",
        "#Parte para medir la metrica\n",
        "kfold = RepeatedKFold(n_splits=5, n_repeats=5)\n",
        "scores = modelo_LR = cross_validate(model_ridge, X_train, y_train,scoring=metricas, cv=kfold)\n",
        "resultados.append(scores)\n",
        "\n",
        "#Entrenamos el modelo por medio del pipeline\n",
        "model_ridge.fit(X_train, y_train)\n",
        "\n",
        "y_fit_ridge = model_ridge.predict(X_test)\n",
        "\n",
        "#Codigo para la grafica\n",
        "plt.scatter(X_train, y_train)\n",
        "\n",
        "order = np.argsort(X_test.values.ravel())\n",
        "sortedX = X_test.values.ravel()[order]\n",
        "sortedY = y_test.values[order]\n",
        "sorted_pred = y_fit_ridge[order]\n",
        "plt.plot(sortedX, sorted_pred, \"r-\", linewidth=2, label=\"Predictions\")\n",
        "\n",
        "\n",
        "\n",
        "plt.xlabel(\"$X$\", fontsize=18)\n",
        "plt.ylabel(\"$y$\", rotation=0, fontsize=18)\n",
        "plt.legend(loc=\"upper left\", fontsize=14)\n"
      ]
    },
    {
      "cell_type": "code",
      "execution_count": null,
      "metadata": {
        "id": "yUGOXTnRn7cH",
        "outputId": "1c1acebe-e903-44ac-da02-1ed4e2facc3e"
      },
      "outputs": [
        {
          "data": {
            "text/plain": [
              "(array([-11.6769905 ,  -0.47469886,   3.11113843,   1.74354175]),\n",
              " 40.02356938918892)"
            ]
          },
          "execution_count": 168,
          "metadata": {},
          "output_type": "execute_result"
        }
      ],
      "source": [
        "#Coeficientes para el modelo\n",
        "model_ridge['ridge'].coef_, model_ridge['ridge'].intercept_"
      ]
    },
    {
      "cell_type": "markdown",
      "metadata": {
        "id": "HZF56EYvn7cH"
      },
      "source": [
        "Ecuación del modelo:\n",
        "\n",
        "$\\hat{y} =  -11.67X -0.47X^2 +3.11 X^3+1.74X^4 + 40.02$"
      ]
    },
    {
      "cell_type": "code",
      "execution_count": null,
      "metadata": {
        "id": "3cLIvxcdn7cH",
        "outputId": "3c85a3ac-31e6-4984-a2fb-7d877c7622cd"
      },
      "outputs": [
        {
          "name": "stdout",
          "output_type": "stream",
          "text": [
            "Error medio Absoluto (MAE): 4.179125481676017\n",
            "Root Mean Squared Error: 5.24068598927093\n",
            "r2_score 0.7199005301981286\n"
          ]
        }
      ],
      "source": [
        "#Errores del modelo\n",
        "print('Error medio Absoluto (MAE):', mean_absolute_error(y_test, y_fit_ridge))\n",
        "print('Root Mean Squared Error:', np.sqrt(mean_squared_error(y_test, y_fit_ridge)))\n",
        "print('r2_score',r2_score(y_test, y_fit_ridge))"
      ]
    },
    {
      "cell_type": "markdown",
      "metadata": {
        "id": "EHMmUKbCn7cH"
      },
      "source": [
        "## LASSO"
      ]
    },
    {
      "cell_type": "code",
      "execution_count": null,
      "metadata": {
        "id": "McePim30n7cH",
        "outputId": "c940d620-bff8-424e-d1d7-2f64e77d5169"
      },
      "outputs": [
        {
          "data": {
            "text/plain": [
              "<matplotlib.legend.Legend at 0x7fe88858dd30>"
            ]
          },
          "execution_count": 166,
          "metadata": {},
          "output_type": "execute_result"
        },
        {
          "data": {
            "image/png": "[encoded data removed]",
            "text/plain": [
              "<Figure size 576x288 with 1 Axes>"
            ]
          },
          "metadata": {},
          "output_type": "display_data"
        }
      ],
      "source": [
        "#Como en el Ridge se usa el pipeline para simplificar el codigo\n",
        "model_lasso = Pipeline([(\"poly_features\", PolynomialFeatures(degree=6, include_bias=False)),\n",
        "                  (\"scaler\", StandardScaler()),\n",
        "                  (\"ridge\", Lasso(alpha = 0.001,max_iter=1000000, random_state = 42))])\n",
        "#Parte para obtener el desempeño del modelo graficas\n",
        "kfold = RepeatedKFold(n_splits=5, n_repeats=5)\n",
        "scores  = cross_validate(model_lasso, X_train, y_train,scoring=metricas, cv=kfold)\n",
        "resultados.append(scores)\n",
        "\n",
        "#Entrenamos pipeline con el train\n",
        "model_lasso.fit(X_train, y_train)\n",
        "\n",
        "#predecimos con test\n",
        "y_fit_lasso = model_lasso.predict(X_test)\n",
        "\n",
        "#Grafica de lasso\n",
        "plt.scatter(X_train, y_train)\n",
        "\n",
        "order = np.argsort(X_test.values.ravel())\n",
        "sortedX = X_test.values.ravel()[order]\n",
        "sortedY = y_test.values[order]\n",
        "sorted_pred = y_fit_lasso[order]\n",
        "plt.plot(sortedX, sorted_pred, \"r-\", linewidth=2, label=\"Predictions\")\n",
        "\n",
        "\n",
        "\n",
        "plt.xlabel(\"$X$\", fontsize=18)\n",
        "plt.ylabel(\"$y$\", rotation=0, fontsize=18)\n",
        "plt.legend(loc=\"upper left\", fontsize=14)\n"
      ]
    },
    {
      "cell_type": "code",
      "execution_count": null,
      "metadata": {
        "id": "5I5Hvmdqn7cI",
        "outputId": "b700f642-6d87-43a6-98c2-4f0814d94b3c"
      },
      "outputs": [
        {
          "data": {
            "text/plain": [
              "(array([-58.04365001,  99.42933863, -55.38063209,  -0.        ,\n",
              "          1.97617456,   3.55560078]),\n",
              " 40.023569389188985)"
            ]
          },
          "execution_count": 169,
          "metadata": {},
          "output_type": "execute_result"
        }
      ],
      "source": [
        "#Coeficientes del modelo\n",
        "model_lasso['ridge'].coef_, model_lasso['ridge'].intercept_"
      ]
    },
    {
      "cell_type": "markdown",
      "metadata": {
        "id": "oHcOnNyqn7cI"
      },
      "source": [
        "Ecuación del modelo:\n",
        "\n",
        "$\\hat{y} =  -58.04X +99.42X^2 -55.38 X^3-0X^4+ 1.97X^5 +3.55X^6+ 40.02$"
      ]
    },
    {
      "cell_type": "code",
      "execution_count": null,
      "metadata": {
        "id": "awYdJVr7n7cI",
        "outputId": "00e68b34-4ca5-4060-c9e8-764ee6b84cd8"
      },
      "outputs": [
        {
          "name": "stdout",
          "output_type": "stream",
          "text": [
            "Error medio Absoluto (MAE): 4.050834464430144\n",
            "Root Mean Squared Error: 5.0090222269280815\n",
            "r2_score 0.7441167091505387\n"
          ]
        }
      ],
      "source": [
        "#Resultado de los errores\n",
        "print('Error medio Absoluto (MAE):', mean_absolute_error(y_test, y_fit_lasso))\n",
        "print('Root Mean Squared Error:', np.sqrt(mean_squared_error(y_test, y_fit_lasso)))\n",
        "print('r2_score',r2_score(y_test, y_fit_lasso))"
      ]
    },
    {
      "cell_type": "markdown",
      "metadata": {
        "id": "wsqbfh9Mn7cI"
      },
      "source": [
        "## Gradicas Desempeño R^2"
      ]
    },
    {
      "cell_type": "code",
      "execution_count": null,
      "metadata": {
        "id": "v7J0Fi61n7cI",
        "outputId": "5d659a34-62b1-49c2-c477-193635593ce2"
      },
      "outputs": [
        {
          "data": {
            "image/png": "[encoded data removed]",
            "text/plain": [
              "<Figure size 576x288 with 1 Axes>"
            ]
          },
          "metadata": {},
          "output_type": "display_data"
        }
      ],
      "source": [
        "#Con las graficas obtenidas en la lista resultados, la pasamos por un for para que se muestren los resultados de entrenamiento por modelo\n",
        "sns.set(rc={'figure.figsize':(8,4)})\n",
        "\n",
        "temporal= list()\n",
        "for i in range(len(resultados)):\n",
        "  rr = resultados[i]['test_R2']\n",
        "  temporal.append(rr)\n",
        "\n",
        "#Los labels van en orden de ejecucion\n",
        "plt.boxplot(temporal, labels=[\"LR\",\"POLY\",\"RIDGE\",\"LASSO\"], showmeans=True)\n",
        "\n",
        "plt.show()"
      ]
    },
    {
      "cell_type": "markdown",
      "metadata": {
        "id": "JrIQXe6in7cI"
      },
      "source": [
        "## Gradicas Desempeño MAE"
      ]
    },
    {
      "cell_type": "code",
      "execution_count": null,
      "metadata": {
        "id": "ACheKQLtn7cJ",
        "outputId": "a91a1838-26ae-40c3-8071-d2d08a630322"
      },
      "outputs": [
        {
          "data": {
            "image/png": "[encoded data removed]",
            "text/plain": [
              "<Figure size 576x288 with 1 Axes>"
            ]
          },
          "metadata": {},
          "output_type": "display_data"
        }
      ],
      "source": [
        "#Con las graficas obtenidas en la lista resultados, la pasamos por un for para que se muestren los resultados de entrenamiento por modelo\n",
        "##La grafica sale negativa porque la metrica por default es neg_mean_absolute_error\n",
        "sns.set(rc={'figure.figsize':(8,4)})\n",
        "\n",
        "temporal= list()\n",
        "for i in range(len(resultados)):\n",
        "  rr = resultados[i]['test_MAE']\n",
        "  temporal.append(rr)\n",
        "\n",
        "plt.boxplot(temporal, labels=[\"LR\",\"POLY\",\"RIDGE\",\"LASSO\"], showmeans=True)\n",
        "\n",
        "plt.show()"
      ]
    },
    {
      "cell_type": "markdown",
      "metadata": {
        "id": "CRv8CNrhn7cJ"
      },
      "source": [
        "## Conclusiones: \n",
        "* ¿Que método conviene más a la empresa, ¿por qué?\n",
        "\n",
        "Dado el resultado de las métricas el mejor modelo por el que puede optar la empresa sería el uso de LASSO para sus predicciones, aunque por ejemplo el resultado R2 nos indica que el modelo solo puede llegar a dar una predicción del 0.74 correctamente, por lo que sería ideal usar otro modelo que pueda generalizar mejor el dataset\n",
        "\n",
        "* ¿Que porcentajes de entrenamiento y evaluación usaste?\n",
        "\n",
        "Se usaron el 90% de la información para el set de entrenamiento y el resto 10% se uso para la evaluación\n",
        "\n",
        "* ¿Que error tienes?, ¿es bueno?, ¿cómo lo sabes?\n",
        "\n",
        "En la parte de errores, se puede ver un desempeño casi similar entre la regresión polinomial, Lasso y Ridge. En este caso el modelo de regresión lineal no logra generalizar correctamente los datos de este dataset por lo que se descartaría. \n",
        "En cuanto a los demás modelos, vemos un crecimiento gradual del desempeño de las métricas donde los factores clave son el grado del polinomio y el alpha que se emplea en los modelos lasso y ridge. Entre más alpha tenga ridge la curva se catigaba más.\n",
        "No son las mejores métricas que podemos obtener dado que el mejor solo llego a un 0.74 con el conjunto de entrenamiento y 0.69 con el conjuento de prueba por lo que se podría optar por usar un modelo diferente para la información\n"
      ]
    },
    {
      "cell_type": "markdown",
      "metadata": {
        "id": "qVJHfFdwn7cJ"
      },
      "source": [
        "# Ejercicio 2 Regresion Multiple"
      ]
    },
    {
      "cell_type": "code",
      "execution_count": null,
      "metadata": {
        "id": "4HtkdO8mn7cJ",
        "outputId": "1b971979-ce1c-44d8-baf5-d73caf48f2e0"
      },
      "outputs": [
        {
          "data": {
            "text/html": [
              "<div>\n",
              "<style scoped>\n",
              "    .dataframe tbody tr th:only-of-type {\n",
              "        vertical-align: middle;\n",
              "    }\n",
              "\n",
              "    .dataframe tbody tr th {\n",
              "        vertical-align: top;\n",
              "    }\n",
              "\n",
              "    .dataframe thead th {\n",
              "        text-align: right;\n",
              "    }\n",
              "</style>\n",
              "<table border=\"1\" class=\"dataframe\">\n",
              "  <thead>\n",
              "    <tr style=\"text-align: right;\">\n",
              "      <th></th>\n",
              "      <th>id</th>\n",
              "      <th>date</th>\n",
              "      <th>price</th>\n",
              "      <th>bedrooms</th>\n",
              "      <th>bathrooms</th>\n",
              "      <th>sqft_living</th>\n",
              "      <th>sqft_lot</th>\n",
              "      <th>floors</th>\n",
              "      <th>waterfront</th>\n",
              "      <th>view</th>\n",
              "      <th>...</th>\n",
              "      <th>grade</th>\n",
              "      <th>sqft_above</th>\n",
              "      <th>sqft_basement</th>\n",
              "      <th>yr_built</th>\n",
              "      <th>yr_renovated</th>\n",
              "      <th>zipcode</th>\n",
              "      <th>lat</th>\n",
              "      <th>long</th>\n",
              "      <th>sqft_living15</th>\n",
              "      <th>sqft_lot15</th>\n",
              "    </tr>\n",
              "  </thead>\n",
              "  <tbody>\n",
              "    <tr>\n",
              "      <th>0</th>\n",
              "      <td>7129300520</td>\n",
              "      <td>20141013T000000</td>\n",
              "      <td>221900.0</td>\n",
              "      <td>3</td>\n",
              "      <td>1.00</td>\n",
              "      <td>1180</td>\n",
              "      <td>5650</td>\n",
              "      <td>1.0</td>\n",
              "      <td>0</td>\n",
              "      <td>0</td>\n",
              "      <td>...</td>\n",
              "      <td>7</td>\n",
              "      <td>1180</td>\n",
              "      <td>0</td>\n",
              "      <td>1955</td>\n",
              "      <td>0</td>\n",
              "      <td>98178</td>\n",
              "      <td>47.5112</td>\n",
              "      <td>-122.257</td>\n",
              "      <td>1340</td>\n",
              "      <td>5650</td>\n",
              "    </tr>\n",
              "    <tr>\n",
              "      <th>1</th>\n",
              "      <td>6414100192</td>\n",
              "      <td>20141209T000000</td>\n",
              "      <td>538000.0</td>\n",
              "      <td>3</td>\n",
              "      <td>2.25</td>\n",
              "      <td>2570</td>\n",
              "      <td>7242</td>\n",
              "      <td>2.0</td>\n",
              "      <td>0</td>\n",
              "      <td>0</td>\n",
              "      <td>...</td>\n",
              "      <td>7</td>\n",
              "      <td>2170</td>\n",
              "      <td>400</td>\n",
              "      <td>1951</td>\n",
              "      <td>1991</td>\n",
              "      <td>98125</td>\n",
              "      <td>47.7210</td>\n",
              "      <td>-122.319</td>\n",
              "      <td>1690</td>\n",
              "      <td>7639</td>\n",
              "    </tr>\n",
              "    <tr>\n",
              "      <th>2</th>\n",
              "      <td>5631500400</td>\n",
              "      <td>20150225T000000</td>\n",
              "      <td>180000.0</td>\n",
              "      <td>2</td>\n",
              "      <td>1.00</td>\n",
              "      <td>770</td>\n",
              "      <td>10000</td>\n",
              "      <td>1.0</td>\n",
              "      <td>0</td>\n",
              "      <td>0</td>\n",
              "      <td>...</td>\n",
              "      <td>6</td>\n",
              "      <td>770</td>\n",
              "      <td>0</td>\n",
              "      <td>1933</td>\n",
              "      <td>0</td>\n",
              "      <td>98028</td>\n",
              "      <td>47.7379</td>\n",
              "      <td>-122.233</td>\n",
              "      <td>2720</td>\n",
              "      <td>8062</td>\n",
              "    </tr>\n",
              "    <tr>\n",
              "      <th>3</th>\n",
              "      <td>2487200875</td>\n",
              "      <td>20141209T000000</td>\n",
              "      <td>604000.0</td>\n",
              "      <td>4</td>\n",
              "      <td>3.00</td>\n",
              "      <td>1960</td>\n",
              "      <td>5000</td>\n",
              "      <td>1.0</td>\n",
              "      <td>0</td>\n",
              "      <td>0</td>\n",
              "      <td>...</td>\n",
              "      <td>7</td>\n",
              "      <td>1050</td>\n",
              "      <td>910</td>\n",
              "      <td>1965</td>\n",
              "      <td>0</td>\n",
              "      <td>98136</td>\n",
              "      <td>47.5208</td>\n",
              "      <td>-122.393</td>\n",
              "      <td>1360</td>\n",
              "      <td>5000</td>\n",
              "    </tr>\n",
              "    <tr>\n",
              "      <th>4</th>\n",
              "      <td>1954400510</td>\n",
              "      <td>20150218T000000</td>\n",
              "      <td>510000.0</td>\n",
              "      <td>3</td>\n",
              "      <td>2.00</td>\n",
              "      <td>1680</td>\n",
              "      <td>8080</td>\n",
              "      <td>1.0</td>\n",
              "      <td>0</td>\n",
              "      <td>0</td>\n",
              "      <td>...</td>\n",
              "      <td>8</td>\n",
              "      <td>1680</td>\n",
              "      <td>0</td>\n",
              "      <td>1987</td>\n",
              "      <td>0</td>\n",
              "      <td>98074</td>\n",
              "      <td>47.6168</td>\n",
              "      <td>-122.045</td>\n",
              "      <td>1800</td>\n",
              "      <td>7503</td>\n",
              "    </tr>\n",
              "  </tbody>\n",
              "</table>\n",
              "<p>5 rows × 21 columns</p>\n",
              "</div>"
            ],
            "text/plain": [
              "           id             date     price  bedrooms  bathrooms  sqft_living  \\\n",
              "0  7129300520  20141013T000000  221900.0         3       1.00         1180   \n",
              "1  6414100192  20141209T000000  538000.0         3       2.25         2570   \n",
              "2  5631500400  20150225T000000  180000.0         2       1.00          770   \n",
              "3  2487200875  20141209T000000  604000.0         4       3.00         1960   \n",
              "4  1954400510  20150218T000000  510000.0         3       2.00         1680   \n",
              "\n",
              "   sqft_lot  floors  waterfront  view  ...  grade  sqft_above  sqft_basement  \\\n",
              "0      5650     1.0           0     0  ...      7        1180              0   \n",
              "1      7242     2.0           0     0  ...      7        2170            400   \n",
              "2     10000     1.0           0     0  ...      6         770              0   \n",
              "3      5000     1.0           0     0  ...      7        1050            910   \n",
              "4      8080     1.0           0     0  ...      8        1680              0   \n",
              "\n",
              "   yr_built  yr_renovated  zipcode      lat     long  sqft_living15  \\\n",
              "0      1955             0    98178  47.5112 -122.257           1340   \n",
              "1      1951          1991    98125  47.7210 -122.319           1690   \n",
              "2      1933             0    98028  47.7379 -122.233           2720   \n",
              "3      1965             0    98136  47.5208 -122.393           1360   \n",
              "4      1987             0    98074  47.6168 -122.045           1800   \n",
              "\n",
              "   sqft_lot15  \n",
              "0        5650  \n",
              "1        7639  \n",
              "2        8062  \n",
              "3        5000  \n",
              "4        7503  \n",
              "\n",
              "[5 rows x 21 columns]"
            ]
          },
          "execution_count": 2,
          "metadata": {},
          "output_type": "execute_result"
        }
      ],
      "source": [
        "#Leemos el dataset para el ejercicio 2, se pone local porque pesa mucho para leerlo desde la url\n",
        "df_mul = pd.read_csv('kc_house_data.csv',sep=\",\")\n",
        "df_mul.head()"
      ]
    },
    {
      "cell_type": "code",
      "execution_count": null,
      "metadata": {
        "id": "QJlL9_Isn7cK"
      },
      "outputs": [],
      "source": [
        "#Codigo para quitar las variables que no nos importan para el modelo\n",
        "df_mul.drop('id', axis = 1, inplace = True)\n",
        "df_mul.drop('date', axis = 1, inplace = True)\n",
        "df_mul.drop('zipcode', axis = 1, inplace = True)\n",
        "df_mul.drop('lat', axis = 1, inplace = True)\n",
        "df_mul.drop('long', axis = 1, inplace = True)\n"
      ]
    },
    {
      "cell_type": "code",
      "execution_count": null,
      "metadata": {
        "id": "ni6h0-yTn7cK"
      },
      "outputs": [],
      "source": [
        "#Codigo para determinar la salida del modelo\n",
        "columns = df_mul.columns.drop('price')\n",
        "\n",
        "features = columns\n",
        "label = ['price']\n",
        "\n",
        "X = df_mul[features]\n",
        "y = df_mul[label]"
      ]
    },
    {
      "cell_type": "code",
      "execution_count": null,
      "metadata": {
        "id": "lNyKEiYtn7cK"
      },
      "outputs": [],
      "source": [
        "#Codigo de particion como el previo usamos 90-10 para el modelo\n",
        "MX_train, MX_test, My_train, My_test = train_test_split(X, y, train_size= 0.9, random_state = 42) #90% para Train y 10% para test\n",
        "metricas={\"R2\":\"r2\", \"MAE\":'neg_mean_absolute_error'}\n",
        "resultados_m = list() #Para la graficas"
      ]
    },
    {
      "cell_type": "markdown",
      "metadata": {
        "id": "u45NrtQCn7cL"
      },
      "source": [
        "## Regresion Lineal Multiple"
      ]
    },
    {
      "cell_type": "code",
      "execution_count": null,
      "metadata": {
        "id": "wzxuTrgkn7cL"
      },
      "outputs": [],
      "source": [
        "#La regresion multiple funciona con el mismo codigo que la simple solo cambia el xtrain usado\n",
        "LRM=LinearRegression(fit_intercept=True)\n",
        "#Scores para las metricas\n",
        "kfold = RepeatedKFold(n_splits=5, n_repeats=5)\n",
        "scores = modelo_LR = cross_validate(LRM, MX_train, My_train,scoring=metricas, cv=kfold)\n",
        "resultados_m.append(scores)\n",
        "#Entrenamos con train predecimos con test\n",
        "LRM.fit(MX_train,My_train)\n",
        "y_fit = LRM.predict(MX_test)"
      ]
    },
    {
      "cell_type": "code",
      "execution_count": null,
      "metadata": {
        "id": "9suGcJlRn7cL",
        "outputId": "5a19b374-2851-4c97-d013-6ded36651bea"
      },
      "outputs": [
        {
          "name": "stdout",
          "output_type": "stream",
          "text": [
            "-40058.55232506637 X1 48903.38289482001 X2 109.46520638978836 X3 -0.025258978981582914 X4 24974.478990570926 X5 564105.7060360991 X6 43025.77315087153 X7 18438.154030980677 X8 118273.28541638666 X9 52.06397295249553 X10 57.40123399024105 X11 -3576.9822845731337 X12 9.826307041013848 X13 24.542187028651824 X14 -0.531614380703104 X15 [6221342.80254659]\n"
          ]
        }
      ],
      "source": [
        "LRM.coef_\n",
        "LRM.intercept_\n",
        "lista=\"\"\n",
        "cont=1\n",
        "for i in LRM.coef_.ravel():\n",
        "    lista+=(str(i)+' X'+str(cont)+' ')\n",
        "    cont+=1\n",
        "\n",
        "\n",
        "#print(LRM.coef_.ravel())\n",
        "\n",
        "print( lista+ str(LRM.intercept_))\n",
        "\n",
        "#print(\" i {}\".format([i for i in LRM.coef_.ravel()]))\n"
      ]
    },
    {
      "cell_type": "markdown",
      "metadata": {
        "id": "lhMHiWDtn7cL"
      },
      "source": [
        "Ecuación del modelo:\n",
        "$\\hat{y} =  -40058.55232506637 X1+ 48903.38289482001 X2 +109.46520638978836 X3 -0.025258978981582914 X4 +24974.478990570926 X5+ 564105.7060360991 X6+ 43025.77315087153 X7+ 18438.154030980677 X8 +118273.28541638666 X9+ 52.06397295249553 X10 +57.40123399024105 X11 -3576.9822845731337 X12 +9.826307041013848 X13+ 24.542187028651824 X14 -0.531614380703104 X15+ 6221342.80254659$"
      ]
    },
    {
      "cell_type": "code",
      "execution_count": null,
      "metadata": {
        "id": "aYLE78t1n7cL",
        "outputId": "6f8146e6-cf48-42c3-fa57-432a70a7f9b3"
      },
      "outputs": [
        {
          "name": "stdout",
          "output_type": "stream",
          "text": [
            "Error medio Absoluto (MAE): 143442.02866793738\n",
            "Root Mean Squared Error: 226877.74290228297\n",
            "r2_score 0.646665069185899\n"
          ]
        }
      ],
      "source": [
        "#Obtenemos las metricas\n",
        "print('Error medio Absoluto (MAE):', mean_absolute_error(My_test, y_fit))\n",
        "print('Root Mean Squared Error:', np.sqrt(mean_squared_error(My_test, y_fit)))\n",
        "print('r2_score',r2_score(My_test, y_fit))"
      ]
    },
    {
      "cell_type": "markdown",
      "metadata": {
        "id": "iszJ6mXqn7cM"
      },
      "source": [
        "## Regresion Polinomial Multiple"
      ]
    },
    {
      "cell_type": "code",
      "execution_count": null,
      "metadata": {
        "id": "o-b6Piwdn7cM"
      },
      "outputs": [],
      "source": [
        "#Como en la simple, la polinomial parte del polynomial features y el degree\n",
        "poly_features_mul = PolynomialFeatures(degree=2, include_bias=False)\n",
        "X_poly = poly_features_mul.fit_transform(MX_train) #Transformamos entrenamiento\n",
        "poly_lr_mul = LinearRegression(fit_intercept=True)\n",
        "#Para las metricas de la grafica\n",
        "kfold = RepeatedKFold(n_splits=5, n_repeats=5)\n",
        "scores = modelo_LR = cross_validate(poly_lr_mul, MX_train, My_train,scoring=metricas, cv=kfold)\n",
        "resultados_m.append(scores)\n",
        "#Entrenamos con train\n",
        "poly_lr_mul.fit(X_poly, My_train)\n",
        "X_new_poly = poly_features_mul.transform(MX_test)\n",
        "#Predecimos con test\n",
        "y_fit_poly = poly_lr_mul.predict(X_new_poly)"
      ]
    },
    {
      "cell_type": "code",
      "execution_count": null,
      "metadata": {
        "id": "_Yr1htOtn7cM",
        "outputId": "9304ec1c-5933-46c0-e793-da78bf13324d"
      },
      "outputs": [
        {
          "name": "stdout",
          "output_type": "stream",
          "text": [
            "Coeficientes: 852724.280054324 -1117512.5040722985 -206.56165312666522 -42.26042564683538 -2027255.2368565311 -4404312.0307920175 -102881.65834604483 545097.489678647 1162112.555019642 -471.24918452016686 -473.8212895463894 -82416.58545678486 -3277.9370193158297 3958.083124179423 -11.793884432082791 981.2742245936763 2995.201807184813 -9.62410174304523 0.28471192243432597 15003.610905442367 -12681.992647718029 -267.1225017197293 -4074.860266518421 -2847.9594766040937 -5.889553216569766 -16.310892232490573 -438.059048049377 -7.716235163803702 16.992511107729115 0.016307812298691715 -7349.474330848776 22.884562165934994 -0.5994676593711006 -28619.905308107507 -2443.9784185743947 10949.870900194948 2150.236560241323 16288.831251598842 22.343612082048026 0.25495462439022276 526.7839839074323 -18.75457533860095 -21.071061309145307 0.4094343894804524 615.4571100154426 -1123.590309633175 -8.611018443558123 175.2594268858065 -13.12116570796735 5.638535749838184 22.361495607972756 -785.698218371137 -151.56996626104228 63.766660921508446 15.144711406930583 160.00171437649988 -1667.4194913762622 1.1369120329618454e-06 -0.04521910511141414 -0.31780392683467085 0.09081281819544529 0.03924890571715878 0.2269374820170924 1123.5896209368948 1123.5897600614608 0.02060482045635581 -1.687734038569033e-05 0.0005051959306001663 2.3300526663661003e-06 23225.80596555573 -90318.62111662465 4118.525236266658 27038.988981766233 3938.2905147662254 -21.26774265981851 12.73437321552285 976.0478374119723 -3.7318531326218967 -18.100543567559214 0.006472122313084583 -4404923.590109627 -40956.981182981566 2528.4419765993575 -151408.60590161843 157.1847828024422 18.102238609564676 4888.106025321498 -12.524106400050638 200.82465380739194 -0.6468904205229506 8708.461407115383 4647.463665487833 16656.70286740296 -6.817282914786688 -6.564441829889574 -14.908832798049517 -11.809646762754367 -0.08032882961015275 -0.19920201208049093 1937.0746561685057 -7606.102114242736 -1.7597909403096992 7.803445001579121 -311.63272166090684 -11.88512579930396 55.5090553467968 -0.3169436563080126 5359.225226291282 11.793946782880994 13.824613356002601 -593.6794229736563 -10.278481031336035 -23.09392149076166 -0.6111334182342034 170.24539030401502 -293.6231400585966 -63.50822571251774 -15.107669552740845 -160.00633773079608 1667.419601420639 -463.95940670698474 -63.49037852289621 -15.10360868054704 -159.99893475390854 1667.4191423109733 22.19447531087644 0.44136749330391467 -2.0449117808020674 0.00828427355736494 1.233508861698283 0.05293551695285714 -0.00013974079047329724 0.034006484667770565 -0.0002548275515437126 3.2712705433368683e-07 \n",
            "Intercept: [76631731.4826621]\n"
          ]
        }
      ],
      "source": [
        "poly_lr_mul.coef_\n",
        "poly_lr_mul.intercept_\n",
        "lista=\"\"\n",
        "cont=1\n",
        "for i in poly_lr_mul.coef_.ravel():\n",
        "    lista+=(str(i)+' ')\n",
        "    cont+=1\n",
        "\n",
        "#Debido a la alta cantidad de parametros se informan solo los coefincientes que el modelo obtuvo, no podemos armar formato latex\n",
        "#Comenta la profesora que dejemos el arreglo con los coeficientes\n",
        "print(\"Coeficientes: {}\".format(lista))\n",
        "\n",
        "print(\"Intercept: {}\".format(poly_lr_mul.intercept_))\n"
      ]
    },
    {
      "cell_type": "code",
      "execution_count": null,
      "metadata": {
        "id": "75ULJVe7n7cN",
        "outputId": "7602c3e4-e87a-43dc-bc4d-26ceb38b8c17"
      },
      "outputs": [
        {
          "name": "stdout",
          "output_type": "stream",
          "text": [
            "Error medio Absoluto (MAE): 131378.48727324526\n",
            "Root Mean Squared Error: 223117.35561743026\n",
            "r2_score 0.6582807092776741\n"
          ]
        }
      ],
      "source": [
        "#Se muestran los errores de la matriz\n",
        "print('Error medio Absoluto (MAE):', mean_absolute_error(My_test, y_fit_poly))\n",
        "print('Root Mean Squared Error:', np.sqrt(mean_squared_error(My_test, y_fit_poly)))\n",
        "print('r2_score',r2_score(My_test, y_fit_poly))"
      ]
    },
    {
      "cell_type": "markdown",
      "metadata": {
        "id": "_pzTIs2fn7cN"
      },
      "source": [
        "## Ridge"
      ]
    },
    {
      "cell_type": "code",
      "execution_count": null,
      "metadata": {
        "id": "HSDVmNexn7cN"
      },
      "outputs": [],
      "source": [
        "#Aplicaremos ridge con una regresion polinomial de grado 2, usaremos el pipeline para simplificar codigo\n",
        "model_ridge_mul = Pipeline([(\"poly_features\", PolynomialFeatures(degree=2, include_bias=False)),\n",
        "                  (\"scaler\", StandardScaler()),\n",
        "                  (\"ridge\", Ridge(alpha = 20, solver = 'cholesky', random_state = 42))])\n",
        "#Guardamos el desempeño para las graficas del final\n",
        "kfold = RepeatedKFold(n_splits=5, n_repeats=3)\n",
        "scores = cross_validate(model_ridge_mul, MX_train, My_train,scoring=metricas, cv=kfold)\n",
        "resultados_m.append(scores)\n",
        "\n",
        "#Entrenamos con train, predecimos con test\n",
        "model_ridge_mul.fit(MX_train, My_train)\n",
        "\n",
        "y_fit_ridge = model_ridge_mul.predict(MX_test)"
      ]
    },
    {
      "cell_type": "code",
      "execution_count": null,
      "metadata": {
        "id": "HQ9DH3-An7cN",
        "outputId": "7bb77874-11b9-4904-cefc-2e6bfe9cae26"
      },
      "outputs": [
        {
          "name": "stdout",
          "output_type": "stream",
          "text": [
            "Coeficientes: 38035.00833315902 13254.414904214293 -343.00106274248736 -67793.08245207665 -12147.585750524144 -5748.553542402081 -22122.327215815338 19661.55217702035 60012.387260696916 -5243.364082170743 9153.630323563668 -66327.58355254964 -31766.325641482937 65304.18776113118 24009.87633474075 10254.113040723265 -24762.850762358386 -27186.42690856333 6450.870313713839 25171.323510841532 -4621.692708335438 -268.40382351794557 905.5969045683237 2890.0462097957397 -20990.90314858721 -24149.721807299185 -63873.15535500103 1254.926597914477 47436.35223339513 11380.964670570098 7891.9000328549755 70191.0628401822 -22340.313325542735 -45412.3088543674 5886.932260201727 20791.33345898167 -35715.98561653435 90122.45236971423 83452.10720877169 -4137.760463800454 -1075.9436477720128 -25451.044509467094 -77168.33129352964 15714.062313310273 16811.147618831834 -25782.40510077714 -25034.446647675224 35534.71470362562 -18765.58869230598 13621.914744934536 133478.17993023677 21955.255328997497 -5143.656152731173 -80913.03393955439 12805.457919414279 -2963.722171500395 -12783.872237269215 11972.57375230813 -7085.376265639361 -1852.0991909339023 1670.9137176387571 -9256.45245822771 71018.11976360434 -26096.056918988488 -11458.071384912226 24893.70609383829 -7392.232880419305 27814.42895793943 38386.394145614446 50298.91986075169 -12189.384216642506 2823.7826846362877 27281.370290651877 39420.9722113883 -33114.783118200685 22540.533017813217 -2258.1849076715584 -24216.53826903402 -78620.91646528816 6292.278376960363 -5748.553542436365 -13976.885175713229 -7789.80696943855 -61738.34779709391 43157.0366654011 7023.295299047312 45064.337695081915 -5602.2227911724285 39530.47388060161 -2520.545194097732 19125.137248434465 12747.26828006129 86774.98925893012 -19960.614405796605 -11262.609261117435 -61249.16982213163 -7736.606978766509 14443.248943878958 -6765.018385896775 12113.718856271911 -11876.474605178499 4070.7239483233043 20569.60513083124 -91956.93233465176 -25006.681468448904 184831.64031232477 -44204.92375565184 75155.49992656604 114477.42813835434 84457.56562580996 -60365.702213161145 10026.189937312085 -153068.88974977806 -102206.36790930513 18862.41105342988 20178.748469435355 -59814.659366861364 13931.742129664013 -7912.250772046506 -12250.443095370307 -46402.07255887367 -56387.1211490319 5844.269390833332 13106.25152126894 -8747.28656910692 7075.739028414049 -2009.1898202145762 -114320.58078444254 86095.48380911899 15032.90068603382 72581.58879649434 -1781.8923591257155 78433.58631399476 -853.2046883940043 207.01891039452173 \n",
            "Intercept: [539016.12755128]\n"
          ]
        }
      ],
      "source": [
        "#model_ridge_mul['ridge'].coef_, model_ridge_mul['ridge'].intercept_\n",
        "#Para obtener el campo se usa objeto pipeline (paso).propiedad del objeto\n",
        "lista=\"\"\n",
        "cont=1\n",
        "for i in model_ridge_mul['ridge'].coef_.ravel():\n",
        "    lista+=(str(i)+' ')\n",
        "    cont+=1\n",
        "\n",
        "#print(model_ridge_mul['ridge'].coef_.ravel())\n",
        "\n",
        "#Debido a la alta cantidad de parametros se informan solo los coefincientes que el modelo obtuvo, no podemos armar formato latex\n",
        "#Comenta la profesora que dejemos el arreglo con los coeficientes\n",
        "print(\"Coeficientes: {}\".format(lista))\n",
        "\n",
        "print(\"Intercept: {}\".format(model_ridge_mul['ridge'].intercept_))"
      ]
    },
    {
      "cell_type": "code",
      "execution_count": null,
      "metadata": {
        "id": "x3kRUdUIn7cN",
        "outputId": "92f4bc1e-d58b-490b-854d-bc676858648c"
      },
      "outputs": [
        {
          "name": "stdout",
          "output_type": "stream",
          "text": [
            "Error medio Absoluto (MAE): 132082.52498095372\n",
            "Root Mean Squared Error: 220422.79876944033\n",
            "r2_score 0.6664846607348995\n"
          ]
        }
      ],
      "source": [
        "#Imprimimos los errores del modelo\n",
        "print('Error medio Absoluto (MAE):', mean_absolute_error(My_test, y_fit_ridge))\n",
        "print('Root Mean Squared Error:', np.sqrt(mean_squared_error(My_test, y_fit_ridge)))\n",
        "print('r2_score',r2_score(My_test, y_fit_ridge))"
      ]
    },
    {
      "cell_type": "code",
      "execution_count": null,
      "metadata": {
        "id": "rqznwNlVn7cN",
        "outputId": "9b36b659-7bb6-4ed2-8cd8-d180e168caff"
      },
      "outputs": [
        {
          "name": "stderr",
          "output_type": "stream",
          "text": [
            "/Users/luis/opt/anaconda3/lib/python3.8/site-packages/sklearn/linear_model/_coordinate_descent.py:648: ConvergenceWarning: Objective did not converge. You might want to increase the number of iterations, check the scale of the features or consider increasing regularisation. Duality gap: 3.215e+14, tolerance: 2.598e+11\n",
            "  model = cd_fast.enet_coordinate_descent(\n"
          ]
        }
      ],
      "source": [
        "#Usaremos la regresion polinomial, aplicando lasso, pipeline nos simplificara codigo para mejor manejo\n",
        "model_lasso_mul = Pipeline([(\"poly_features\", PolynomialFeatures(degree=2, include_bias=False)),\n",
        "                  (\"scaler\", StandardScaler()),\n",
        "                  (\"ridge\", Lasso(alpha = 0.001,max_iter=10000, random_state = 42))])\n",
        "                  #El modelo no converge rapido ponerle mas iteraciones no garantiza una mejor metrica o desempeño\n",
        "\n",
        "#Guardamos desempeño para las graficas\n",
        "kfold = RepeatedKFold(n_splits=5, n_repeats=3)\n",
        "scores = cross_validate(model_lasso_mul, MX_train, My_train,scoring=metricas, cv=kfold,n_jobs=-1)\n",
        "resultados_m.append(scores)\n",
        "\n",
        "#Parte de entrenamiento y prediccion\n",
        "model_lasso_mul.fit(MX_train, My_train)\n",
        "\n",
        "y_fit_lasso = model_lasso_mul.predict(MX_test)"
      ]
    },
    {
      "cell_type": "code",
      "execution_count": null,
      "metadata": {
        "id": "reNjwj5wn7cO",
        "outputId": "7c4e10cf-352a-44b0-ab81-aa4039792075"
      },
      "outputs": [
        {
          "name": "stdout",
          "output_type": "stream",
          "text": [
            "Coeficientes: 579500.0473177384 -92040.19514454612 425837.0005065147 -716026.1076294912 -310611.06827771966 -234435.3157627474 300400.079344889 450474.5548302487 750487.6665818397 -320194.9386872415 -181443.6171469637 -387598.8593263965 -505362.5388413992 703145.4944888132 -185028.08977084974 10947.434977680328 -1552.6380702537972 -72478.17112398901 21359.19281650556 37670.10773599647 -6550.613731243788 -2127.67603560812 -9173.605293020908 -22943.026143776013 2677.9504459183086 -14985.928057899357 -603568.5158269621 -5382.643313892085 66910.00408486988 8102.030664472028 -7416.908002799724 250899.02716309647 -52656.646332056596 -50545.78395144639 2373.1122448364686 26844.44740701627 -25539.973404316952 133737.6374534855 -47272.37660424055 -54632.79240301315 65382.55525285546 -27484.587310966606 -98450.56338007827 35071.54144800239 -191136.04864232684 144563.99101246847 -20901.849552116404 -107013.11673554394 219999.593842991 -115859.31448101808 314143.86374261434 -291141.8282669907 -133812.17914160507 -114904.48382410132 64970.33053269401 -28372.27596420358 211403.68804118613 20994.992816439782 -5763.6527646633185 -2048.2727597315857 3847.1291171745506 -596.2914005616276 111852.37490261008 -200708.29669991918 -46017.43216765217 641066.7728853209 -4003.5772104146126 35560.28052276098 32400.14346444055 44472.28029786256 -11289.30107776444 5154.780247663595 26190.13584801057 41467.316374209644 -39786.01406265649 13719.608723895339 290094.0902627802 -16179.666228454236 -64395.63558083374 5341.872660248028 -142559.99901335582 -14573.902797640509 -380.9117153685182 -92694.65357116782 159948.6560676609 51371.88747786467 427472.16075700254 -2925.492453346305 43262.185151742844 -2182.3739578493164 19547.343918266906 -429.4891086700021 113650.74920581502 -211547.00290905123 -83891.32707508856 -393810.2410820278 -9788.569406392206 11028.573191667878 -7224.1197156232365 18227.95151762949 -34549.09210853917 99676.34750897219 76401.44407476111 -498341.4305553677 -20509.650016375428 193160.64058471765 -38535.43320293504 65113.66389268319 59476.32864091175 51687.85758287755 -763933.6017788692 -9668.593802651227 -242483.00574513062 -168391.54702259673 420874.2441365065 240765.33824941068 -132321.62881334207 -28745.548996046295 36553.18056022724 -186934.40662862867 26920.69723009261 -57335.48674710976 -7964.717582505579 18940.241766839936 -54168.1359759202 464921.69174031046 274362.06484058837 -754430.7905551768 329366.9465603738 232633.1789179964 66066.07236847695 -2492.5372646560304 111020.43745026055 -7112.020967408279 -1051.0577047872036 \n",
            "Intercept: [539016.12755128]\n"
          ]
        }
      ],
      "source": [
        "#model_lasso_mul['ridge'].coef_, model_lasso_mul['ridge'].intercept_\n",
        "#Para obtener el campo se usa objeto pipeline (paso).propiedad del objeto\n",
        "#Armamos un for para obtener los coeficientes por separado\n",
        "lista=\"\"\n",
        "cont=1\n",
        "for i in model_lasso_mul['ridge'].coef_.ravel():\n",
        "    lista+=(str(i)+' ')\n",
        "    cont+=1\n",
        "\n",
        "\n",
        "#Debido a la alta cantidad de parametros se informan solo los coefincientes que el modelo obtuvo, no podemos armar formato latex\n",
        "#Comenta la profesora que dejemos el arreglo con los coeficientes\n",
        "print(\"Coeficientes: {}\".format(lista))\n",
        "\n",
        "print(\"Intercept: {}\".format(model_lasso_mul['ridge'].intercept_))"
      ]
    },
    {
      "cell_type": "code",
      "execution_count": null,
      "metadata": {
        "id": "bHSTcdLJn7cO",
        "outputId": "e58a8a72-467e-4def-dfb5-deebb00b8381"
      },
      "outputs": [
        {
          "name": "stdout",
          "output_type": "stream",
          "text": [
            "Error medio Absoluto (MAE): 131345.41382245815\n",
            "Root Mean Squared Error: 224178.95025164718\n",
            "r2_score 0.6550211655292326\n"
          ]
        }
      ],
      "source": [
        "#Mostramos errores conjunto de prueba\n",
        "print('Error medio Absoluto (MAE):', mean_absolute_error(My_test, y_fit_lasso))\n",
        "print('Root Mean Squared Error:', np.sqrt(mean_squared_error(My_test, y_fit_lasso)))\n",
        "print('r2_score',r2_score(My_test, y_fit_lasso))"
      ]
    },
    {
      "cell_type": "markdown",
      "metadata": {
        "id": "xZjrdlhGn7cO"
      },
      "source": [
        "## Grafica Desempeño R2 "
      ]
    },
    {
      "cell_type": "code",
      "execution_count": null,
      "metadata": {
        "id": "hyYG0PL6n7cO",
        "outputId": "62fb9da1-8ff5-4d5a-b000-b38947b38764"
      },
      "outputs": [
        {
          "data": {
            "image/png": "[encoded data removed]",
            "text/plain": [
              "<Figure size 576x288 with 1 Axes>"
            ]
          },
          "metadata": {},
          "output_type": "display_data"
        }
      ],
      "source": [
        "#De la lista aplicada del cross validation, pasamos a un for la lista y aplicamo boxplot a las metricas de entrenamiento\n",
        "sns.set(rc={'figure.figsize':(8,4)})\n",
        "\n",
        "temporal= list()\n",
        "for i in range(len(resultados_m)):\n",
        "  rr = resultados_m[i]['test_R2']\n",
        "  temporal.append(rr)\n",
        "\n",
        "plt.boxplot(temporal, labels=[\"LR\",\"POLY\",\"RIDGE\",\"LASSO\"], showmeans=True)\n",
        "\n",
        "plt.show()"
      ]
    },
    {
      "cell_type": "markdown",
      "metadata": {
        "id": "dWMeVgvRn7cO"
      },
      "source": [
        "## Grafica Desempeño MAE"
      ]
    },
    {
      "cell_type": "code",
      "execution_count": null,
      "metadata": {
        "id": "O9JfwO2_n7cO",
        "outputId": "5714d3dc-4e96-4ffe-aad5-96c3b887f9a7"
      },
      "outputs": [
        {
          "data": {
            "image/png": "[encoded data removed]",
            "text/plain": [
              "<Figure size 576x288 with 1 Axes>"
            ]
          },
          "metadata": {},
          "output_type": "display_data"
        }
      ],
      "source": [
        "##La grafica sale negativa porque la metrica por default es neg_mean_absolute_error\n",
        "#De la lista aplicada del cross validation, pasamos a un for la lista y aplicamo boxplot a las metricas de entrenamiento\n",
        "sns.set(rc={'figure.figsize':(8,4)})\n",
        "\n",
        "temporal= list()\n",
        "for i in range(len(resultados_m)):\n",
        "  rr = resultados_m[i]['test_MAE']\n",
        "  temporal.append(rr)\n",
        "\n",
        "plt.boxplot(temporal, labels=[\"LR\",\"POLY\",\"RIDGE\",\"LASSO\"], showmeans=True)\n",
        "\n",
        "plt.show()"
      ]
    },
    {
      "cell_type": "markdown",
      "metadata": {
        "id": "Xe-FRz1Kn7cO"
      },
      "source": [
        "## Conclusiones: \n",
        "* ¿Que método conviene más a la empresa, ¿por qué?\n",
        "Analizando las métricas de errores y el desempeño con el crossvalidation vemos que el mejor modelo es el RIDGE debido a que no toma mucho tiempo computacional a diferencia de lasso que, aunque le des más iteraciones no logra llegar a converger. La polinomial también es una buena candidata subiendo el degree sin embargo considero mejor usar el RIDGE debido a que previene el sobreentrenamiento\n",
        "\n",
        "* ¿Que porcentajes de entrenamiento y evaluación usaste?\n",
        "\n",
        "Se usaron el 90% de la información para el set de entrenamiento y el resto 10% se uso para la evaluación\n",
        "\n",
        "* ¿Que error tienes?, ¿es bueno?, ¿cómo lo sabes?\n",
        "Estos modelos han demostrado ser superiores a la media, sin embargo, con un resultado que ronda entre el 0.60 y 0.66 en las métricas del conjunto de prueba. muestran que el modelo no es óptimo para salir a producción. \n",
        "\n",
        "Consideraría implementar un modelo más robusto y eliminar columna mediante un PCA para optimizar el dataset y dejar lo más limpio al modelo para su entrenamiento.\n"
      ]
    }
  ],
  "metadata": {
    "kernelspec": {
      "display_name": "Python 3.8.8 ('base')",
      "language": "python",
      "name": "python3"
    },
    "language_info": {
      "codemirror_mode": {
        "name": "ipython",
        "version": 3
      },
      "file_extension": ".py",
      "mimetype": "text/x-python",
      "name": "python",
      "nbconvert_exporter": "python",
      "pygments_lexer": "ipython3",
      "version": "3.8.8"
    },
    "orig_nbformat": 4,
    "vscode": {
      "interpreter": {
        "hash": "c52da4db0cc24982f172e6f7976463ee5edeec35eac07f0e6ceac694ec92108f"
      }
    },
    "colab": {
      "provenance": [],
      "collapsed_sections": [
        "CRv8CNrhn7cJ",
        "Xe-FRz1Kn7cO"
      ],
      "include_colab_link": true
    }
  },
  "nbformat": 4,
  "nbformat_minor": 0
}