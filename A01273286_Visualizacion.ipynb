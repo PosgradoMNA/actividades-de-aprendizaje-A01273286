{
  "cells": [
    {
      "cell_type": "markdown",
      "metadata": {
        "id": "view-in-github",
        "colab_type": "text"
      },
      "source": [
        "<a href=\"https://colab.research.google.com/github/PosgradoMNA/actividades-de-aprendizaje-A01273286/blob/main/A01273286_Visualizacion.ipynb\" target=\"_parent\"><img src=\"https://colab.research.google.com/assets/colab-badge.svg\" alt=\"Open In Colab\"/></a>"
      ]
    },
    {
      "cell_type": "markdown",
      "metadata": {
        "id": "CwnLnPYu4k2C"
      },
      "source": [
        "# **Tecnológico de Monterrey**\n",
        "\n",
        "# Maestría en Inteligencia Artificial Aplicada\n",
        "\n",
        "\n",
        "> Dra. María de la Paz Rico Fernández\n",
        "\n",
        "\n",
        "> Curso: Ciencia y Analítica de Datos\n",
        "\n",
        "> Entregable : Actividad Semanal -- 6, visualización\n",
        "\n",
        "> Alumno:\n",
        "\n",
        "*   LUIS ALFONSO SABANERO ESQUIVEL - A01273286\n",
        "\n",
        ">01/11/2022\n",
        "\n",
        "> https://github.com/PosgradoMNA/actividades-de-aprendizaje-A01273286"
      ]
    },
    {
      "cell_type": "code",
      "execution_count": null,
      "metadata": {
        "id": "VE-Xx29UuTMl"
      },
      "outputs": [],
      "source": [
        "import pandas as pd \n",
        "import numpy as np\n",
        "import matplotlib.pyplot as plt\n",
        "import seaborn as sns\n",
        "from sklearn.decomposition import PCA \n",
        "from sklearn.preprocessing import StandardScaler "
      ]
    },
    {
      "cell_type": "code",
      "execution_count": null,
      "metadata": {
        "id": "cj6idLGBuTMp",
        "outputId": "e56fb82c-7737-4efd-f943-b9eaee578af6"
      },
      "outputs": [
        {
          "data": {
            "text/html": [
              "<div>\n",
              "<style scoped>\n",
              "    .dataframe tbody tr th:only-of-type {\n",
              "        vertical-align: middle;\n",
              "    }\n",
              "\n",
              "    .dataframe tbody tr th {\n",
              "        vertical-align: top;\n",
              "    }\n",
              "\n",
              "    .dataframe thead th {\n",
              "        text-align: right;\n",
              "    }\n",
              "</style>\n",
              "<table border=\"1\" class=\"dataframe\">\n",
              "  <thead>\n",
              "    <tr style=\"text-align: right;\">\n",
              "      <th></th>\n",
              "      <th>ID</th>\n",
              "      <th>MONTO</th>\n",
              "      <th>GENERO</th>\n",
              "      <th>GRADO_ESTUDIOS</th>\n",
              "      <th>ESTADO_CIVIL</th>\n",
              "      <th>EDAD</th>\n",
              "      <th>HIST_SEP</th>\n",
              "      <th>HIST_AGO</th>\n",
              "      <th>HIST_JUL</th>\n",
              "      <th>HIST_JUN</th>\n",
              "      <th>...</th>\n",
              "      <th>MESPAG_JUN</th>\n",
              "      <th>MESPAG_MAY</th>\n",
              "      <th>MESPAG_ABR</th>\n",
              "      <th>MPA_SEP</th>\n",
              "      <th>MPA_AGO</th>\n",
              "      <th>MPA_JUL</th>\n",
              "      <th>MPA_JUN</th>\n",
              "      <th>MPA_MAY</th>\n",
              "      <th>MPA_ABR</th>\n",
              "      <th>Y</th>\n",
              "    </tr>\n",
              "  </thead>\n",
              "  <tbody>\n",
              "    <tr>\n",
              "      <th>0</th>\n",
              "      <td>1</td>\n",
              "      <td>20000</td>\n",
              "      <td>2.0</td>\n",
              "      <td>2.0</td>\n",
              "      <td>1.0</td>\n",
              "      <td>24.0</td>\n",
              "      <td>2.0</td>\n",
              "      <td>2.0</td>\n",
              "      <td>-1.0</td>\n",
              "      <td>-1.0</td>\n",
              "      <td>...</td>\n",
              "      <td>0.0</td>\n",
              "      <td>0.0</td>\n",
              "      <td>0.0</td>\n",
              "      <td>0.0</td>\n",
              "      <td>689.0</td>\n",
              "      <td>0.0</td>\n",
              "      <td>0.0</td>\n",
              "      <td>0.0</td>\n",
              "      <td>0.0</td>\n",
              "      <td>1.0</td>\n",
              "    </tr>\n",
              "    <tr>\n",
              "      <th>1</th>\n",
              "      <td>2</td>\n",
              "      <td>120000</td>\n",
              "      <td>2.0</td>\n",
              "      <td>2.0</td>\n",
              "      <td>2.0</td>\n",
              "      <td>26.0</td>\n",
              "      <td>-1.0</td>\n",
              "      <td>2.0</td>\n",
              "      <td>0.0</td>\n",
              "      <td>0.0</td>\n",
              "      <td>...</td>\n",
              "      <td>3272.0</td>\n",
              "      <td>3455.0</td>\n",
              "      <td>3261.0</td>\n",
              "      <td>0.0</td>\n",
              "      <td>1000.0</td>\n",
              "      <td>1000.0</td>\n",
              "      <td>1000.0</td>\n",
              "      <td>0.0</td>\n",
              "      <td>2000.0</td>\n",
              "      <td>1.0</td>\n",
              "    </tr>\n",
              "    <tr>\n",
              "      <th>2</th>\n",
              "      <td>3</td>\n",
              "      <td>90000</td>\n",
              "      <td>2.0</td>\n",
              "      <td>2.0</td>\n",
              "      <td>2.0</td>\n",
              "      <td>34.0</td>\n",
              "      <td>0.0</td>\n",
              "      <td>0.0</td>\n",
              "      <td>0.0</td>\n",
              "      <td>0.0</td>\n",
              "      <td>...</td>\n",
              "      <td>14331.0</td>\n",
              "      <td>14948.0</td>\n",
              "      <td>15549.0</td>\n",
              "      <td>1518.0</td>\n",
              "      <td>1500.0</td>\n",
              "      <td>1000.0</td>\n",
              "      <td>1000.0</td>\n",
              "      <td>1000.0</td>\n",
              "      <td>5000.0</td>\n",
              "      <td>0.0</td>\n",
              "    </tr>\n",
              "    <tr>\n",
              "      <th>3</th>\n",
              "      <td>4</td>\n",
              "      <td>50000</td>\n",
              "      <td>2.0</td>\n",
              "      <td>2.0</td>\n",
              "      <td>1.0</td>\n",
              "      <td>37.0</td>\n",
              "      <td>0.0</td>\n",
              "      <td>0.0</td>\n",
              "      <td>0.0</td>\n",
              "      <td>0.0</td>\n",
              "      <td>...</td>\n",
              "      <td>28314.0</td>\n",
              "      <td>28959.0</td>\n",
              "      <td>29547.0</td>\n",
              "      <td>2000.0</td>\n",
              "      <td>2019.0</td>\n",
              "      <td>1200.0</td>\n",
              "      <td>1100.0</td>\n",
              "      <td>1069.0</td>\n",
              "      <td>1000.0</td>\n",
              "      <td>0.0</td>\n",
              "    </tr>\n",
              "    <tr>\n",
              "      <th>4</th>\n",
              "      <td>5</td>\n",
              "      <td>50000</td>\n",
              "      <td>1.0</td>\n",
              "      <td>2.0</td>\n",
              "      <td>1.0</td>\n",
              "      <td>57.0</td>\n",
              "      <td>-1.0</td>\n",
              "      <td>0.0</td>\n",
              "      <td>-1.0</td>\n",
              "      <td>0.0</td>\n",
              "      <td>...</td>\n",
              "      <td>20940.0</td>\n",
              "      <td>19146.0</td>\n",
              "      <td>19131.0</td>\n",
              "      <td>2000.0</td>\n",
              "      <td>36681.0</td>\n",
              "      <td>10000.0</td>\n",
              "      <td>9000.0</td>\n",
              "      <td>689.0</td>\n",
              "      <td>679.0</td>\n",
              "      <td>0.0</td>\n",
              "    </tr>\n",
              "  </tbody>\n",
              "</table>\n",
              "<p>5 rows × 25 columns</p>\n",
              "</div>"
            ],
            "text/plain": [
              "   ID   MONTO  GENERO  GRADO_ESTUDIOS  ESTADO_CIVIL  EDAD  HIST_SEP  HIST_AGO  \\\n",
              "0   1   20000     2.0             2.0           1.0  24.0       2.0       2.0   \n",
              "1   2  120000     2.0             2.0           2.0  26.0      -1.0       2.0   \n",
              "2   3   90000     2.0             2.0           2.0  34.0       0.0       0.0   \n",
              "3   4   50000     2.0             2.0           1.0  37.0       0.0       0.0   \n",
              "4   5   50000     1.0             2.0           1.0  57.0      -1.0       0.0   \n",
              "\n",
              "   HIST_JUL  HIST_JUN  ...  MESPAG_JUN  MESPAG_MAY  MESPAG_ABR  MPA_SEP  \\\n",
              "0      -1.0      -1.0  ...         0.0         0.0         0.0      0.0   \n",
              "1       0.0       0.0  ...      3272.0      3455.0      3261.0      0.0   \n",
              "2       0.0       0.0  ...     14331.0     14948.0     15549.0   1518.0   \n",
              "3       0.0       0.0  ...     28314.0     28959.0     29547.0   2000.0   \n",
              "4      -1.0       0.0  ...     20940.0     19146.0     19131.0   2000.0   \n",
              "\n",
              "   MPA_AGO  MPA_JUL  MPA_JUN  MPA_MAY  MPA_ABR    Y  \n",
              "0    689.0      0.0      0.0      0.0      0.0  1.0  \n",
              "1   1000.0   1000.0   1000.0      0.0   2000.0  1.0  \n",
              "2   1500.0   1000.0   1000.0   1000.0   5000.0  0.0  \n",
              "3   2019.0   1200.0   1100.0   1069.0   1000.0  0.0  \n",
              "4  36681.0  10000.0   9000.0    689.0    679.0  0.0  \n",
              "\n",
              "[5 rows x 25 columns]"
            ]
          },
          "execution_count": 2,
          "metadata": {},
          "output_type": "execute_result"
        }
      ],
      "source": [
        "df = pd.read_csv('default of credit card clients.csv')\n",
        "df.rename(columns={'X1':'MONTO', 'X2':'GENERO', 'X3':'GRADO_ESTUDIOS', 'X4':'ESTADO_CIVIL', 'X5':'EDAD', 'X6':'HIST_SEP','X7':'HIST_AGO','X8':'HIST_JUL','X9':'HIST_JUN','X10':'HIST_MAY','X11':'HIST_ABR','X12':'MESPAG_SEP','X13':'MESPAG_AGO','X14':'MESPAG_JUL','X15':'MESPAG_JUN', 'X16':'MESPAG_MAY','X17':'MESPAG_ABR','X18':'MPA_SEP', 'X19':'MPA_AGO','X20':'MPA_JUL','X21':'MPA_JUN','X22':'MPA_MAY','X23':'MPA_ABR'}, inplace = True) # RENOMBRAR COLUMNAS DEL DATAFRAME\n",
        "\n",
        "df.head()"
      ]
    },
    {
      "cell_type": "markdown",
      "metadata": {
        "id": "weM-IdQf4k2H"
      },
      "source": [
        "## Obten la información del DataFrame con los métodos y propiedades: shape, columns, head(), dtypes, info(), isna()"
      ]
    },
    {
      "cell_type": "code",
      "execution_count": null,
      "metadata": {
        "id": "R9yipaewuTMq",
        "outputId": "776815fb-8b76-45ff-ba2f-7feb0958e3b0"
      },
      "outputs": [
        {
          "name": "stdout",
          "output_type": "stream",
          "text": [
            "shape (30000, 25)\n"
          ]
        }
      ],
      "source": [
        "print(\"shape {}\".format(df.shape))"
      ]
    },
    {
      "cell_type": "code",
      "execution_count": null,
      "metadata": {
        "id": "rYEMxz34uTMr",
        "outputId": "9363ab26-e473-4e38-dff9-435ab2c15d9c"
      },
      "outputs": [
        {
          "name": "stdout",
          "output_type": "stream",
          "text": [
            "columns Index(['ID', 'MONTO', 'GENERO', 'GRADO_ESTUDIOS', 'ESTADO_CIVIL', 'EDAD',\n",
            "       'HIST_SEP', 'HIST_AGO', 'HIST_JUL', 'HIST_JUN', 'HIST_MAY', 'HIST_ABR',\n",
            "       'MESPAG_SEP', 'MESPAG_AGO', 'MESPAG_JUL', 'MESPAG_JUN', 'MESPAG_MAY',\n",
            "       'MESPAG_ABR', 'MPA_SEP', 'MPA_AGO', 'MPA_JUL', 'MPA_JUN', 'MPA_MAY',\n",
            "       'MPA_ABR', 'Y'],\n",
            "      dtype='object')\n"
          ]
        }
      ],
      "source": [
        "print(\"columns {}\".format(df.columns))"
      ]
    },
    {
      "cell_type": "code",
      "execution_count": null,
      "metadata": {
        "id": "ImUGxD7GuTMr",
        "outputId": "18008ff4-f0e2-4ba3-a736-2a502622edb5"
      },
      "outputs": [
        {
          "name": "stdout",
          "output_type": "stream",
          "text": [
            "shape ID                  int64\n",
            "MONTO               int64\n",
            "GENERO            float64\n",
            "GRADO_ESTUDIOS    float64\n",
            "ESTADO_CIVIL      float64\n",
            "EDAD              float64\n",
            "HIST_SEP          float64\n",
            "HIST_AGO          float64\n",
            "HIST_JUL          float64\n",
            "HIST_JUN          float64\n",
            "HIST_MAY          float64\n",
            "HIST_ABR          float64\n",
            "MESPAG_SEP        float64\n",
            "MESPAG_AGO        float64\n",
            "MESPAG_JUL        float64\n",
            "MESPAG_JUN        float64\n",
            "MESPAG_MAY        float64\n",
            "MESPAG_ABR        float64\n",
            "MPA_SEP           float64\n",
            "MPA_AGO           float64\n",
            "MPA_JUL           float64\n",
            "MPA_JUN           float64\n",
            "MPA_MAY           float64\n",
            "MPA_ABR           float64\n",
            "Y                 float64\n",
            "dtype: object\n"
          ]
        }
      ],
      "source": [
        "print(\"shape {}\".format(df.dtypes))"
      ]
    },
    {
      "cell_type": "code",
      "execution_count": null,
      "metadata": {
        "id": "WQ9qjKBbuTMr",
        "outputId": "53e5d1ee-4113-4bef-b15f-bd2fd63a4561"
      },
      "outputs": [
        {
          "name": "stdout",
          "output_type": "stream",
          "text": [
            "<class 'pandas.core.frame.DataFrame'>\n",
            "RangeIndex: 30000 entries, 0 to 29999\n",
            "Data columns (total 25 columns):\n",
            " #   Column          Non-Null Count  Dtype  \n",
            "---  ------          --------------  -----  \n",
            " 0   ID              30000 non-null  int64  \n",
            " 1   MONTO           30000 non-null  int64  \n",
            " 2   GENERO          29999 non-null  float64\n",
            " 3   GRADO_ESTUDIOS  29998 non-null  float64\n",
            " 4   ESTADO_CIVIL    29998 non-null  float64\n",
            " 5   EDAD            29995 non-null  float64\n",
            " 6   HIST_SEP        29997 non-null  float64\n",
            " 7   HIST_AGO        29995 non-null  float64\n",
            " 8   HIST_JUL        29993 non-null  float64\n",
            " 9   HIST_JUN        29991 non-null  float64\n",
            " 10  HIST_MAY        29984 non-null  float64\n",
            " 11  HIST_ABR        29986 non-null  float64\n",
            " 12  MESPAG_SEP      29989 non-null  float64\n",
            " 13  MESPAG_AGO      29989 non-null  float64\n",
            " 14  MESPAG_JUL      29987 non-null  float64\n",
            " 15  MESPAG_JUN      29985 non-null  float64\n",
            " 16  MESPAG_MAY      29983 non-null  float64\n",
            " 17  MESPAG_ABR      29990 non-null  float64\n",
            " 18  MPA_SEP         29992 non-null  float64\n",
            " 19  MPA_AGO         29991 non-null  float64\n",
            " 20  MPA_JUL         29992 non-null  float64\n",
            " 21  MPA_JUN         29989 non-null  float64\n",
            " 22  MPA_MAY         29989 non-null  float64\n",
            " 23  MPA_ABR         29995 non-null  float64\n",
            " 24  Y               29997 non-null  float64\n",
            "dtypes: float64(23), int64(2)\n",
            "memory usage: 5.7 MB\n",
            "info None\n"
          ]
        }
      ],
      "source": [
        "print(\"info {}\".format(df.info()))"
      ]
    },
    {
      "cell_type": "code",
      "execution_count": null,
      "metadata": {
        "id": "iTBu6rUiuTMs",
        "outputId": "3d220a7f-effb-4598-a04f-1d051462d749"
      },
      "outputs": [
        {
          "data": {
            "text/plain": [
              "ID                False\n",
              "MONTO             False\n",
              "GENERO             True\n",
              "GRADO_ESTUDIOS     True\n",
              "ESTADO_CIVIL       True\n",
              "EDAD               True\n",
              "HIST_SEP           True\n",
              "HIST_AGO           True\n",
              "HIST_JUL           True\n",
              "HIST_JUN           True\n",
              "HIST_MAY           True\n",
              "HIST_ABR           True\n",
              "MESPAG_SEP         True\n",
              "MESPAG_AGO         True\n",
              "MESPAG_JUL         True\n",
              "MESPAG_JUN         True\n",
              "MESPAG_MAY         True\n",
              "MESPAG_ABR         True\n",
              "MPA_SEP            True\n",
              "MPA_AGO            True\n",
              "MPA_JUL            True\n",
              "MPA_JUN            True\n",
              "MPA_MAY            True\n",
              "MPA_ABR            True\n",
              "Y                  True\n",
              "dtype: bool"
            ]
          },
          "execution_count": 7,
          "metadata": {},
          "output_type": "execute_result"
        }
      ],
      "source": [
        "df.isna().any()"
      ]
    },
    {
      "cell_type": "markdown",
      "metadata": {
        "id": "XXV9vyVL4k2K"
      },
      "source": [
        "## Limpia los datos eliminando los registros nulos o rellena con la media de la columna"
      ]
    },
    {
      "cell_type": "code",
      "execution_count": null,
      "metadata": {
        "id": "I6570wxtuTMs",
        "outputId": "14fdba45-2c29-416a-e91a-38fb2df9ff9b"
      },
      "outputs": [
        {
          "data": {
            "text/html": [
              "<div>\n",
              "<style scoped>\n",
              "    .dataframe tbody tr th:only-of-type {\n",
              "        vertical-align: middle;\n",
              "    }\n",
              "\n",
              "    .dataframe tbody tr th {\n",
              "        vertical-align: top;\n",
              "    }\n",
              "\n",
              "    .dataframe thead th {\n",
              "        text-align: right;\n",
              "    }\n",
              "</style>\n",
              "<table border=\"1\" class=\"dataframe\">\n",
              "  <thead>\n",
              "    <tr style=\"text-align: right;\">\n",
              "      <th></th>\n",
              "      <th>ID</th>\n",
              "      <th>MONTO</th>\n",
              "      <th>GENERO</th>\n",
              "      <th>GRADO_ESTUDIOS</th>\n",
              "      <th>ESTADO_CIVIL</th>\n",
              "      <th>EDAD</th>\n",
              "      <th>HIST_SEP</th>\n",
              "      <th>HIST_AGO</th>\n",
              "      <th>HIST_JUL</th>\n",
              "      <th>HIST_JUN</th>\n",
              "      <th>...</th>\n",
              "      <th>MESPAG_JUN</th>\n",
              "      <th>MESPAG_MAY</th>\n",
              "      <th>MESPAG_ABR</th>\n",
              "      <th>MPA_SEP</th>\n",
              "      <th>MPA_AGO</th>\n",
              "      <th>MPA_JUL</th>\n",
              "      <th>MPA_JUN</th>\n",
              "      <th>MPA_MAY</th>\n",
              "      <th>MPA_ABR</th>\n",
              "      <th>Y</th>\n",
              "    </tr>\n",
              "  </thead>\n",
              "  <tbody>\n",
              "    <tr>\n",
              "      <th>0</th>\n",
              "      <td>1</td>\n",
              "      <td>20000</td>\n",
              "      <td>2.0</td>\n",
              "      <td>2.0</td>\n",
              "      <td>1.0</td>\n",
              "      <td>24.0</td>\n",
              "      <td>2.0</td>\n",
              "      <td>2.0</td>\n",
              "      <td>-1.0</td>\n",
              "      <td>-1.0</td>\n",
              "      <td>...</td>\n",
              "      <td>0.0</td>\n",
              "      <td>0.0</td>\n",
              "      <td>0.0</td>\n",
              "      <td>0.0</td>\n",
              "      <td>689.0</td>\n",
              "      <td>0.0</td>\n",
              "      <td>0.0</td>\n",
              "      <td>0.0</td>\n",
              "      <td>0.0</td>\n",
              "      <td>1.0</td>\n",
              "    </tr>\n",
              "    <tr>\n",
              "      <th>1</th>\n",
              "      <td>2</td>\n",
              "      <td>120000</td>\n",
              "      <td>2.0</td>\n",
              "      <td>2.0</td>\n",
              "      <td>2.0</td>\n",
              "      <td>26.0</td>\n",
              "      <td>-1.0</td>\n",
              "      <td>2.0</td>\n",
              "      <td>0.0</td>\n",
              "      <td>0.0</td>\n",
              "      <td>...</td>\n",
              "      <td>3272.0</td>\n",
              "      <td>3455.0</td>\n",
              "      <td>3261.0</td>\n",
              "      <td>0.0</td>\n",
              "      <td>1000.0</td>\n",
              "      <td>1000.0</td>\n",
              "      <td>1000.0</td>\n",
              "      <td>0.0</td>\n",
              "      <td>2000.0</td>\n",
              "      <td>1.0</td>\n",
              "    </tr>\n",
              "    <tr>\n",
              "      <th>2</th>\n",
              "      <td>3</td>\n",
              "      <td>90000</td>\n",
              "      <td>2.0</td>\n",
              "      <td>2.0</td>\n",
              "      <td>2.0</td>\n",
              "      <td>34.0</td>\n",
              "      <td>0.0</td>\n",
              "      <td>0.0</td>\n",
              "      <td>0.0</td>\n",
              "      <td>0.0</td>\n",
              "      <td>...</td>\n",
              "      <td>14331.0</td>\n",
              "      <td>14948.0</td>\n",
              "      <td>15549.0</td>\n",
              "      <td>1518.0</td>\n",
              "      <td>1500.0</td>\n",
              "      <td>1000.0</td>\n",
              "      <td>1000.0</td>\n",
              "      <td>1000.0</td>\n",
              "      <td>5000.0</td>\n",
              "      <td>0.0</td>\n",
              "    </tr>\n",
              "    <tr>\n",
              "      <th>3</th>\n",
              "      <td>4</td>\n",
              "      <td>50000</td>\n",
              "      <td>2.0</td>\n",
              "      <td>2.0</td>\n",
              "      <td>1.0</td>\n",
              "      <td>37.0</td>\n",
              "      <td>0.0</td>\n",
              "      <td>0.0</td>\n",
              "      <td>0.0</td>\n",
              "      <td>0.0</td>\n",
              "      <td>...</td>\n",
              "      <td>28314.0</td>\n",
              "      <td>28959.0</td>\n",
              "      <td>29547.0</td>\n",
              "      <td>2000.0</td>\n",
              "      <td>2019.0</td>\n",
              "      <td>1200.0</td>\n",
              "      <td>1100.0</td>\n",
              "      <td>1069.0</td>\n",
              "      <td>1000.0</td>\n",
              "      <td>0.0</td>\n",
              "    </tr>\n",
              "    <tr>\n",
              "      <th>4</th>\n",
              "      <td>5</td>\n",
              "      <td>50000</td>\n",
              "      <td>1.0</td>\n",
              "      <td>2.0</td>\n",
              "      <td>1.0</td>\n",
              "      <td>57.0</td>\n",
              "      <td>-1.0</td>\n",
              "      <td>0.0</td>\n",
              "      <td>-1.0</td>\n",
              "      <td>0.0</td>\n",
              "      <td>...</td>\n",
              "      <td>20940.0</td>\n",
              "      <td>19146.0</td>\n",
              "      <td>19131.0</td>\n",
              "      <td>2000.0</td>\n",
              "      <td>36681.0</td>\n",
              "      <td>10000.0</td>\n",
              "      <td>9000.0</td>\n",
              "      <td>689.0</td>\n",
              "      <td>679.0</td>\n",
              "      <td>0.0</td>\n",
              "    </tr>\n",
              "  </tbody>\n",
              "</table>\n",
              "<p>5 rows × 25 columns</p>\n",
              "</div>"
            ],
            "text/plain": [
              "   ID   MONTO  GENERO  GRADO_ESTUDIOS  ESTADO_CIVIL  EDAD  HIST_SEP  HIST_AGO  \\\n",
              "0   1   20000     2.0             2.0           1.0  24.0       2.0       2.0   \n",
              "1   2  120000     2.0             2.0           2.0  26.0      -1.0       2.0   \n",
              "2   3   90000     2.0             2.0           2.0  34.0       0.0       0.0   \n",
              "3   4   50000     2.0             2.0           1.0  37.0       0.0       0.0   \n",
              "4   5   50000     1.0             2.0           1.0  57.0      -1.0       0.0   \n",
              "\n",
              "   HIST_JUL  HIST_JUN  ...  MESPAG_JUN  MESPAG_MAY  MESPAG_ABR  MPA_SEP  \\\n",
              "0      -1.0      -1.0  ...         0.0         0.0         0.0      0.0   \n",
              "1       0.0       0.0  ...      3272.0      3455.0      3261.0      0.0   \n",
              "2       0.0       0.0  ...     14331.0     14948.0     15549.0   1518.0   \n",
              "3       0.0       0.0  ...     28314.0     28959.0     29547.0   2000.0   \n",
              "4      -1.0       0.0  ...     20940.0     19146.0     19131.0   2000.0   \n",
              "\n",
              "   MPA_AGO  MPA_JUL  MPA_JUN  MPA_MAY  MPA_ABR    Y  \n",
              "0    689.0      0.0      0.0      0.0      0.0  1.0  \n",
              "1   1000.0   1000.0   1000.0      0.0   2000.0  1.0  \n",
              "2   1500.0   1000.0   1000.0   1000.0   5000.0  0.0  \n",
              "3   2019.0   1200.0   1100.0   1069.0   1000.0  0.0  \n",
              "4  36681.0  10000.0   9000.0    689.0    679.0  0.0  \n",
              "\n",
              "[5 rows x 25 columns]"
            ]
          },
          "execution_count": 8,
          "metadata": {},
          "output_type": "execute_result"
        }
      ],
      "source": [
        "copy_df = df.copy()\n",
        "copy_df.dropna(inplace=True)\n",
        "copy_df.loc[copy_df['GRADO_ESTUDIOS']>=4,'GRADO_ESTUDIOS']=4\n",
        "copy_df.loc[copy_df['GRADO_ESTUDIOS']<=0,'GRADO_ESTUDIOS']=1\n",
        "copy_df.loc[copy_df['ESTADO_CIVIL']<=0,'ESTADO_CIVIL']=3 \n",
        "\n",
        "copy_df.head()"
      ]
    },
    {
      "cell_type": "markdown",
      "metadata": {
        "id": "6UQkKoJR4k2L"
      },
      "source": [
        "## Calcula la estadística descriptiva con describe() y explica las medidas de tendencia central y dispersión"
      ]
    },
    {
      "cell_type": "code",
      "execution_count": null,
      "metadata": {
        "id": "t9TqalUPuTMt",
        "outputId": "d1e71bae-2b25-40c7-d82d-d58f8a81f0ec"
      },
      "outputs": [
        {
          "data": {
            "text/html": [
              "<div>\n",
              "<style scoped>\n",
              "    .dataframe tbody tr th:only-of-type {\n",
              "        vertical-align: middle;\n",
              "    }\n",
              "\n",
              "    .dataframe tbody tr th {\n",
              "        vertical-align: top;\n",
              "    }\n",
              "\n",
              "    .dataframe thead th {\n",
              "        text-align: right;\n",
              "    }\n",
              "</style>\n",
              "<table border=\"1\" class=\"dataframe\">\n",
              "  <thead>\n",
              "    <tr style=\"text-align: right;\">\n",
              "      <th></th>\n",
              "      <th>ID</th>\n",
              "      <th>MONTO</th>\n",
              "      <th>GENERO</th>\n",
              "      <th>GRADO_ESTUDIOS</th>\n",
              "      <th>ESTADO_CIVIL</th>\n",
              "      <th>EDAD</th>\n",
              "      <th>HIST_SEP</th>\n",
              "      <th>HIST_AGO</th>\n",
              "      <th>HIST_JUL</th>\n",
              "      <th>HIST_JUN</th>\n",
              "      <th>...</th>\n",
              "      <th>MESPAG_JUN</th>\n",
              "      <th>MESPAG_MAY</th>\n",
              "      <th>MESPAG_ABR</th>\n",
              "      <th>MPA_SEP</th>\n",
              "      <th>MPA_AGO</th>\n",
              "      <th>MPA_JUL</th>\n",
              "      <th>MPA_JUN</th>\n",
              "      <th>MPA_MAY</th>\n",
              "      <th>MPA_ABR</th>\n",
              "      <th>Y</th>\n",
              "    </tr>\n",
              "  </thead>\n",
              "  <tbody>\n",
              "    <tr>\n",
              "      <th>count</th>\n",
              "      <td>29958.000000</td>\n",
              "      <td>29958.000000</td>\n",
              "      <td>29958.000000</td>\n",
              "      <td>29958.000000</td>\n",
              "      <td>29958.000000</td>\n",
              "      <td>29958.000000</td>\n",
              "      <td>29958.000000</td>\n",
              "      <td>29958.000000</td>\n",
              "      <td>29958.000000</td>\n",
              "      <td>29958.000000</td>\n",
              "      <td>...</td>\n",
              "      <td>29958.000000</td>\n",
              "      <td>29958.000000</td>\n",
              "      <td>29958.000000</td>\n",
              "      <td>29958.000000</td>\n",
              "      <td>2.995800e+04</td>\n",
              "      <td>29958.000000</td>\n",
              "      <td>29958.000000</td>\n",
              "      <td>29958.000000</td>\n",
              "      <td>29958.000000</td>\n",
              "      <td>29958.000000</td>\n",
              "    </tr>\n",
              "    <tr>\n",
              "      <th>mean</th>\n",
              "      <td>15005.550504</td>\n",
              "      <td>167555.900928</td>\n",
              "      <td>1.604012</td>\n",
              "      <td>1.840810</td>\n",
              "      <td>1.557147</td>\n",
              "      <td>35.483443</td>\n",
              "      <td>-0.017124</td>\n",
              "      <td>-0.134021</td>\n",
              "      <td>-0.166767</td>\n",
              "      <td>-0.221110</td>\n",
              "      <td>...</td>\n",
              "      <td>43279.335370</td>\n",
              "      <td>40328.984578</td>\n",
              "      <td>38889.925763</td>\n",
              "      <td>5664.614460</td>\n",
              "      <td>5.925715e+03</td>\n",
              "      <td>5228.429969</td>\n",
              "      <td>4829.873556</td>\n",
              "      <td>4801.481574</td>\n",
              "      <td>5220.708025</td>\n",
              "      <td>0.221143</td>\n",
              "    </tr>\n",
              "    <tr>\n",
              "      <th>std</th>\n",
              "      <td>8654.547473</td>\n",
              "      <td>129737.299088</td>\n",
              "      <td>0.489070</td>\n",
              "      <td>0.743317</td>\n",
              "      <td>0.521388</td>\n",
              "      <td>9.214319</td>\n",
              "      <td>1.123989</td>\n",
              "      <td>1.197171</td>\n",
              "      <td>1.196026</td>\n",
              "      <td>1.168419</td>\n",
              "      <td>...</td>\n",
              "      <td>64364.684347</td>\n",
              "      <td>60826.219326</td>\n",
              "      <td>59582.883301</td>\n",
              "      <td>16568.823518</td>\n",
              "      <td>2.305598e+04</td>\n",
              "      <td>17617.338167</td>\n",
              "      <td>15676.205514</td>\n",
              "      <td>15285.552652</td>\n",
              "      <td>17788.983767</td>\n",
              "      <td>0.415023</td>\n",
              "    </tr>\n",
              "    <tr>\n",
              "      <th>min</th>\n",
              "      <td>1.000000</td>\n",
              "      <td>10000.000000</td>\n",
              "      <td>1.000000</td>\n",
              "      <td>1.000000</td>\n",
              "      <td>1.000000</td>\n",
              "      <td>21.000000</td>\n",
              "      <td>-2.000000</td>\n",
              "      <td>-2.000000</td>\n",
              "      <td>-2.000000</td>\n",
              "      <td>-2.000000</td>\n",
              "      <td>...</td>\n",
              "      <td>-170000.000000</td>\n",
              "      <td>-81334.000000</td>\n",
              "      <td>-339603.000000</td>\n",
              "      <td>0.000000</td>\n",
              "      <td>0.000000e+00</td>\n",
              "      <td>0.000000</td>\n",
              "      <td>0.000000</td>\n",
              "      <td>0.000000</td>\n",
              "      <td>0.000000</td>\n",
              "      <td>0.000000</td>\n",
              "    </tr>\n",
              "    <tr>\n",
              "      <th>25%</th>\n",
              "      <td>7516.250000</td>\n",
              "      <td>50000.000000</td>\n",
              "      <td>1.000000</td>\n",
              "      <td>1.000000</td>\n",
              "      <td>1.000000</td>\n",
              "      <td>28.000000</td>\n",
              "      <td>-1.000000</td>\n",
              "      <td>-1.000000</td>\n",
              "      <td>-1.000000</td>\n",
              "      <td>-1.000000</td>\n",
              "      <td>...</td>\n",
              "      <td>2327.500000</td>\n",
              "      <td>1762.250000</td>\n",
              "      <td>1256.000000</td>\n",
              "      <td>1000.000000</td>\n",
              "      <td>8.352500e+02</td>\n",
              "      <td>390.000000</td>\n",
              "      <td>296.250000</td>\n",
              "      <td>253.250000</td>\n",
              "      <td>118.000000</td>\n",
              "      <td>0.000000</td>\n",
              "    </tr>\n",
              "    <tr>\n",
              "      <th>50%</th>\n",
              "      <td>15005.500000</td>\n",
              "      <td>140000.000000</td>\n",
              "      <td>2.000000</td>\n",
              "      <td>2.000000</td>\n",
              "      <td>2.000000</td>\n",
              "      <td>34.000000</td>\n",
              "      <td>0.000000</td>\n",
              "      <td>0.000000</td>\n",
              "      <td>0.000000</td>\n",
              "      <td>0.000000</td>\n",
              "      <td>...</td>\n",
              "      <td>19037.500000</td>\n",
              "      <td>18104.500000</td>\n",
              "      <td>17067.500000</td>\n",
              "      <td>2100.000000</td>\n",
              "      <td>2.009000e+03</td>\n",
              "      <td>1800.000000</td>\n",
              "      <td>1500.000000</td>\n",
              "      <td>1500.000000</td>\n",
              "      <td>1500.000000</td>\n",
              "      <td>0.000000</td>\n",
              "    </tr>\n",
              "    <tr>\n",
              "      <th>75%</th>\n",
              "      <td>22497.750000</td>\n",
              "      <td>240000.000000</td>\n",
              "      <td>2.000000</td>\n",
              "      <td>2.000000</td>\n",
              "      <td>2.000000</td>\n",
              "      <td>41.000000</td>\n",
              "      <td>0.000000</td>\n",
              "      <td>0.000000</td>\n",
              "      <td>0.000000</td>\n",
              "      <td>0.000000</td>\n",
              "      <td>...</td>\n",
              "      <td>54551.250000</td>\n",
              "      <td>50220.750000</td>\n",
              "      <td>49234.750000</td>\n",
              "      <td>5007.000000</td>\n",
              "      <td>5.000000e+03</td>\n",
              "      <td>4511.500000</td>\n",
              "      <td>4014.750000</td>\n",
              "      <td>4040.000000</td>\n",
              "      <td>4000.000000</td>\n",
              "      <td>0.000000</td>\n",
              "    </tr>\n",
              "    <tr>\n",
              "      <th>max</th>\n",
              "      <td>30000.000000</td>\n",
              "      <td>1000000.000000</td>\n",
              "      <td>2.000000</td>\n",
              "      <td>4.000000</td>\n",
              "      <td>3.000000</td>\n",
              "      <td>79.000000</td>\n",
              "      <td>8.000000</td>\n",
              "      <td>8.000000</td>\n",
              "      <td>8.000000</td>\n",
              "      <td>8.000000</td>\n",
              "      <td>...</td>\n",
              "      <td>891586.000000</td>\n",
              "      <td>927171.000000</td>\n",
              "      <td>961664.000000</td>\n",
              "      <td>873552.000000</td>\n",
              "      <td>1.684259e+06</td>\n",
              "      <td>896040.000000</td>\n",
              "      <td>621000.000000</td>\n",
              "      <td>426529.000000</td>\n",
              "      <td>528666.000000</td>\n",
              "      <td>1.000000</td>\n",
              "    </tr>\n",
              "  </tbody>\n",
              "</table>\n",
              "<p>8 rows × 25 columns</p>\n",
              "</div>"
            ],
            "text/plain": [
              "                 ID           MONTO        GENERO  GRADO_ESTUDIOS  \\\n",
              "count  29958.000000    29958.000000  29958.000000    29958.000000   \n",
              "mean   15005.550504   167555.900928      1.604012        1.840810   \n",
              "std     8654.547473   129737.299088      0.489070        0.743317   \n",
              "min        1.000000    10000.000000      1.000000        1.000000   \n",
              "25%     7516.250000    50000.000000      1.000000        1.000000   \n",
              "50%    15005.500000   140000.000000      2.000000        2.000000   \n",
              "75%    22497.750000   240000.000000      2.000000        2.000000   \n",
              "max    30000.000000  1000000.000000      2.000000        4.000000   \n",
              "\n",
              "       ESTADO_CIVIL          EDAD      HIST_SEP      HIST_AGO      HIST_JUL  \\\n",
              "count  29958.000000  29958.000000  29958.000000  29958.000000  29958.000000   \n",
              "mean       1.557147     35.483443     -0.017124     -0.134021     -0.166767   \n",
              "std        0.521388      9.214319      1.123989      1.197171      1.196026   \n",
              "min        1.000000     21.000000     -2.000000     -2.000000     -2.000000   \n",
              "25%        1.000000     28.000000     -1.000000     -1.000000     -1.000000   \n",
              "50%        2.000000     34.000000      0.000000      0.000000      0.000000   \n",
              "75%        2.000000     41.000000      0.000000      0.000000      0.000000   \n",
              "max        3.000000     79.000000      8.000000      8.000000      8.000000   \n",
              "\n",
              "           HIST_JUN  ...     MESPAG_JUN     MESPAG_MAY     MESPAG_ABR  \\\n",
              "count  29958.000000  ...   29958.000000   29958.000000   29958.000000   \n",
              "mean      -0.221110  ...   43279.335370   40328.984578   38889.925763   \n",
              "std        1.168419  ...   64364.684347   60826.219326   59582.883301   \n",
              "min       -2.000000  ... -170000.000000  -81334.000000 -339603.000000   \n",
              "25%       -1.000000  ...    2327.500000    1762.250000    1256.000000   \n",
              "50%        0.000000  ...   19037.500000   18104.500000   17067.500000   \n",
              "75%        0.000000  ...   54551.250000   50220.750000   49234.750000   \n",
              "max        8.000000  ...  891586.000000  927171.000000  961664.000000   \n",
              "\n",
              "             MPA_SEP       MPA_AGO        MPA_JUL        MPA_JUN  \\\n",
              "count   29958.000000  2.995800e+04   29958.000000   29958.000000   \n",
              "mean     5664.614460  5.925715e+03    5228.429969    4829.873556   \n",
              "std     16568.823518  2.305598e+04   17617.338167   15676.205514   \n",
              "min         0.000000  0.000000e+00       0.000000       0.000000   \n",
              "25%      1000.000000  8.352500e+02     390.000000     296.250000   \n",
              "50%      2100.000000  2.009000e+03    1800.000000    1500.000000   \n",
              "75%      5007.000000  5.000000e+03    4511.500000    4014.750000   \n",
              "max    873552.000000  1.684259e+06  896040.000000  621000.000000   \n",
              "\n",
              "             MPA_MAY        MPA_ABR             Y  \n",
              "count   29958.000000   29958.000000  29958.000000  \n",
              "mean     4801.481574    5220.708025      0.221143  \n",
              "std     15285.552652   17788.983767      0.415023  \n",
              "min         0.000000       0.000000      0.000000  \n",
              "25%       253.250000     118.000000      0.000000  \n",
              "50%      1500.000000    1500.000000      0.000000  \n",
              "75%      4040.000000    4000.000000      0.000000  \n",
              "max    426529.000000  528666.000000      1.000000  \n",
              "\n",
              "[8 rows x 25 columns]"
            ]
          },
          "execution_count": 9,
          "metadata": {},
          "output_type": "execute_result"
        }
      ],
      "source": [
        "#Aplicamos Describe para conocer las medidas estadisticas\n",
        "copy_df.describe()"
      ]
    },
    {
      "cell_type": "markdown",
      "metadata": {
        "id": "RaySGSgp4k2L"
      },
      "source": [
        "# Medidas de tendencia central y dispersión\n",
        "En el presente datasets, podemos apreciar que los conteos de datos tienen la misma cantidad de información por lo que el limpiado y ajuste de los valores está funcionando como lo esperamos. \n",
        "En este caso la variable de salida Y que será la que se enfocara el proyecto tiene los datos acordes con la descripción del dataset, la desviación estándar de todas las columnas es muy diferente entre ellos, por lo que ideal sera que se standarize la información antes de hacer un estudio PCA para poder evitar problemas en el análisis.\n",
        "La media de los datos indica que hay algunos outlayers entre los datos, debido a que los valores minimos-maximos y la media difieren por una cantidad grande.\n",
        "\n",
        "En la parte de gráficas, se puede apreciar que este dataset tiene un sesgo a la izquierda que conviene trabajar con transformaciones para mejorar el comportamiento.\n",
        "\n"
      ]
    },
    {
      "cell_type": "markdown",
      "metadata": {
        "id": "BoAhICN54k2M"
      },
      "source": [
        "## Realiza el conteo de las variables categóricas"
      ]
    },
    {
      "cell_type": "code",
      "execution_count": null,
      "metadata": {
        "id": "fbl9HOlwuTMt"
      },
      "outputs": [],
      "source": [
        "#Para PCA no podemos usar variables categoricas, quitamos ademas aquellas que no estan bien declaradas en el dataset\n",
        "copy_df = copy_df.drop(labels=['ID','GENERO','GRADO_ESTUDIOS','ESTADO_CIVIL','HIST_SEP','HIST_AGO','HIST_JUL','HIST_JUN','HIST_MAY','HIST_ABR','Y'],axis=1).copy()\n"
      ]
    },
    {
      "cell_type": "code",
      "execution_count": null,
      "metadata": {
        "id": "vNoP2LSj4k2M",
        "outputId": "e4154afb-2744-4cf7-b5e5-10f2a4d5898d"
      },
      "outputs": [
        {
          "data": {
            "text/html": [
              "<div>\n",
              "<style scoped>\n",
              "    .dataframe tbody tr th:only-of-type {\n",
              "        vertical-align: middle;\n",
              "    }\n",
              "\n",
              "    .dataframe tbody tr th {\n",
              "        vertical-align: top;\n",
              "    }\n",
              "\n",
              "    .dataframe thead th {\n",
              "        text-align: right;\n",
              "    }\n",
              "</style>\n",
              "<table border=\"1\" class=\"dataframe\">\n",
              "  <thead>\n",
              "    <tr style=\"text-align: right;\">\n",
              "      <th></th>\n",
              "      <th>MONTO</th>\n",
              "      <th>EDAD</th>\n",
              "      <th>MESPAG_SEP</th>\n",
              "      <th>MESPAG_AGO</th>\n",
              "      <th>MESPAG_JUL</th>\n",
              "      <th>MESPAG_JUN</th>\n",
              "      <th>MESPAG_MAY</th>\n",
              "      <th>MESPAG_ABR</th>\n",
              "      <th>MPA_SEP</th>\n",
              "      <th>MPA_AGO</th>\n",
              "      <th>MPA_JUL</th>\n",
              "      <th>MPA_JUN</th>\n",
              "      <th>MPA_MAY</th>\n",
              "      <th>MPA_ABR</th>\n",
              "    </tr>\n",
              "  </thead>\n",
              "  <tbody>\n",
              "    <tr>\n",
              "      <th>count</th>\n",
              "      <td>29958.000000</td>\n",
              "      <td>29958.000000</td>\n",
              "      <td>29958.000000</td>\n",
              "      <td>29958.000000</td>\n",
              "      <td>2.995800e+04</td>\n",
              "      <td>29958.000000</td>\n",
              "      <td>29958.000000</td>\n",
              "      <td>29958.000000</td>\n",
              "      <td>29958.000000</td>\n",
              "      <td>2.995800e+04</td>\n",
              "      <td>29958.000000</td>\n",
              "      <td>29958.000000</td>\n",
              "      <td>29958.000000</td>\n",
              "      <td>29958.000000</td>\n",
              "    </tr>\n",
              "    <tr>\n",
              "      <th>mean</th>\n",
              "      <td>167555.900928</td>\n",
              "      <td>35.483443</td>\n",
              "      <td>51248.119901</td>\n",
              "      <td>49200.493825</td>\n",
              "      <td>4.703239e+04</td>\n",
              "      <td>43279.335370</td>\n",
              "      <td>40328.984578</td>\n",
              "      <td>38889.925763</td>\n",
              "      <td>5664.614460</td>\n",
              "      <td>5.925715e+03</td>\n",
              "      <td>5228.429969</td>\n",
              "      <td>4829.873556</td>\n",
              "      <td>4801.481574</td>\n",
              "      <td>5220.708025</td>\n",
              "    </tr>\n",
              "    <tr>\n",
              "      <th>std</th>\n",
              "      <td>129737.299088</td>\n",
              "      <td>9.214319</td>\n",
              "      <td>73674.949943</td>\n",
              "      <td>71211.232744</td>\n",
              "      <td>6.938524e+04</td>\n",
              "      <td>64364.684347</td>\n",
              "      <td>60826.219326</td>\n",
              "      <td>59582.883301</td>\n",
              "      <td>16568.823518</td>\n",
              "      <td>2.305598e+04</td>\n",
              "      <td>17617.338167</td>\n",
              "      <td>15676.205514</td>\n",
              "      <td>15285.552652</td>\n",
              "      <td>17788.983767</td>\n",
              "    </tr>\n",
              "    <tr>\n",
              "      <th>min</th>\n",
              "      <td>10000.000000</td>\n",
              "      <td>21.000000</td>\n",
              "      <td>-165580.000000</td>\n",
              "      <td>-69777.000000</td>\n",
              "      <td>-1.572640e+05</td>\n",
              "      <td>-170000.000000</td>\n",
              "      <td>-81334.000000</td>\n",
              "      <td>-339603.000000</td>\n",
              "      <td>0.000000</td>\n",
              "      <td>0.000000e+00</td>\n",
              "      <td>0.000000</td>\n",
              "      <td>0.000000</td>\n",
              "      <td>0.000000</td>\n",
              "      <td>0.000000</td>\n",
              "    </tr>\n",
              "    <tr>\n",
              "      <th>25%</th>\n",
              "      <td>50000.000000</td>\n",
              "      <td>28.000000</td>\n",
              "      <td>3559.250000</td>\n",
              "      <td>2984.000000</td>\n",
              "      <td>2.664750e+03</td>\n",
              "      <td>2327.500000</td>\n",
              "      <td>1762.250000</td>\n",
              "      <td>1256.000000</td>\n",
              "      <td>1000.000000</td>\n",
              "      <td>8.352500e+02</td>\n",
              "      <td>390.000000</td>\n",
              "      <td>296.250000</td>\n",
              "      <td>253.250000</td>\n",
              "      <td>118.000000</td>\n",
              "    </tr>\n",
              "    <tr>\n",
              "      <th>50%</th>\n",
              "      <td>140000.000000</td>\n",
              "      <td>34.000000</td>\n",
              "      <td>22379.000000</td>\n",
              "      <td>21194.500000</td>\n",
              "      <td>2.008550e+04</td>\n",
              "      <td>19037.500000</td>\n",
              "      <td>18104.500000</td>\n",
              "      <td>17067.500000</td>\n",
              "      <td>2100.000000</td>\n",
              "      <td>2.009000e+03</td>\n",
              "      <td>1800.000000</td>\n",
              "      <td>1500.000000</td>\n",
              "      <td>1500.000000</td>\n",
              "      <td>1500.000000</td>\n",
              "    </tr>\n",
              "    <tr>\n",
              "      <th>75%</th>\n",
              "      <td>240000.000000</td>\n",
              "      <td>41.000000</td>\n",
              "      <td>67190.000000</td>\n",
              "      <td>64027.750000</td>\n",
              "      <td>6.018300e+04</td>\n",
              "      <td>54551.250000</td>\n",
              "      <td>50220.750000</td>\n",
              "      <td>49234.750000</td>\n",
              "      <td>5007.000000</td>\n",
              "      <td>5.000000e+03</td>\n",
              "      <td>4511.500000</td>\n",
              "      <td>4014.750000</td>\n",
              "      <td>4040.000000</td>\n",
              "      <td>4000.000000</td>\n",
              "    </tr>\n",
              "    <tr>\n",
              "      <th>max</th>\n",
              "      <td>1000000.000000</td>\n",
              "      <td>79.000000</td>\n",
              "      <td>964511.000000</td>\n",
              "      <td>983931.000000</td>\n",
              "      <td>1.664089e+06</td>\n",
              "      <td>891586.000000</td>\n",
              "      <td>927171.000000</td>\n",
              "      <td>961664.000000</td>\n",
              "      <td>873552.000000</td>\n",
              "      <td>1.684259e+06</td>\n",
              "      <td>896040.000000</td>\n",
              "      <td>621000.000000</td>\n",
              "      <td>426529.000000</td>\n",
              "      <td>528666.000000</td>\n",
              "    </tr>\n",
              "  </tbody>\n",
              "</table>\n",
              "</div>"
            ],
            "text/plain": [
              "                MONTO          EDAD     MESPAG_SEP     MESPAG_AGO  \\\n",
              "count    29958.000000  29958.000000   29958.000000   29958.000000   \n",
              "mean    167555.900928     35.483443   51248.119901   49200.493825   \n",
              "std     129737.299088      9.214319   73674.949943   71211.232744   \n",
              "min      10000.000000     21.000000 -165580.000000  -69777.000000   \n",
              "25%      50000.000000     28.000000    3559.250000    2984.000000   \n",
              "50%     140000.000000     34.000000   22379.000000   21194.500000   \n",
              "75%     240000.000000     41.000000   67190.000000   64027.750000   \n",
              "max    1000000.000000     79.000000  964511.000000  983931.000000   \n",
              "\n",
              "         MESPAG_JUL     MESPAG_JUN     MESPAG_MAY     MESPAG_ABR  \\\n",
              "count  2.995800e+04   29958.000000   29958.000000   29958.000000   \n",
              "mean   4.703239e+04   43279.335370   40328.984578   38889.925763   \n",
              "std    6.938524e+04   64364.684347   60826.219326   59582.883301   \n",
              "min   -1.572640e+05 -170000.000000  -81334.000000 -339603.000000   \n",
              "25%    2.664750e+03    2327.500000    1762.250000    1256.000000   \n",
              "50%    2.008550e+04   19037.500000   18104.500000   17067.500000   \n",
              "75%    6.018300e+04   54551.250000   50220.750000   49234.750000   \n",
              "max    1.664089e+06  891586.000000  927171.000000  961664.000000   \n",
              "\n",
              "             MPA_SEP       MPA_AGO        MPA_JUL        MPA_JUN  \\\n",
              "count   29958.000000  2.995800e+04   29958.000000   29958.000000   \n",
              "mean     5664.614460  5.925715e+03    5228.429969    4829.873556   \n",
              "std     16568.823518  2.305598e+04   17617.338167   15676.205514   \n",
              "min         0.000000  0.000000e+00       0.000000       0.000000   \n",
              "25%      1000.000000  8.352500e+02     390.000000     296.250000   \n",
              "50%      2100.000000  2.009000e+03    1800.000000    1500.000000   \n",
              "75%      5007.000000  5.000000e+03    4511.500000    4014.750000   \n",
              "max    873552.000000  1.684259e+06  896040.000000  621000.000000   \n",
              "\n",
              "             MPA_MAY        MPA_ABR  \n",
              "count   29958.000000   29958.000000  \n",
              "mean     4801.481574    5220.708025  \n",
              "std     15285.552652   17788.983767  \n",
              "min         0.000000       0.000000  \n",
              "25%       253.250000     118.000000  \n",
              "50%      1500.000000    1500.000000  \n",
              "75%      4040.000000    4000.000000  \n",
              "max    426529.000000  528666.000000  "
            ]
          },
          "execution_count": 21,
          "metadata": {},
          "output_type": "execute_result"
        }
      ],
      "source": [
        "copy_df.describe()"
      ]
    },
    {
      "cell_type": "markdown",
      "metadata": {
        "id": "IZNtSBhEuTMu"
      },
      "source": [
        "## Inserte choro"
      ]
    },
    {
      "cell_type": "markdown",
      "metadata": {
        "id": "e_LZJFgb4k2M"
      },
      "source": [
        "## PCA \n",
        "Escala los datos, si consideras necesario\n",
        "Reduce las dimensiones con PCA, si consideras necesario.\n",
        "Indica la varianza de los datos explicada por cada componente seleccionado. Para actividades de exploración de los datos la varianza > 70%\n",
        "Indica la importancia de las variables en cada componente"
      ]
    },
    {
      "cell_type": "code",
      "execution_count": null,
      "metadata": {
        "id": "iWYFAVnuuTMv"
      },
      "outputs": [],
      "source": [
        "scaler = StandardScaler()\n",
        "scaled = scaler.fit_transform(copy_df) \n",
        "scaled_df = pd.DataFrame(scaled, columns=copy_df.columns) "
      ]
    },
    {
      "cell_type": "code",
      "execution_count": null,
      "metadata": {
        "id": "erI-KM10uTMw"
      },
      "outputs": [],
      "source": [
        "pca = PCA()\n",
        "pca_fit =pca.fit_transform(scaled_df)"
      ]
    },
    {
      "cell_type": "code",
      "execution_count": null,
      "metadata": {
        "id": "0sTuqIyeuTMw",
        "outputId": "1a65afd3-eeff-4e2a-b9ee-ea5b6ecf179c"
      },
      "outputs": [
        {
          "data": {
            "text/html": [
              "<div>\n",
              "<style scoped>\n",
              "    .dataframe tbody tr th:only-of-type {\n",
              "        vertical-align: middle;\n",
              "    }\n",
              "\n",
              "    .dataframe tbody tr th {\n",
              "        vertical-align: top;\n",
              "    }\n",
              "\n",
              "    .dataframe thead th {\n",
              "        text-align: right;\n",
              "    }\n",
              "</style>\n",
              "<table border=\"1\" class=\"dataframe\">\n",
              "  <thead>\n",
              "    <tr style=\"text-align: right;\">\n",
              "      <th></th>\n",
              "      <th>% varianza explicada</th>\n",
              "      <th>% varianza acumulada</th>\n",
              "    </tr>\n",
              "  </thead>\n",
              "  <tbody>\n",
              "    <tr>\n",
              "      <th>PC1</th>\n",
              "      <td>42.28</td>\n",
              "      <td>42.277891</td>\n",
              "    </tr>\n",
              "    <tr>\n",
              "      <th>PC2</th>\n",
              "      <td>12.26</td>\n",
              "      <td>54.533132</td>\n",
              "    </tr>\n",
              "    <tr>\n",
              "      <th>PC3</th>\n",
              "      <td>7.46</td>\n",
              "      <td>61.997411</td>\n",
              "    </tr>\n",
              "    <tr>\n",
              "      <th>PC4</th>\n",
              "      <td>6.61</td>\n",
              "      <td>68.605797</td>\n",
              "    </tr>\n",
              "    <tr>\n",
              "      <th>PC5</th>\n",
              "      <td>6.31</td>\n",
              "      <td>74.918180</td>\n",
              "    </tr>\n",
              "    <tr>\n",
              "      <th>PC6</th>\n",
              "      <td>6.23</td>\n",
              "      <td>81.152296</td>\n",
              "    </tr>\n",
              "    <tr>\n",
              "      <th>PC7</th>\n",
              "      <td>5.57</td>\n",
              "      <td>86.721112</td>\n",
              "    </tr>\n",
              "    <tr>\n",
              "      <th>PC8</th>\n",
              "      <td>5.19</td>\n",
              "      <td>91.911302</td>\n",
              "    </tr>\n",
              "    <tr>\n",
              "      <th>PC9</th>\n",
              "      <td>5.05</td>\n",
              "      <td>96.963631</td>\n",
              "    </tr>\n",
              "    <tr>\n",
              "      <th>PC10</th>\n",
              "      <td>1.89</td>\n",
              "      <td>98.852509</td>\n",
              "    </tr>\n",
              "    <tr>\n",
              "      <th>PC11</th>\n",
              "      <td>0.51</td>\n",
              "      <td>99.359679</td>\n",
              "    </tr>\n",
              "    <tr>\n",
              "      <th>PC12</th>\n",
              "      <td>0.29</td>\n",
              "      <td>99.652989</td>\n",
              "    </tr>\n",
              "    <tr>\n",
              "      <th>PC13</th>\n",
              "      <td>0.18</td>\n",
              "      <td>99.833971</td>\n",
              "    </tr>\n",
              "    <tr>\n",
              "      <th>PC14</th>\n",
              "      <td>0.17</td>\n",
              "      <td>100.000000</td>\n",
              "    </tr>\n",
              "  </tbody>\n",
              "</table>\n",
              "</div>"
            ],
            "text/plain": [
              "      % varianza explicada  % varianza acumulada\n",
              "PC1                  42.28             42.277891\n",
              "PC2                  12.26             54.533132\n",
              "PC3                   7.46             61.997411\n",
              "PC4                   6.61             68.605797\n",
              "PC5                   6.31             74.918180\n",
              "PC6                   6.23             81.152296\n",
              "PC7                   5.57             86.721112\n",
              "PC8                   5.19             91.911302\n",
              "PC9                   5.05             96.963631\n",
              "PC10                  1.89             98.852509\n",
              "PC11                  0.51             99.359679\n",
              "PC12                  0.29             99.652989\n",
              "PC13                  0.18             99.833971\n",
              "PC14                  0.17            100.000000"
            ]
          },
          "execution_count": 13,
          "metadata": {},
          "output_type": "execute_result"
        }
      ],
      "source": [
        "pcsSummary_df = pd.DataFrame({ \n",
        "    '% varianza explicada': np.round(pca.explained_variance_ratio_,4) * 100,\n",
        "    '% varianza acumulada': np.cumsum(pca.explained_variance_ratio_) * 100\n",
        "    })\n",
        "pcs_labels = [f'PC{i + 1}' for i in range(len(scaled_df.columns))]\n",
        "pcsSummary_df.index = pcs_labels\n",
        "pcsSummary_df\n"
      ]
    },
    {
      "cell_type": "code",
      "execution_count": null,
      "metadata": {
        "id": "OfaSufFFuTMx",
        "outputId": "9fce100d-f4b0-46dd-e63e-1ccbbd4d4a95"
      },
      "outputs": [
        {
          "name": "stdout",
          "output_type": "stream",
          "text": [
            "Varianza total variables originales:  14.00046733651562\n",
            "Varianza total de los componentes:  14.000467336515701\n"
          ]
        }
      ],
      "source": [
        "pcs_df = pd.DataFrame(pca_fit, columns =pcs_labels)\n",
        "print(\"Varianza total variables originales: \", scaled_df.var().sum())\n",
        "print(\"Varianza total de los componentes: \", pcs_df.var().sum())"
      ]
    },
    {
      "cell_type": "code",
      "execution_count": null,
      "metadata": {
        "id": "cfp4HTEjuTMy",
        "outputId": "2976f43c-3a9c-4b15-8ed1-d964badb7194"
      },
      "outputs": [
        {
          "data": {
            "text/html": [
              "<div>\n",
              "<style scoped>\n",
              "    .dataframe tbody tr th:only-of-type {\n",
              "        vertical-align: middle;\n",
              "    }\n",
              "\n",
              "    .dataframe tbody tr th {\n",
              "        vertical-align: top;\n",
              "    }\n",
              "\n",
              "    .dataframe thead th {\n",
              "        text-align: right;\n",
              "    }\n",
              "</style>\n",
              "<table border=\"1\" class=\"dataframe\">\n",
              "  <thead>\n",
              "    <tr style=\"text-align: right;\">\n",
              "      <th></th>\n",
              "      <th>PC1</th>\n",
              "      <th>PC2</th>\n",
              "      <th>PC3</th>\n",
              "      <th>PC4</th>\n",
              "      <th>PC5</th>\n",
              "      <th>PC6</th>\n",
              "      <th>PC7</th>\n",
              "      <th>PC8</th>\n",
              "      <th>PC9</th>\n",
              "      <th>PC10</th>\n",
              "      <th>PC11</th>\n",
              "      <th>PC12</th>\n",
              "      <th>PC13</th>\n",
              "      <th>PC14</th>\n",
              "    </tr>\n",
              "  </thead>\n",
              "  <tbody>\n",
              "    <tr>\n",
              "      <th>MONTO</th>\n",
              "      <td>0.1655</td>\n",
              "      <td>0.0328</td>\n",
              "      <td>0.3724</td>\n",
              "      <td>0.3833</td>\n",
              "      <td>0.3883</td>\n",
              "      <td>0.3916</td>\n",
              "      <td>0.3885</td>\n",
              "      <td>0.3807</td>\n",
              "      <td>0.1351</td>\n",
              "      <td>0.1168</td>\n",
              "      <td>0.1281</td>\n",
              "      <td>0.1169</td>\n",
              "      <td>0.1137</td>\n",
              "      <td>0.1055</td>\n",
              "    </tr>\n",
              "    <tr>\n",
              "      <th>EDAD</th>\n",
              "      <td>0.3007</td>\n",
              "      <td>0.0719</td>\n",
              "      <td>-0.1908</td>\n",
              "      <td>-0.1746</td>\n",
              "      <td>-0.1269</td>\n",
              "      <td>-0.1204</td>\n",
              "      <td>-0.1059</td>\n",
              "      <td>-0.0942</td>\n",
              "      <td>0.3832</td>\n",
              "      <td>0.4084</td>\n",
              "      <td>0.3923</td>\n",
              "      <td>0.3496</td>\n",
              "      <td>0.3039</td>\n",
              "      <td>0.3235</td>\n",
              "    </tr>\n",
              "    <tr>\n",
              "      <th>MESPAG_SEP</th>\n",
              "      <td>-0.3786</td>\n",
              "      <td>-0.8695</td>\n",
              "      <td>-0.0342</td>\n",
              "      <td>-0.0018</td>\n",
              "      <td>0.0347</td>\n",
              "      <td>0.0341</td>\n",
              "      <td>0.0339</td>\n",
              "      <td>0.0185</td>\n",
              "      <td>0.1738</td>\n",
              "      <td>0.2009</td>\n",
              "      <td>0.1221</td>\n",
              "      <td>0.0623</td>\n",
              "      <td>-0.0609</td>\n",
              "      <td>-0.0509</td>\n",
              "    </tr>\n",
              "    <tr>\n",
              "      <th>MESPAG_AGO</th>\n",
              "      <td>-0.2001</td>\n",
              "      <td>0.3390</td>\n",
              "      <td>-0.0639</td>\n",
              "      <td>0.0076</td>\n",
              "      <td>0.0605</td>\n",
              "      <td>0.0748</td>\n",
              "      <td>0.0396</td>\n",
              "      <td>-0.0706</td>\n",
              "      <td>0.3621</td>\n",
              "      <td>0.3457</td>\n",
              "      <td>0.2447</td>\n",
              "      <td>-0.0947</td>\n",
              "      <td>-0.6098</td>\n",
              "      <td>-0.3657</td>\n",
              "    </tr>\n",
              "    <tr>\n",
              "      <th>MESPAG_JUL</th>\n",
              "      <td>0.0353</td>\n",
              "      <td>-0.0398</td>\n",
              "      <td>0.0414</td>\n",
              "      <td>0.0832</td>\n",
              "      <td>0.1138</td>\n",
              "      <td>0.0284</td>\n",
              "      <td>-0.1068</td>\n",
              "      <td>-0.1650</td>\n",
              "      <td>0.2257</td>\n",
              "      <td>0.1487</td>\n",
              "      <td>-0.2396</td>\n",
              "      <td>-0.5778</td>\n",
              "      <td>-0.1934</td>\n",
              "      <td>0.6592</td>\n",
              "    </tr>\n",
              "    <tr>\n",
              "      <th>MESPAG_JUN</th>\n",
              "      <td>-0.0789</td>\n",
              "      <td>0.0715</td>\n",
              "      <td>-0.0440</td>\n",
              "      <td>-0.0288</td>\n",
              "      <td>0.0992</td>\n",
              "      <td>0.0145</td>\n",
              "      <td>-0.0993</td>\n",
              "      <td>0.0693</td>\n",
              "      <td>0.0406</td>\n",
              "      <td>0.4084</td>\n",
              "      <td>-0.1082</td>\n",
              "      <td>-0.5008</td>\n",
              "      <td>0.6024</td>\n",
              "      <td>-0.4092</td>\n",
              "    </tr>\n",
              "    <tr>\n",
              "      <th>MESPAG_MAY</th>\n",
              "      <td>0.1112</td>\n",
              "      <td>-0.0788</td>\n",
              "      <td>0.0082</td>\n",
              "      <td>-0.0324</td>\n",
              "      <td>-0.1212</td>\n",
              "      <td>0.1265</td>\n",
              "      <td>-0.0076</td>\n",
              "      <td>0.0079</td>\n",
              "      <td>-0.2016</td>\n",
              "      <td>-0.2788</td>\n",
              "      <td>0.7852</td>\n",
              "      <td>-0.4622</td>\n",
              "      <td>0.0143</td>\n",
              "      <td>0.0255</td>\n",
              "    </tr>\n",
              "    <tr>\n",
              "      <th>MESPAG_ABR</th>\n",
              "      <td>-0.0464</td>\n",
              "      <td>0.0274</td>\n",
              "      <td>0.0093</td>\n",
              "      <td>-0.1356</td>\n",
              "      <td>0.0931</td>\n",
              "      <td>0.0392</td>\n",
              "      <td>0.0498</td>\n",
              "      <td>-0.0003</td>\n",
              "      <td>-0.7487</td>\n",
              "      <td>0.5785</td>\n",
              "      <td>0.0682</td>\n",
              "      <td>0.0778</td>\n",
              "      <td>-0.1649</td>\n",
              "      <td>0.1813</td>\n",
              "    </tr>\n",
              "    <tr>\n",
              "      <th>MPA_SEP</th>\n",
              "      <td>-0.8220</td>\n",
              "      <td>0.3303</td>\n",
              "      <td>0.0103</td>\n",
              "      <td>0.0169</td>\n",
              "      <td>-0.0186</td>\n",
              "      <td>0.0191</td>\n",
              "      <td>0.0237</td>\n",
              "      <td>0.0587</td>\n",
              "      <td>0.0199</td>\n",
              "      <td>-0.1107</td>\n",
              "      <td>0.1530</td>\n",
              "      <td>0.0988</td>\n",
              "      <td>0.2529</td>\n",
              "      <td>0.3167</td>\n",
              "    </tr>\n",
              "    <tr>\n",
              "      <th>MPA_AGO</th>\n",
              "      <td>-0.0292</td>\n",
              "      <td>-0.0090</td>\n",
              "      <td>0.5667</td>\n",
              "      <td>0.3869</td>\n",
              "      <td>0.1229</td>\n",
              "      <td>-0.2053</td>\n",
              "      <td>-0.4200</td>\n",
              "      <td>-0.4889</td>\n",
              "      <td>-0.0566</td>\n",
              "      <td>0.0509</td>\n",
              "      <td>0.1449</td>\n",
              "      <td>0.1241</td>\n",
              "      <td>0.0600</td>\n",
              "      <td>-0.0992</td>\n",
              "    </tr>\n",
              "    <tr>\n",
              "      <th>MPA_JUL</th>\n",
              "      <td>-0.0062</td>\n",
              "      <td>0.0001</td>\n",
              "      <td>0.4160</td>\n",
              "      <td>0.0384</td>\n",
              "      <td>-0.4848</td>\n",
              "      <td>-0.5232</td>\n",
              "      <td>0.0684</td>\n",
              "      <td>0.5133</td>\n",
              "      <td>0.0475</td>\n",
              "      <td>0.1473</td>\n",
              "      <td>0.0001</td>\n",
              "      <td>-0.1158</td>\n",
              "      <td>-0.0995</td>\n",
              "      <td>0.0350</td>\n",
              "    </tr>\n",
              "    <tr>\n",
              "      <th>MPA_JUN</th>\n",
              "      <td>0.0157</td>\n",
              "      <td>-0.0014</td>\n",
              "      <td>-0.4330</td>\n",
              "      <td>0.3451</td>\n",
              "      <td>0.4958</td>\n",
              "      <td>-0.4896</td>\n",
              "      <td>-0.2495</td>\n",
              "      <td>0.3387</td>\n",
              "      <td>-0.0694</td>\n",
              "      <td>-0.0689</td>\n",
              "      <td>0.1247</td>\n",
              "      <td>0.0010</td>\n",
              "      <td>-0.0694</td>\n",
              "      <td>0.0277</td>\n",
              "    </tr>\n",
              "    <tr>\n",
              "      <th>MPA_MAY</th>\n",
              "      <td>-0.0004</td>\n",
              "      <td>0.0001</td>\n",
              "      <td>-0.1838</td>\n",
              "      <td>0.3295</td>\n",
              "      <td>-0.0865</td>\n",
              "      <td>-0.3621</td>\n",
              "      <td>0.7184</td>\n",
              "      <td>-0.4277</td>\n",
              "      <td>-0.0448</td>\n",
              "      <td>0.0389</td>\n",
              "      <td>0.0254</td>\n",
              "      <td>-0.0807</td>\n",
              "      <td>0.0952</td>\n",
              "      <td>-0.0172</td>\n",
              "    </tr>\n",
              "    <tr>\n",
              "      <th>MPA_ABR</th>\n",
              "      <td>0.0033</td>\n",
              "      <td>0.0011</td>\n",
              "      <td>-0.3166</td>\n",
              "      <td>0.6452</td>\n",
              "      <td>-0.5276</td>\n",
              "      <td>0.3461</td>\n",
              "      <td>-0.2267</td>\n",
              "      <td>0.0723</td>\n",
              "      <td>-0.0846</td>\n",
              "      <td>0.1249</td>\n",
              "      <td>-0.0631</td>\n",
              "      <td>0.0423</td>\n",
              "      <td>-0.0085</td>\n",
              "      <td>0.0083</td>\n",
              "    </tr>\n",
              "  </tbody>\n",
              "</table>\n",
              "</div>"
            ],
            "text/plain": [
              "               PC1     PC2     PC3     PC4     PC5     PC6     PC7     PC8  \\\n",
              "MONTO       0.1655  0.0328  0.3724  0.3833  0.3883  0.3916  0.3885  0.3807   \n",
              "EDAD        0.3007  0.0719 -0.1908 -0.1746 -0.1269 -0.1204 -0.1059 -0.0942   \n",
              "MESPAG_SEP -0.3786 -0.8695 -0.0342 -0.0018  0.0347  0.0341  0.0339  0.0185   \n",
              "MESPAG_AGO -0.2001  0.3390 -0.0639  0.0076  0.0605  0.0748  0.0396 -0.0706   \n",
              "MESPAG_JUL  0.0353 -0.0398  0.0414  0.0832  0.1138  0.0284 -0.1068 -0.1650   \n",
              "MESPAG_JUN -0.0789  0.0715 -0.0440 -0.0288  0.0992  0.0145 -0.0993  0.0693   \n",
              "MESPAG_MAY  0.1112 -0.0788  0.0082 -0.0324 -0.1212  0.1265 -0.0076  0.0079   \n",
              "MESPAG_ABR -0.0464  0.0274  0.0093 -0.1356  0.0931  0.0392  0.0498 -0.0003   \n",
              "MPA_SEP    -0.8220  0.3303  0.0103  0.0169 -0.0186  0.0191  0.0237  0.0587   \n",
              "MPA_AGO    -0.0292 -0.0090  0.5667  0.3869  0.1229 -0.2053 -0.4200 -0.4889   \n",
              "MPA_JUL    -0.0062  0.0001  0.4160  0.0384 -0.4848 -0.5232  0.0684  0.5133   \n",
              "MPA_JUN     0.0157 -0.0014 -0.4330  0.3451  0.4958 -0.4896 -0.2495  0.3387   \n",
              "MPA_MAY    -0.0004  0.0001 -0.1838  0.3295 -0.0865 -0.3621  0.7184 -0.4277   \n",
              "MPA_ABR     0.0033  0.0011 -0.3166  0.6452 -0.5276  0.3461 -0.2267  0.0723   \n",
              "\n",
              "               PC9    PC10    PC11    PC12    PC13    PC14  \n",
              "MONTO       0.1351  0.1168  0.1281  0.1169  0.1137  0.1055  \n",
              "EDAD        0.3832  0.4084  0.3923  0.3496  0.3039  0.3235  \n",
              "MESPAG_SEP  0.1738  0.2009  0.1221  0.0623 -0.0609 -0.0509  \n",
              "MESPAG_AGO  0.3621  0.3457  0.2447 -0.0947 -0.6098 -0.3657  \n",
              "MESPAG_JUL  0.2257  0.1487 -0.2396 -0.5778 -0.1934  0.6592  \n",
              "MESPAG_JUN  0.0406  0.4084 -0.1082 -0.5008  0.6024 -0.4092  \n",
              "MESPAG_MAY -0.2016 -0.2788  0.7852 -0.4622  0.0143  0.0255  \n",
              "MESPAG_ABR -0.7487  0.5785  0.0682  0.0778 -0.1649  0.1813  \n",
              "MPA_SEP     0.0199 -0.1107  0.1530  0.0988  0.2529  0.3167  \n",
              "MPA_AGO    -0.0566  0.0509  0.1449  0.1241  0.0600 -0.0992  \n",
              "MPA_JUL     0.0475  0.1473  0.0001 -0.1158 -0.0995  0.0350  \n",
              "MPA_JUN    -0.0694 -0.0689  0.1247  0.0010 -0.0694  0.0277  \n",
              "MPA_MAY    -0.0448  0.0389  0.0254 -0.0807  0.0952 -0.0172  \n",
              "MPA_ABR    -0.0846  0.1249 -0.0631  0.0423 -0.0085  0.0083  "
            ]
          },
          "execution_count": 16,
          "metadata": {},
          "output_type": "execute_result"
        }
      ],
      "source": [
        "#Mostramos la importancia de cada componente\n",
        "comps_df = pd.DataFrame(\n",
        "pca.components_.round(4),\n",
        "columns = pcs_df.columns,\n",
        "index = scaled_df.columns)\n",
        "comps_df.iloc[:,:14]"
      ]
    },
    {
      "cell_type": "markdown",
      "metadata": {
        "id": "c-UBsPE14k2O"
      },
      "source": [
        "## Elabora los histogramas de los atributos para visualizar su distribución"
      ]
    },
    {
      "cell_type": "code",
      "execution_count": null,
      "metadata": {
        "id": "f_jsIGYquTMz",
        "outputId": "ac40b2f7-a5de-4cb9-b753-72aae1583003"
      },
      "outputs": [
        {
          "data": {
            "text/plain": [
              "<AxesSubplot:>"
            ]
          },
          "execution_count": 17,
          "metadata": {},
          "output_type": "execute_result"
        },
        {
          "data": {
            "image/png": "[encoded data removed]",
            "text/plain": [
              "<Figure size 432x288 with 1 Axes>"
            ]
          },
          "metadata": {
            "needs_background": "light"
          },
          "output_type": "display_data"
        }
      ],
      "source": [
        "comps_df['PC1'].hist()"
      ]
    },
    {
      "cell_type": "code",
      "execution_count": null,
      "metadata": {
        "id": "cUz3du5xuTMz",
        "outputId": "8179b6fe-3cdb-4072-d273-992544e1aebd"
      },
      "outputs": [
        {
          "data": {
            "text/plain": [
              "<AxesSubplot:>"
            ]
          },
          "execution_count": 50,
          "metadata": {},
          "output_type": "execute_result"
        },
        {
          "data": {
            "image/png": "[encoded data removed]",
            "text/plain": [
              "<Figure size 432x288 with 1 Axes>"
            ]
          },
          "metadata": {
            "needs_background": "light"
          },
          "output_type": "display_data"
        }
      ],
      "source": [
        "comps_df['PC2'].hist()"
      ]
    },
    {
      "cell_type": "code",
      "execution_count": null,
      "metadata": {
        "id": "BWtovK2yuTMz",
        "outputId": "596ceeed-2bc3-47ab-aed8-0be42cf30648"
      },
      "outputs": [
        {
          "data": {
            "text/plain": [
              "<AxesSubplot:>"
            ]
          },
          "execution_count": 18,
          "metadata": {},
          "output_type": "execute_result"
        },
        {
          "data": {
            "image/png": "[encoded data removed]",
            "text/plain": [
              "<Figure size 432x288 with 1 Axes>"
            ]
          },
          "metadata": {
            "needs_background": "light"
          },
          "output_type": "display_data"
        }
      ],
      "source": [
        "comps_df['PC3'].hist()"
      ]
    },
    {
      "cell_type": "code",
      "execution_count": null,
      "metadata": {
        "id": "yjtgwc_54k2O",
        "outputId": "e556a427-b10e-41a6-9872-46a13db6c5ad"
      },
      "outputs": [
        {
          "data": {
            "text/plain": [
              "<AxesSubplot:>"
            ]
          },
          "execution_count": 19,
          "metadata": {},
          "output_type": "execute_result"
        },
        {
          "data": {
            "image/png": "[encoded data removed]",
            "text/plain": [
              "<Figure size 432x288 with 1 Axes>"
            ]
          },
          "metadata": {
            "needs_background": "light"
          },
          "output_type": "display_data"
        }
      ],
      "source": [
        "comps_df['PC4'].hist()"
      ]
    },
    {
      "cell_type": "code",
      "execution_count": null,
      "metadata": {
        "id": "BcuSB0Mb4k2O",
        "outputId": "31c1c767-caef-4760-9870-6304ed9ffe51"
      },
      "outputs": [
        {
          "data": {
            "text/plain": [
              "<AxesSubplot:>"
            ]
          },
          "execution_count": 20,
          "metadata": {},
          "output_type": "execute_result"
        },
        {
          "data": {
            "image/png": "[encoded data removed]",
            "text/plain": [
              "<Figure size 432x288 with 1 Axes>"
            ]
          },
          "metadata": {
            "needs_background": "light"
          },
          "output_type": "display_data"
        }
      ],
      "source": [
        "comps_df['PC5'].hist()"
      ]
    },
    {
      "cell_type": "markdown",
      "metadata": {
        "id": "Nxna2PH14k2P"
      },
      "source": [
        "## Realiza la visualización de los datos usando por lo menos 3 gráficos que consideres adecuados: plot, scatter, jointplot, boxplot, areaplot, pie chart, pairplot, bar chart, etc.\n",
        "Interpreta y explica cada uno de los gráficos indicando cuál es la información más relevante que podría ayudar en el proceso de toma de decisiones."
      ]
    },
    {
      "cell_type": "code",
      "execution_count": null,
      "metadata": {
        "id": "2VCBfOmauTM0",
        "outputId": "be0495a9-0765-4d5e-9d3e-de68db539dea"
      },
      "outputs": [
        {
          "data": {
            "image/png": "[encoded data removed]",
            "text/plain": [
              "<Figure size 1440x1440 with 2 Axes>"
            ]
          },
          "metadata": {
            "needs_background": "light"
          },
          "output_type": "display_data"
        }
      ],
      "source": [
        "corr=copy_df.corr()\n",
        "plt.figure(figsize=(20,20))\n",
        "sns.heatmap(corr,annot=True)\n",
        "plt.title=\"Correlación\"\n",
        "plt.show()"
      ]
    },
    {
      "cell_type": "markdown",
      "metadata": {
        "id": "Fp2-7QcW4k2P"
      },
      "source": [
        "# Grafica 1 Matriz de correlación\n",
        "Para este estudio del dataset del banco, el graficar en una matriz de correlación cuales son las variables que tienen entre si una correlación fuerte de más de .80\n",
        "Esto nos permitirá deducir cuales serán las variables candidato que el análisis de reducción de dimensiones sugiere como las mejores para simplificar el modelo\n",
        "Además, que después de toda la limpieza solo prevalecen las variables numéricas, en esta matriz no se incluye las variables categóricas"
      ]
    },
    {
      "cell_type": "code",
      "execution_count": null,
      "metadata": {
        "id": "ishqBcZn4k2P",
        "outputId": "f1d3c78d-85bc-47ec-8bd1-952dcfe6c732"
      },
      "outputs": [
        {
          "data": {
            "text/plain": [
              "array([[<AxesSubplot:title={'center':'ID'}>,\n",
              "        <AxesSubplot:title={'center':'MONTO'}>,\n",
              "        <AxesSubplot:title={'center':'GENERO'}>,\n",
              "        <AxesSubplot:title={'center':'GRADO_ESTUDIOS'}>,\n",
              "        <AxesSubplot:title={'center':'ESTADO_CIVIL'}>],\n",
              "       [<AxesSubplot:title={'center':'EDAD'}>,\n",
              "        <AxesSubplot:title={'center':'HIST_SEP'}>,\n",
              "        <AxesSubplot:title={'center':'HIST_AGO'}>,\n",
              "        <AxesSubplot:title={'center':'HIST_JUL'}>,\n",
              "        <AxesSubplot:title={'center':'HIST_JUN'}>],\n",
              "       [<AxesSubplot:title={'center':'HIST_MAY'}>,\n",
              "        <AxesSubplot:title={'center':'HIST_ABR'}>,\n",
              "        <AxesSubplot:title={'center':'MESPAG_SEP'}>,\n",
              "        <AxesSubplot:title={'center':'MESPAG_AGO'}>,\n",
              "        <AxesSubplot:title={'center':'MESPAG_JUL'}>],\n",
              "       [<AxesSubplot:title={'center':'MESPAG_JUN'}>,\n",
              "        <AxesSubplot:title={'center':'MESPAG_MAY'}>,\n",
              "        <AxesSubplot:title={'center':'MESPAG_ABR'}>,\n",
              "        <AxesSubplot:title={'center':'MPA_SEP'}>,\n",
              "        <AxesSubplot:title={'center':'MPA_AGO'}>],\n",
              "       [<AxesSubplot:title={'center':'MPA_JUL'}>,\n",
              "        <AxesSubplot:title={'center':'MPA_JUN'}>,\n",
              "        <AxesSubplot:title={'center':'MPA_MAY'}>,\n",
              "        <AxesSubplot:title={'center':'MPA_ABR'}>,\n",
              "        <AxesSubplot:title={'center':'Y'}>]], dtype=object)"
            ]
          },
          "execution_count": 19,
          "metadata": {},
          "output_type": "execute_result"
        },
        {
          "data": {
            "image/png": "[encoded data removed]",
            "text/plain": [
              "<Figure size 1440x1440 with 25 Axes>"
            ]
          },
          "metadata": {
            "needs_background": "light"
          },
          "output_type": "display_data"
        }
      ],
      "source": [
        "copy_df.hist( figsize=(20,20))"
      ]
    },
    {
      "cell_type": "markdown",
      "metadata": {
        "id": "NJVO2x1n4k2P"
      },
      "source": [
        "# Grafica histograma Data set\n",
        "En este caso use la gráfica conocida como histograma para poder apreciar como está relacionada la distribución de las variables del dataset, como se describió al inicio esta información parece que tiende a agruparse a la izquierda por lo que se podría asumir que se podrían aplicar transformaciones adicionales a la información para poder mejorar el rendimiento del futuro modelo de clasificación.\n",
        "También podemos observar que la mayoría de los montos de pago poseen valores cercanos a 0 y valores cercanos a 30000 por lo que esto podría afectar el estudio de las medidas de tendencia central\n"
      ]
    },
    {
      "cell_type": "code",
      "execution_count": null,
      "metadata": {
        "id": "sXUZ6WZ44k2Q",
        "outputId": "d8ed96ac-145f-4ae5-f8e1-4d1dfd140115"
      },
      "outputs": [
        {
          "data": {
            "image/png": "[encoded data removed]",
            "text/plain": [
              "<Figure size 1080x1080 with 1 Axes>"
            ]
          },
          "metadata": {
            "needs_background": "light"
          },
          "output_type": "display_data"
        }
      ],
      "source": [
        "plt.figure(figsize=(15,15))\n",
        "plt.scatter(copy_df['EDAD'],copy_df['MONTO'], c =\"blue\")\n",
        " \n",
        "# To show the plot\n",
        "plt.show()"
      ]
    },
    {
      "cell_type": "markdown",
      "metadata": {
        "id": "QM9GZV624k2Q"
      },
      "source": [
        "# Grafica 3 Scatter plot\n",
        "En esta grafica se trazó la relación de la edad y el monto recibido de crédito, con el fin de obtener mejor contexto de la situación del banco y de esta manera saber si los resultados de nuestro predictor describen correctamente la situación de la empresa.\n",
        "En este caso podemos observas que la edad promedio para poder solicitar un crédito grande seria de los 30 años hasta lo 50 años. Después de esto el monto comienza a descender y ser cada vez menos común. Acción que es común en instituciones bancarias\n"
      ]
    }
  ],
  "metadata": {
    "colab": {
      "provenance": [],
      "include_colab_link": true
    },
    "kernelspec": {
      "display_name": "Python 3.8.8 ('base')",
      "language": "python",
      "name": "python3"
    },
    "language_info": {
      "codemirror_mode": {
        "name": "ipython",
        "version": 3
      },
      "file_extension": ".py",
      "mimetype": "text/x-python",
      "name": "python",
      "nbconvert_exporter": "python",
      "pygments_lexer": "ipython3",
      "version": "3.8.8"
    },
    "orig_nbformat": 4,
    "vscode": {
      "interpreter": {
        "hash": "c52da4db0cc24982f172e6f7976463ee5edeec35eac07f0e6ceac694ec92108f"
      }
    }
  },
  "nbformat": 4,
  "nbformat_minor": 0
}